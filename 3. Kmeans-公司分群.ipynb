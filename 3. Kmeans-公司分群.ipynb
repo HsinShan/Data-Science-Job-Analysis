{
 "cells": [
  {
   "cell_type": "code",
   "execution_count": 82,
   "metadata": {},
   "outputs": [],
   "source": [
    "import pandas as pd\n",
    "import numpy as np\n",
    "import matplotlib.pyplot as plt\n",
    "import seaborn as sns\n",
    "from sklearn.cluster import KMeans\n",
    "import scipy.stats as stat\n",
    "from statsmodels.stats.multicomp import pairwise_tukeyhsd"
   ]
  },
  {
   "cell_type": "code",
   "execution_count": 2,
   "metadata": {},
   "outputs": [],
   "source": [
    "data = pd.read_csv('Preliminary Processed Data.csv')"
   ]
  },
  {
   "cell_type": "code",
   "execution_count": 3,
   "metadata": {},
   "outputs": [
    {
     "data": {
      "text/plain": [
       "Index(['Type', 'Job Title', 'Salary Estimate', 'Job Description', 'Rating',\n",
       "       'Company Name', 'Location', 'Headquarters', 'Size', 'Founded',\n",
       "       'Type of ownership', 'Industry', 'Sector', 'Revenue', 'Competitors',\n",
       "       'Easy Apply', 'Salary Min', 'Salary Max', 'Salary Avg', 'Location City',\n",
       "       'Location State', 'Headquarter State', 'Period', 'Competitors Count'],\n",
       "      dtype='object')"
      ]
     },
     "execution_count": 3,
     "metadata": {},
     "output_type": "execute_result"
    }
   ],
   "source": [
    "data.columns"
   ]
  },
  {
   "cell_type": "markdown",
   "metadata": {},
   "source": [
    "## Remove NA cols\n",
    "使用 ['Rating', 'Size', 'Revenue', 'Salary Avg','Period', 'Competitors Count'] 做分群    \n",
    "因此移除這些欄位有缺值的資料"
   ]
  },
  {
   "cell_type": "code",
   "execution_count": 4,
   "metadata": {},
   "outputs": [],
   "source": [
    "data = data[~((data['Rating'] < 0) | (data['Size'] == '-1') | (data['Size'] == 'Unknown') | (data['Founded'] == -1) | (data['Revenue'] == '-1') | (data['Revenue'] == 'Unknown / Non-Applicable'))]"
   ]
  },
  {
   "cell_type": "code",
   "execution_count": 5,
   "metadata": {},
   "outputs": [
    {
     "data": {
      "text/plain": [
       "Type\n",
       "Business Analyst    2482\n",
       "Data Analyst        1213\n",
       "Data Engineer       1479\n",
       "Data Scientist      2137\n",
       "dtype: int64"
      ]
     },
     "execution_count": 5,
     "metadata": {},
     "output_type": "execute_result"
    }
   ],
   "source": [
    "data.groupby(by=['Type']).size()"
   ]
  },
  {
   "cell_type": "markdown",
   "metadata": {},
   "source": [
    "## 處理公司規模及公司營收欄位"
   ]
  },
  {
   "cell_type": "code",
   "execution_count": 18,
   "metadata": {},
   "outputs": [
    {
     "data": {
      "text/plain": [
       "array(['51 to 200 employees', '1001 to 5000 employees',\n",
       "       '501 to 1000 employees', '10000+ employees', '1 to 50 employees',\n",
       "       '201 to 500 employees', '5001 to 10000 employees'], dtype=object)"
      ]
     },
     "execution_count": 18,
     "metadata": {},
     "output_type": "execute_result"
    }
   ],
   "source": [
    "data['Size'].unique()"
   ]
  },
  {
   "cell_type": "code",
   "execution_count": 19,
   "metadata": {},
   "outputs": [],
   "source": [
    "data['Size_le'] = data['Size'].map({\n",
    "    '1 to 50 employees': 1, \n",
    "    '51 to 200 employees': 2, \n",
    "    '201 to 500 employees': 3, \n",
    "    '501 to 1000 employees': 4, \n",
    "    '1001 to 5000 employees': 5, \n",
    "    '5001 to 10000 employees': 6,\n",
    "    '10000+ employees': 7\n",
    "})"
   ]
  },
  {
   "cell_type": "code",
   "execution_count": 20,
   "metadata": {},
   "outputs": [],
   "source": [
    "data['Revenue_le'] = data['Revenue'].map({\n",
    "    'Less than $1 million (USD)': 1,\n",
    "    '$1 to $5 million (USD)': 2,\n",
    "    '$5 to $10 million (USD)': 3,\n",
    "    '$10 to $25 million (USD)': 4, \n",
    "    '$25 to $50 million (USD)': 5,\n",
    "    '$50 to $100 million (USD)': 6, \n",
    "    '$100 to $500 million (USD)': 7, \n",
    "    '$500 million to $1 billion (USD)': 8,\n",
    "    '$1 to $2 billion (USD)': 9,\n",
    "    '$2 to $5 billion (USD)': 10, \n",
    "    '$5 to $10 billion (USD)': 11, \n",
    "    '$10+ billion (USD)': 12,  \n",
    "})\n"
   ]
  },
  {
   "cell_type": "markdown",
   "metadata": {},
   "source": [
    "## Group by Company"
   ]
  },
  {
   "cell_type": "code",
   "execution_count": 21,
   "metadata": {},
   "outputs": [
    {
     "data": {
      "text/plain": [
       "3027"
      ]
     },
     "execution_count": 21,
     "metadata": {},
     "output_type": "execute_result"
    }
   ],
   "source": [
    "len((data['Company Name'] + data['Location State']).unique())"
   ]
  },
  {
   "cell_type": "code",
   "execution_count": 22,
   "metadata": {},
   "outputs": [
    {
     "data": {
      "text/plain": [
       "2241"
      ]
     },
     "execution_count": 22,
     "metadata": {},
     "output_type": "execute_result"
    }
   ],
   "source": [
    "len(data['Company Name'].unique())"
   ]
  },
  {
   "cell_type": "code",
   "execution_count": 23,
   "metadata": {},
   "outputs": [],
   "source": [
    "data['Company'] = data['Company Name'] + data['Location State']"
   ]
  },
  {
   "cell_type": "code",
   "execution_count": 25,
   "metadata": {},
   "outputs": [],
   "source": [
    "company_df = data.groupby(by=['Company']).mean()"
   ]
  },
  {
   "cell_type": "code",
   "execution_count": 26,
   "metadata": {},
   "outputs": [
    {
     "data": {
      "text/html": [
       "<div>\n",
       "<style scoped>\n",
       "    .dataframe tbody tr th:only-of-type {\n",
       "        vertical-align: middle;\n",
       "    }\n",
       "\n",
       "    .dataframe tbody tr th {\n",
       "        vertical-align: top;\n",
       "    }\n",
       "\n",
       "    .dataframe thead th {\n",
       "        text-align: right;\n",
       "    }\n",
       "</style>\n",
       "<table border=\"1\" class=\"dataframe\">\n",
       "  <thead>\n",
       "    <tr style=\"text-align: right;\">\n",
       "      <th></th>\n",
       "      <th>Rating</th>\n",
       "      <th>Founded</th>\n",
       "      <th>Easy Apply</th>\n",
       "      <th>Salary Min</th>\n",
       "      <th>Salary Max</th>\n",
       "      <th>Salary Avg</th>\n",
       "      <th>Period</th>\n",
       "      <th>Competitors Count</th>\n",
       "      <th>Size_le</th>\n",
       "      <th>Revenue_le</th>\n",
       "    </tr>\n",
       "    <tr>\n",
       "      <th>Company</th>\n",
       "      <th></th>\n",
       "      <th></th>\n",
       "      <th></th>\n",
       "      <th></th>\n",
       "      <th></th>\n",
       "      <th></th>\n",
       "      <th></th>\n",
       "      <th></th>\n",
       "      <th></th>\n",
       "      <th></th>\n",
       "    </tr>\n",
       "  </thead>\n",
       "  <tbody>\n",
       "    <tr>\n",
       "      <th>1-800-Flowers NY</th>\n",
       "      <td>2.8</td>\n",
       "      <td>1976.0</td>\n",
       "      <td>-1.0</td>\n",
       "      <td>129.0</td>\n",
       "      <td>210.0</td>\n",
       "      <td>169.5</td>\n",
       "      <td>44.0</td>\n",
       "      <td>2.0</td>\n",
       "      <td>5.0</td>\n",
       "      <td>9.0</td>\n",
       "    </tr>\n",
       "    <tr>\n",
       "      <th>1-800-Flowers.com IL</th>\n",
       "      <td>2.8</td>\n",
       "      <td>1976.0</td>\n",
       "      <td>-1.0</td>\n",
       "      <td>91.0</td>\n",
       "      <td>105.0</td>\n",
       "      <td>98.0</td>\n",
       "      <td>44.0</td>\n",
       "      <td>2.0</td>\n",
       "      <td>5.0</td>\n",
       "      <td>9.0</td>\n",
       "    </tr>\n",
       "    <tr>\n",
       "      <th>10th Magnitude IL</th>\n",
       "      <td>4.6</td>\n",
       "      <td>2010.0</td>\n",
       "      <td>-1.0</td>\n",
       "      <td>64.0</td>\n",
       "      <td>104.0</td>\n",
       "      <td>84.0</td>\n",
       "      <td>10.0</td>\n",
       "      <td>2.0</td>\n",
       "      <td>1.0</td>\n",
       "      <td>3.0</td>\n",
       "    </tr>\n",
       "    <tr>\n",
       "      <th>120VC CA</th>\n",
       "      <td>4.6</td>\n",
       "      <td>2000.0</td>\n",
       "      <td>-1.0</td>\n",
       "      <td>102.0</td>\n",
       "      <td>160.0</td>\n",
       "      <td>131.0</td>\n",
       "      <td>20.0</td>\n",
       "      <td>13.0</td>\n",
       "      <td>2.0</td>\n",
       "      <td>4.0</td>\n",
       "    </tr>\n",
       "    <tr>\n",
       "      <th>22nd Century Technologies AZ</th>\n",
       "      <td>3.7</td>\n",
       "      <td>1997.0</td>\n",
       "      <td>1.0</td>\n",
       "      <td>44.0</td>\n",
       "      <td>83.0</td>\n",
       "      <td>63.5</td>\n",
       "      <td>23.0</td>\n",
       "      <td>2.0</td>\n",
       "      <td>5.0</td>\n",
       "      <td>5.0</td>\n",
       "    </tr>\n",
       "  </tbody>\n",
       "</table>\n",
       "</div>"
      ],
      "text/plain": [
       "                              Rating  Founded  Easy Apply  Salary Min  \\\n",
       "Company                                                                 \n",
       "1-800-Flowers NY                 2.8   1976.0        -1.0       129.0   \n",
       "1-800-Flowers.com IL             2.8   1976.0        -1.0        91.0   \n",
       "10th Magnitude IL                4.6   2010.0        -1.0        64.0   \n",
       "120VC CA                         4.6   2000.0        -1.0       102.0   \n",
       "22nd Century Technologies AZ     3.7   1997.0         1.0        44.0   \n",
       "\n",
       "                              Salary Max  Salary Avg  Period  \\\n",
       "Company                                                        \n",
       "1-800-Flowers NY                   210.0       169.5    44.0   \n",
       "1-800-Flowers.com IL               105.0        98.0    44.0   \n",
       "10th Magnitude IL                  104.0        84.0    10.0   \n",
       "120VC CA                           160.0       131.0    20.0   \n",
       "22nd Century Technologies AZ        83.0        63.5    23.0   \n",
       "\n",
       "                              Competitors Count  Size_le  Revenue_le  \n",
       "Company                                                               \n",
       "1-800-Flowers NY                            2.0      5.0         9.0  \n",
       "1-800-Flowers.com IL                        2.0      5.0         9.0  \n",
       "10th Magnitude IL                           2.0      1.0         3.0  \n",
       "120VC CA                                   13.0      2.0         4.0  \n",
       "22nd Century Technologies AZ                2.0      5.0         5.0  "
      ]
     },
     "execution_count": 26,
     "metadata": {},
     "output_type": "execute_result"
    }
   ],
   "source": [
    "company_df.head()"
   ]
  },
  {
   "cell_type": "markdown",
   "metadata": {},
   "source": [
    "## Kmeans Clustering"
   ]
  },
  {
   "cell_type": "code",
   "execution_count": 27,
   "metadata": {},
   "outputs": [],
   "source": [
    "cols = ['Rating', 'Size_le', 'Revenue_le', 'Salary Avg','Period', 'Competitors Count']"
   ]
  },
  {
   "cell_type": "code",
   "execution_count": 28,
   "metadata": {},
   "outputs": [],
   "source": [
    "distortions = []\n",
    "K = range(1,10)\n",
    "for k in K:\n",
    "    kmeanModel = KMeans(n_clusters=k)\n",
    "    kmeanModel.fit(company_df[cols])\n",
    "    distortions.append(kmeanModel.inertia_)"
   ]
  },
  {
   "cell_type": "code",
   "execution_count": 29,
   "metadata": {},
   "outputs": [
    {
     "data": {
      "image/png": "[encoded data removed]",
      "text/plain": [
       "<Figure size 720x576 with 1 Axes>"
      ]
     },
     "metadata": {
      "needs_background": "light"
     },
     "output_type": "display_data"
    }
   ],
   "source": [
    "plt.figure(figsize=(10,8))\n",
    "plt.plot(K, distortions, 'bx-')\n",
    "plt.xlabel('k')\n",
    "plt.ylabel('Distortion')\n",
    "plt.title('The Elbow Method showing the optimal k')\n",
    "plt.show()"
   ]
  },
  {
   "cell_type": "code",
   "execution_count": 30,
   "metadata": {},
   "outputs": [
    {
     "data": {
      "text/plain": [
       "KMeans(n_clusters=4)"
      ]
     },
     "execution_count": 30,
     "metadata": {},
     "output_type": "execute_result"
    }
   ],
   "source": [
    "kmeanModel = KMeans(n_clusters=4)\n",
    "kmeanModel.fit(company_df[cols])"
   ]
  },
  {
   "cell_type": "code",
   "execution_count": 31,
   "metadata": {},
   "outputs": [],
   "source": [
    "company_df['Cluster'] = kmeanModel.predict(company_df[cols])"
   ]
  },
  {
   "cell_type": "code",
   "execution_count": 32,
   "metadata": {},
   "outputs": [
    {
     "data": {
      "text/plain": [
       "Cluster\n",
       "0    1616\n",
       "1     430\n",
       "2     793\n",
       "3     188\n",
       "dtype: int64"
      ]
     },
     "execution_count": 32,
     "metadata": {},
     "output_type": "execute_result"
    }
   ],
   "source": [
    "company_df.groupby(by=['Cluster']).size()"
   ]
  },
  {
   "cell_type": "code",
   "execution_count": 33,
   "metadata": {},
   "outputs": [
    {
     "data": {
      "text/plain": [
       "<AxesSubplot:xlabel='Cluster', ylabel='Revenue_le'>"
      ]
     },
     "execution_count": 33,
     "metadata": {},
     "output_type": "execute_result"
    },
    {
     "data": {
      "image/png": "[encoded data removed]",
      "text/plain": [
       "<Figure size 864x1080 with 8 Axes>"
      ]
     },
     "metadata": {
      "needs_background": "light"
     },
     "output_type": "display_data"
    }
   ],
   "source": [
    "f, axes = plt.subplots(nrows=4, ncols=2, figsize=(12, 15))\n",
    "sns.boxplot(data=company_df, y=\"Salary Min\", x=\"Cluster\", ax=axes[0, 0])\n",
    "sns.boxplot(data=company_df, y=\"Salary Avg\", x=\"Cluster\", ax=axes[0, 1])\n",
    "sns.boxplot(data=company_df, y=\"Salary Max\", x=\"Cluster\", ax=axes[1, 0])\n",
    "sns.boxplot(data=company_df, y=\"Rating\", x=\"Cluster\", ax=axes[1, 1])\n",
    "sns.boxplot(data=company_df, y=\"Period\", x=\"Cluster\", ax=axes[2, 0])\n",
    "sns.boxplot(data=company_df, y=\"Competitors Count\", x=\"Cluster\", ax=axes[2, 1])\n",
    "sns.boxplot(data=company_df, y=\"Size_le\", x=\"Cluster\", ax=axes[3, 0])\n",
    "sns.boxplot(data=company_df, y=\"Revenue_le\", x=\"Cluster\", ax=axes[3, 1])"
   ]
  },
  {
   "cell_type": "code",
   "execution_count": 34,
   "metadata": {},
   "outputs": [
    {
     "data": {
      "text/html": [
       "<div>\n",
       "<style scoped>\n",
       "    .dataframe tbody tr th:only-of-type {\n",
       "        vertical-align: middle;\n",
       "    }\n",
       "\n",
       "    .dataframe tbody tr th {\n",
       "        vertical-align: top;\n",
       "    }\n",
       "\n",
       "    .dataframe thead th {\n",
       "        text-align: right;\n",
       "    }\n",
       "</style>\n",
       "<table border=\"1\" class=\"dataframe\">\n",
       "  <thead>\n",
       "    <tr style=\"text-align: right;\">\n",
       "      <th>Size_le</th>\n",
       "      <th>1.0</th>\n",
       "      <th>2.0</th>\n",
       "      <th>3.0</th>\n",
       "      <th>4.0</th>\n",
       "      <th>5.0</th>\n",
       "      <th>6.0</th>\n",
       "      <th>6.5</th>\n",
       "      <th>7.0</th>\n",
       "    </tr>\n",
       "    <tr>\n",
       "      <th>Cluster</th>\n",
       "      <th></th>\n",
       "      <th></th>\n",
       "      <th></th>\n",
       "      <th></th>\n",
       "      <th></th>\n",
       "      <th></th>\n",
       "      <th></th>\n",
       "      <th></th>\n",
       "    </tr>\n",
       "  </thead>\n",
       "  <tbody>\n",
       "    <tr>\n",
       "      <th>0</th>\n",
       "      <td>109.0</td>\n",
       "      <td>289.0</td>\n",
       "      <td>267.0</td>\n",
       "      <td>173.0</td>\n",
       "      <td>394.0</td>\n",
       "      <td>113.0</td>\n",
       "      <td>NaN</td>\n",
       "      <td>271.0</td>\n",
       "    </tr>\n",
       "    <tr>\n",
       "      <th>1</th>\n",
       "      <td>1.0</td>\n",
       "      <td>5.0</td>\n",
       "      <td>20.0</td>\n",
       "      <td>27.0</td>\n",
       "      <td>97.0</td>\n",
       "      <td>54.0</td>\n",
       "      <td>1.0</td>\n",
       "      <td>225.0</td>\n",
       "    </tr>\n",
       "    <tr>\n",
       "      <th>2</th>\n",
       "      <td>53.0</td>\n",
       "      <td>171.0</td>\n",
       "      <td>113.0</td>\n",
       "      <td>95.0</td>\n",
       "      <td>176.0</td>\n",
       "      <td>47.0</td>\n",
       "      <td>NaN</td>\n",
       "      <td>138.0</td>\n",
       "    </tr>\n",
       "    <tr>\n",
       "      <th>3</th>\n",
       "      <td>NaN</td>\n",
       "      <td>NaN</td>\n",
       "      <td>4.0</td>\n",
       "      <td>1.0</td>\n",
       "      <td>19.0</td>\n",
       "      <td>13.0</td>\n",
       "      <td>NaN</td>\n",
       "      <td>151.0</td>\n",
       "    </tr>\n",
       "  </tbody>\n",
       "</table>\n",
       "</div>"
      ],
      "text/plain": [
       "Size_le    1.0    2.0    3.0    4.0    5.0    6.0  6.5    7.0\n",
       "Cluster                                                      \n",
       "0        109.0  289.0  267.0  173.0  394.0  113.0  NaN  271.0\n",
       "1          1.0    5.0   20.0   27.0   97.0   54.0  1.0  225.0\n",
       "2         53.0  171.0  113.0   95.0  176.0   47.0  NaN  138.0\n",
       "3          NaN    NaN    4.0    1.0   19.0   13.0  NaN  151.0"
      ]
     },
     "execution_count": 34,
     "metadata": {},
     "output_type": "execute_result"
    }
   ],
   "source": [
    "company_df.groupby(by=['Cluster', 'Size_le']).size().unstack()"
   ]
  },
  {
   "cell_type": "code",
   "execution_count": 35,
   "metadata": {},
   "outputs": [
    {
     "data": {
      "text/html": [
       "<div>\n",
       "<style scoped>\n",
       "    .dataframe tbody tr th:only-of-type {\n",
       "        vertical-align: middle;\n",
       "    }\n",
       "\n",
       "    .dataframe tbody tr th {\n",
       "        vertical-align: top;\n",
       "    }\n",
       "\n",
       "    .dataframe thead th {\n",
       "        text-align: right;\n",
       "    }\n",
       "</style>\n",
       "<table border=\"1\" class=\"dataframe\">\n",
       "  <thead>\n",
       "    <tr style=\"text-align: right;\">\n",
       "      <th>Revenue_le</th>\n",
       "      <th>1.0</th>\n",
       "      <th>2.0</th>\n",
       "      <th>3.0</th>\n",
       "      <th>4.0</th>\n",
       "      <th>5.0</th>\n",
       "      <th>6.0</th>\n",
       "      <th>7.0</th>\n",
       "      <th>8.0</th>\n",
       "      <th>9.0</th>\n",
       "      <th>10.0</th>\n",
       "      <th>11.0</th>\n",
       "      <th>11.4</th>\n",
       "      <th>12.0</th>\n",
       "    </tr>\n",
       "    <tr>\n",
       "      <th>Cluster</th>\n",
       "      <th></th>\n",
       "      <th></th>\n",
       "      <th></th>\n",
       "      <th></th>\n",
       "      <th></th>\n",
       "      <th></th>\n",
       "      <th></th>\n",
       "      <th></th>\n",
       "      <th></th>\n",
       "      <th></th>\n",
       "      <th></th>\n",
       "      <th></th>\n",
       "      <th></th>\n",
       "    </tr>\n",
       "  </thead>\n",
       "  <tbody>\n",
       "    <tr>\n",
       "      <th>0</th>\n",
       "      <td>23.0</td>\n",
       "      <td>74.0</td>\n",
       "      <td>66.0</td>\n",
       "      <td>195.0</td>\n",
       "      <td>171.0</td>\n",
       "      <td>195.0</td>\n",
       "      <td>340.0</td>\n",
       "      <td>117.0</td>\n",
       "      <td>91.0</td>\n",
       "      <td>135.0</td>\n",
       "      <td>67.0</td>\n",
       "      <td>1.0</td>\n",
       "      <td>141.0</td>\n",
       "    </tr>\n",
       "    <tr>\n",
       "      <th>1</th>\n",
       "      <td>3.0</td>\n",
       "      <td>2.0</td>\n",
       "      <td>1.0</td>\n",
       "      <td>3.0</td>\n",
       "      <td>6.0</td>\n",
       "      <td>15.0</td>\n",
       "      <td>59.0</td>\n",
       "      <td>25.0</td>\n",
       "      <td>58.0</td>\n",
       "      <td>66.0</td>\n",
       "      <td>57.0</td>\n",
       "      <td>NaN</td>\n",
       "      <td>135.0</td>\n",
       "    </tr>\n",
       "    <tr>\n",
       "      <th>2</th>\n",
       "      <td>10.0</td>\n",
       "      <td>51.0</td>\n",
       "      <td>42.0</td>\n",
       "      <td>83.0</td>\n",
       "      <td>82.0</td>\n",
       "      <td>100.0</td>\n",
       "      <td>160.0</td>\n",
       "      <td>39.0</td>\n",
       "      <td>59.0</td>\n",
       "      <td>61.0</td>\n",
       "      <td>27.0</td>\n",
       "      <td>NaN</td>\n",
       "      <td>79.0</td>\n",
       "    </tr>\n",
       "    <tr>\n",
       "      <th>3</th>\n",
       "      <td>NaN</td>\n",
       "      <td>NaN</td>\n",
       "      <td>NaN</td>\n",
       "      <td>NaN</td>\n",
       "      <td>1.0</td>\n",
       "      <td>7.0</td>\n",
       "      <td>4.0</td>\n",
       "      <td>5.0</td>\n",
       "      <td>14.0</td>\n",
       "      <td>24.0</td>\n",
       "      <td>13.0</td>\n",
       "      <td>NaN</td>\n",
       "      <td>120.0</td>\n",
       "    </tr>\n",
       "  </tbody>\n",
       "</table>\n",
       "</div>"
      ],
      "text/plain": [
       "Revenue_le  1.0   2.0   3.0    4.0    5.0    6.0    7.0    8.0   9.0    10.0  \\\n",
       "Cluster                                                                        \n",
       "0           23.0  74.0  66.0  195.0  171.0  195.0  340.0  117.0  91.0  135.0   \n",
       "1            3.0   2.0   1.0    3.0    6.0   15.0   59.0   25.0  58.0   66.0   \n",
       "2           10.0  51.0  42.0   83.0   82.0  100.0  160.0   39.0  59.0   61.0   \n",
       "3            NaN   NaN   NaN    NaN    1.0    7.0    4.0    5.0  14.0   24.0   \n",
       "\n",
       "Revenue_le  11.0  11.4   12.0  \n",
       "Cluster                        \n",
       "0           67.0   1.0  141.0  \n",
       "1           57.0   NaN  135.0  \n",
       "2           27.0   NaN   79.0  \n",
       "3           13.0   NaN  120.0  "
      ]
     },
     "execution_count": 35,
     "metadata": {},
     "output_type": "execute_result"
    }
   ],
   "source": [
    "company_df.groupby(by=['Cluster', 'Revenue_le']).size().unstack()"
   ]
  },
  {
   "cell_type": "code",
   "execution_count": 36,
   "metadata": {},
   "outputs": [],
   "source": [
    "company_df.to_csv('kmeans result-company.csv', index=False)"
   ]
  },
  {
   "cell_type": "markdown",
   "metadata": {},
   "source": [
    "## 分群分析"
   ]
  },
  {
   "cell_type": "code",
   "execution_count": 37,
   "metadata": {},
   "outputs": [
    {
     "data": {
      "text/html": [
       "<div>\n",
       "<style scoped>\n",
       "    .dataframe tbody tr th:only-of-type {\n",
       "        vertical-align: middle;\n",
       "    }\n",
       "\n",
       "    .dataframe tbody tr th {\n",
       "        vertical-align: top;\n",
       "    }\n",
       "\n",
       "    .dataframe thead th {\n",
       "        text-align: right;\n",
       "    }\n",
       "</style>\n",
       "<table border=\"1\" class=\"dataframe\">\n",
       "  <thead>\n",
       "    <tr style=\"text-align: right;\">\n",
       "      <th>Cluster</th>\n",
       "      <th>0</th>\n",
       "      <th>1</th>\n",
       "      <th>2</th>\n",
       "      <th>3</th>\n",
       "    </tr>\n",
       "  </thead>\n",
       "  <tbody>\n",
       "    <tr>\n",
       "      <th>Rating</th>\n",
       "      <td>3.708159</td>\n",
       "      <td>3.511142</td>\n",
       "      <td>3.747388</td>\n",
       "      <td>3.636466</td>\n",
       "    </tr>\n",
       "    <tr>\n",
       "      <th>Founded</th>\n",
       "      <td>1993.873267</td>\n",
       "      <td>1924.312791</td>\n",
       "      <td>1995.303909</td>\n",
       "      <td>1835.946809</td>\n",
       "    </tr>\n",
       "    <tr>\n",
       "      <th>Easy Apply</th>\n",
       "      <td>-0.917450</td>\n",
       "      <td>-0.981395</td>\n",
       "      <td>-0.880538</td>\n",
       "      <td>-0.989362</td>\n",
       "    </tr>\n",
       "    <tr>\n",
       "      <th>Salary Min</th>\n",
       "      <td>52.268042</td>\n",
       "      <td>60.910034</td>\n",
       "      <td>94.411794</td>\n",
       "      <td>64.400274</td>\n",
       "    </tr>\n",
       "    <tr>\n",
       "      <th>Salary Max</th>\n",
       "      <td>90.570327</td>\n",
       "      <td>103.334809</td>\n",
       "      <td>149.998537</td>\n",
       "      <td>110.644507</td>\n",
       "    </tr>\n",
       "    <tr>\n",
       "      <th>Salary Avg</th>\n",
       "      <td>71.419184</td>\n",
       "      <td>82.122422</td>\n",
       "      <td>122.205165</td>\n",
       "      <td>87.522391</td>\n",
       "    </tr>\n",
       "    <tr>\n",
       "      <th>Period</th>\n",
       "      <td>26.126733</td>\n",
       "      <td>95.687209</td>\n",
       "      <td>24.696091</td>\n",
       "      <td>184.053191</td>\n",
       "    </tr>\n",
       "    <tr>\n",
       "      <th>Competitors Count</th>\n",
       "      <td>12.923515</td>\n",
       "      <td>19.734884</td>\n",
       "      <td>13.977301</td>\n",
       "      <td>14.611702</td>\n",
       "    </tr>\n",
       "    <tr>\n",
       "      <th>Size_le</th>\n",
       "      <td>4.161510</td>\n",
       "      <td>5.975581</td>\n",
       "      <td>4.088272</td>\n",
       "      <td>6.627660</td>\n",
       "    </tr>\n",
       "    <tr>\n",
       "      <th>Revenue_le</th>\n",
       "      <td>6.868441</td>\n",
       "      <td>9.730233</td>\n",
       "      <td>6.807062</td>\n",
       "      <td>10.978723</td>\n",
       "    </tr>\n",
       "  </tbody>\n",
       "</table>\n",
       "</div>"
      ],
      "text/plain": [
       "Cluster                      0            1            2            3\n",
       "Rating                3.708159     3.511142     3.747388     3.636466\n",
       "Founded            1993.873267  1924.312791  1995.303909  1835.946809\n",
       "Easy Apply           -0.917450    -0.981395    -0.880538    -0.989362\n",
       "Salary Min           52.268042    60.910034    94.411794    64.400274\n",
       "Salary Max           90.570327   103.334809   149.998537   110.644507\n",
       "Salary Avg           71.419184    82.122422   122.205165    87.522391\n",
       "Period               26.126733    95.687209    24.696091   184.053191\n",
       "Competitors Count    12.923515    19.734884    13.977301    14.611702\n",
       "Size_le               4.161510     5.975581     4.088272     6.627660\n",
       "Revenue_le            6.868441     9.730233     6.807062    10.978723"
      ]
     },
     "execution_count": 37,
     "metadata": {},
     "output_type": "execute_result"
    }
   ],
   "source": [
    "company_df.groupby(by=['Cluster']).mean().T"
   ]
  },
  {
   "cell_type": "code",
   "execution_count": 38,
   "metadata": {},
   "outputs": [
    {
     "data": {
      "text/html": [
       "<div>\n",
       "<style scoped>\n",
       "    .dataframe tbody tr th:only-of-type {\n",
       "        vertical-align: middle;\n",
       "    }\n",
       "\n",
       "    .dataframe tbody tr th {\n",
       "        vertical-align: top;\n",
       "    }\n",
       "\n",
       "    .dataframe thead th {\n",
       "        text-align: right;\n",
       "    }\n",
       "</style>\n",
       "<table border=\"1\" class=\"dataframe\">\n",
       "  <thead>\n",
       "    <tr style=\"text-align: right;\">\n",
       "      <th>Cluster</th>\n",
       "      <th>0</th>\n",
       "      <th>1</th>\n",
       "      <th>2</th>\n",
       "      <th>3</th>\n",
       "    </tr>\n",
       "  </thead>\n",
       "  <tbody>\n",
       "    <tr>\n",
       "      <th>Rating</th>\n",
       "      <td>1.60</td>\n",
       "      <td>2.3</td>\n",
       "      <td>1.7</td>\n",
       "      <td>2.5</td>\n",
       "    </tr>\n",
       "    <tr>\n",
       "      <th>Size_le</th>\n",
       "      <td>1.00</td>\n",
       "      <td>1.0</td>\n",
       "      <td>1.0</td>\n",
       "      <td>3.0</td>\n",
       "    </tr>\n",
       "    <tr>\n",
       "      <th>Revenue_le</th>\n",
       "      <td>1.00</td>\n",
       "      <td>1.0</td>\n",
       "      <td>1.0</td>\n",
       "      <td>5.0</td>\n",
       "    </tr>\n",
       "    <tr>\n",
       "      <th>Salary Avg</th>\n",
       "      <td>15.84</td>\n",
       "      <td>36.5</td>\n",
       "      <td>96.0</td>\n",
       "      <td>36.5</td>\n",
       "    </tr>\n",
       "    <tr>\n",
       "      <th>Period</th>\n",
       "      <td>0.00</td>\n",
       "      <td>57.0</td>\n",
       "      <td>0.0</td>\n",
       "      <td>139.0</td>\n",
       "    </tr>\n",
       "    <tr>\n",
       "      <th>Competitors Count</th>\n",
       "      <td>2.00</td>\n",
       "      <td>2.0</td>\n",
       "      <td>2.0</td>\n",
       "      <td>2.0</td>\n",
       "    </tr>\n",
       "  </tbody>\n",
       "</table>\n",
       "</div>"
      ],
      "text/plain": [
       "Cluster                0     1     2      3\n",
       "Rating              1.60   2.3   1.7    2.5\n",
       "Size_le             1.00   1.0   1.0    3.0\n",
       "Revenue_le          1.00   1.0   1.0    5.0\n",
       "Salary Avg         15.84  36.5  96.0   36.5\n",
       "Period              0.00  57.0   0.0  139.0\n",
       "Competitors Count   2.00   2.0   2.0    2.0"
      ]
     },
     "execution_count": 38,
     "metadata": {},
     "output_type": "execute_result"
    }
   ],
   "source": [
    "company_df.groupby(by=['Cluster']).min()[cols].T"
   ]
  },
  {
   "cell_type": "code",
   "execution_count": 39,
   "metadata": {},
   "outputs": [
    {
     "data": {
      "text/html": [
       "<div>\n",
       "<style scoped>\n",
       "    .dataframe tbody tr th:only-of-type {\n",
       "        vertical-align: middle;\n",
       "    }\n",
       "\n",
       "    .dataframe tbody tr th {\n",
       "        vertical-align: top;\n",
       "    }\n",
       "\n",
       "    .dataframe thead th {\n",
       "        text-align: right;\n",
       "    }\n",
       "</style>\n",
       "<table border=\"1\" class=\"dataframe\">\n",
       "  <thead>\n",
       "    <tr style=\"text-align: right;\">\n",
       "      <th>Cluster</th>\n",
       "      <th>0</th>\n",
       "      <th>1</th>\n",
       "      <th>2</th>\n",
       "      <th>3</th>\n",
       "    </tr>\n",
       "  </thead>\n",
       "  <tbody>\n",
       "    <tr>\n",
       "      <th>Rating</th>\n",
       "      <td>5.0000</td>\n",
       "      <td>4.9</td>\n",
       "      <td>5.0</td>\n",
       "      <td>4.5</td>\n",
       "    </tr>\n",
       "    <tr>\n",
       "      <th>Size_le</th>\n",
       "      <td>7.0000</td>\n",
       "      <td>7.0</td>\n",
       "      <td>7.0</td>\n",
       "      <td>7.0</td>\n",
       "    </tr>\n",
       "    <tr>\n",
       "      <th>Revenue_le</th>\n",
       "      <td>12.0000</td>\n",
       "      <td>12.0</td>\n",
       "      <td>12.0</td>\n",
       "      <td>12.0</td>\n",
       "    </tr>\n",
       "    <tr>\n",
       "      <th>Salary Avg</th>\n",
       "      <td>97.0625</td>\n",
       "      <td>172.0</td>\n",
       "      <td>225.0</td>\n",
       "      <td>205.0</td>\n",
       "    </tr>\n",
       "    <tr>\n",
       "      <th>Period</th>\n",
       "      <td>67.0000</td>\n",
       "      <td>140.0</td>\n",
       "      <td>85.0</td>\n",
       "      <td>338.0</td>\n",
       "    </tr>\n",
       "    <tr>\n",
       "      <th>Competitors Count</th>\n",
       "      <td>88.0000</td>\n",
       "      <td>104.0</td>\n",
       "      <td>92.0</td>\n",
       "      <td>89.0</td>\n",
       "    </tr>\n",
       "  </tbody>\n",
       "</table>\n",
       "</div>"
      ],
      "text/plain": [
       "Cluster                  0      1      2      3\n",
       "Rating              5.0000    4.9    5.0    4.5\n",
       "Size_le             7.0000    7.0    7.0    7.0\n",
       "Revenue_le         12.0000   12.0   12.0   12.0\n",
       "Salary Avg         97.0625  172.0  225.0  205.0\n",
       "Period             67.0000  140.0   85.0  338.0\n",
       "Competitors Count  88.0000  104.0   92.0   89.0"
      ]
     },
     "execution_count": 39,
     "metadata": {},
     "output_type": "execute_result"
    }
   ],
   "source": [
    "company_df.groupby(by=['Cluster']).max()[cols].T"
   ]
  },
  {
   "cell_type": "markdown",
   "metadata": {},
   "source": [
    "## 1. 檢定變數"
   ]
  },
  {
   "cell_type": "markdown",
   "metadata": {},
   "source": [
    "#### 事前檢定"
   ]
  },
  {
   "cell_type": "code",
   "execution_count": 40,
   "metadata": {},
   "outputs": [],
   "source": [
    "def pretest(col):\n",
    "    print(\n",
    "        '-----------------------常態分布檢查-----------------------',\n",
    "        '\\nCluster 0:', stat.shapiro(company_df[company_df['Cluster']==0][[col]]),\n",
    "        '\\nCluster 1:', stat.shapiro(company_df[company_df['Cluster']==1][[col]]),\n",
    "        '\\nCluster 2:', stat.shapiro(company_df[company_df['Cluster']==2][[col]]),\n",
    "        '\\nCluster 3:', stat.shapiro(company_df[company_df['Cluster']==3][[col]]),\n",
    "    )\n",
    "    print(\n",
    "        '-----------------------同質變異數檢查----------------------\\n',\n",
    "        stat.levene(company_df[company_df['Cluster']==0][col], company_df[company_df['Cluster']==1][col], company_df[company_df['Cluster']==2][col], company_df[company_df['Cluster']==3][col], center = 'mean')\n",
    "    )\n"
   ]
  },
  {
   "cell_type": "markdown",
   "metadata": {},
   "source": [
    "#### Ony-way anova"
   ]
  },
  {
   "cell_type": "code",
   "execution_count": 41,
   "metadata": {},
   "outputs": [],
   "source": [
    "def anova(col):\n",
    "    print(stat.f_oneway(company_df[company_df['Cluster']==0][col], company_df[company_df['Cluster']==1][col], company_df[company_df['Cluster']==2][col], company_df[company_df['Cluster']==3][col]))"
   ]
  },
  {
   "cell_type": "markdown",
   "metadata": {},
   "source": [
    "#### Post hoc"
   ]
  },
  {
   "cell_type": "code",
   "execution_count": 42,
   "metadata": {},
   "outputs": [],
   "source": [
    "def tukey(col):\n",
    "    print(pairwise_tukeyhsd(endog=company_df[col], groups=company_df['Cluster'], alpha=0.05))"
   ]
  },
  {
   "cell_type": "markdown",
   "metadata": {},
   "source": [
    "### 檢定 Avg Rating"
   ]
  },
  {
   "cell_type": "code",
   "execution_count": 43,
   "metadata": {
    "scrolled": true
   },
   "outputs": [
    {
     "name": "stdout",
     "output_type": "stream",
     "text": [
      "-----------------------常態分布檢查----------------------- \n",
      "Cluster 0: ShapiroResult(statistic=0.9908177852630615, pvalue=1.544988492696575e-08) \n",
      "Cluster 1: ShapiroResult(statistic=0.9868268966674805, pvalue=0.0006181128555908799) \n",
      "Cluster 2: ShapiroResult(statistic=0.9892051815986633, pvalue=1.413481732015498e-05) \n",
      "Cluster 3: ShapiroResult(statistic=0.9675446152687073, pvalue=0.00023756043810863048)\n",
      "-----------------------同質變異數檢查----------------------\n",
      " LeveneResult(statistic=36.60349279875494, pvalue=3.1358437651038875e-23)\n"
     ]
    }
   ],
   "source": [
    "pretest('Rating')"
   ]
  },
  {
   "cell_type": "code",
   "execution_count": 44,
   "metadata": {},
   "outputs": [
    {
     "name": "stdout",
     "output_type": "stream",
     "text": [
      "F_onewayResult(statistic=19.92499519467296, pvalue=8.706256821161218e-13)\n"
     ]
    }
   ],
   "source": [
    "anova('Rating')"
   ]
  },
  {
   "cell_type": "code",
   "execution_count": 45,
   "metadata": {},
   "outputs": [
    {
     "name": "stdout",
     "output_type": "stream",
     "text": [
      "Multiple Comparison of Means - Tukey HSD, FWER=0.05 \n",
      "====================================================\n",
      "group1 group2 meandiff p-adj   lower   upper  reject\n",
      "----------------------------------------------------\n",
      "     0      1   -0.197  0.001 -0.2722 -0.1218   True\n",
      "     0      2   0.0392  0.336 -0.0209  0.0993  False\n",
      "     0      3  -0.0717  0.311 -0.1785  0.0351  False\n",
      "     1      2   0.2362  0.001  0.1532  0.3193   True\n",
      "     1      3   0.1253 0.0396  0.0041  0.2465   True\n",
      "     2      3  -0.1109 0.0549 -0.2234  0.0015  False\n",
      "----------------------------------------------------\n"
     ]
    }
   ],
   "source": [
    "tukey('Rating')"
   ]
  },
  {
   "cell_type": "markdown",
   "metadata": {},
   "source": [
    "### 檢定 Avg Salary"
   ]
  },
  {
   "cell_type": "code",
   "execution_count": 46,
   "metadata": {
    "scrolled": true
   },
   "outputs": [
    {
     "name": "stdout",
     "output_type": "stream",
     "text": [
      "-----------------------常態分布檢查----------------------- \n",
      "Cluster 0: ShapiroResult(statistic=0.9827049374580383, pvalue=4.870653034540207e-13) \n",
      "Cluster 1: ShapiroResult(statistic=0.9554912447929382, pvalue=4.2024342339352927e-10) \n",
      "Cluster 2: ShapiroResult(statistic=0.8776351809501648, pvalue=1.7991718298317976e-24) \n",
      "Cluster 3: ShapiroResult(statistic=0.9221493005752563, pvalue=1.8863943296310026e-08)\n",
      "-----------------------同質變異數檢查----------------------\n",
      " LeveneResult(statistic=139.4114774297984, pvalue=1.3314030455476018e-84)\n"
     ]
    }
   ],
   "source": [
    "pretest('Salary Avg')"
   ]
  },
  {
   "cell_type": "code",
   "execution_count": 47,
   "metadata": {},
   "outputs": [
    {
     "name": "stdout",
     "output_type": "stream",
     "text": [
      "F_onewayResult(statistic=1198.6649459105222, pvalue=0.0)\n"
     ]
    }
   ],
   "source": [
    "anova('Salary Avg')"
   ]
  },
  {
   "cell_type": "code",
   "execution_count": 48,
   "metadata": {},
   "outputs": [
    {
     "name": "stdout",
     "output_type": "stream",
     "text": [
      " Multiple Comparison of Means - Tukey HSD, FWER=0.05 \n",
      "=====================================================\n",
      "group1 group2 meandiff p-adj  lower    upper   reject\n",
      "-----------------------------------------------------\n",
      "     0      1  10.7032 0.001   7.9657  13.4408   True\n",
      "     0      2   50.786 0.001  48.5986  52.9734   True\n",
      "     0      3  16.1032 0.001  12.2156  19.9908   True\n",
      "     1      2  40.0827 0.001  37.0613  43.1041   True\n",
      "     1      3      5.4 0.009   0.9889   9.8111   True\n",
      "     2      3 -34.6828 0.001 -38.7752 -30.5903   True\n",
      "-----------------------------------------------------\n"
     ]
    }
   ],
   "source": [
    "tukey('Salary Avg')"
   ]
  },
  {
   "cell_type": "markdown",
   "metadata": {},
   "source": [
    "### 檢定 Min Salary"
   ]
  },
  {
   "cell_type": "code",
   "execution_count": 49,
   "metadata": {
    "scrolled": true
   },
   "outputs": [
    {
     "name": "stdout",
     "output_type": "stream",
     "text": [
      "-----------------------常態分布檢查----------------------- \n",
      "Cluster 0: ShapiroResult(statistic=0.9919754266738892, pvalue=1.0171741848807869e-07) \n",
      "Cluster 1: ShapiroResult(statistic=0.9515038132667542, pvalue=1.1345543254881463e-10) \n",
      "Cluster 2: ShapiroResult(statistic=0.9238487482070923, pvalue=1.370200644757538e-19) \n",
      "Cluster 3: ShapiroResult(statistic=0.9196465015411377, pvalue=1.2465943832751236e-08)\n",
      "-----------------------同質變異數檢查----------------------\n",
      " LeveneResult(statistic=120.25739870676988, pvalue=1.4120533674592188e-73)\n"
     ]
    }
   ],
   "source": [
    "pretest('Salary Min')"
   ]
  },
  {
   "cell_type": "code",
   "execution_count": 50,
   "metadata": {},
   "outputs": [
    {
     "name": "stdout",
     "output_type": "stream",
     "text": [
      "F_onewayResult(statistic=1052.3127918683608, pvalue=0.0)\n"
     ]
    }
   ],
   "source": [
    "anova('Salary Min')"
   ]
  },
  {
   "cell_type": "code",
   "execution_count": 51,
   "metadata": {},
   "outputs": [
    {
     "name": "stdout",
     "output_type": "stream",
     "text": [
      "Multiple Comparison of Means - Tukey HSD, FWER=0.05 \n",
      "====================================================\n",
      "group1 group2 meandiff p-adj   lower   upper  reject\n",
      "----------------------------------------------------\n",
      "     0      1    8.642  0.001  6.2161 11.0679   True\n",
      "     0      2  42.1438  0.001 40.2054 44.0821   True\n",
      "     0      3  12.1322  0.001  8.6873 15.5772   True\n",
      "     1      2  33.5018  0.001 30.8244 36.1791   True\n",
      "     1      3   3.4902 0.0993 -0.4186  7.3991  False\n",
      "     2      3 -30.0115  0.001 -33.638 -26.385   True\n",
      "----------------------------------------------------\n"
     ]
    }
   ],
   "source": [
    "tukey('Salary Min')"
   ]
  },
  {
   "cell_type": "markdown",
   "metadata": {},
   "source": [
    "### 檢定 Max Salary"
   ]
  },
  {
   "cell_type": "code",
   "execution_count": 52,
   "metadata": {
    "scrolled": true
   },
   "outputs": [
    {
     "name": "stdout",
     "output_type": "stream",
     "text": [
      "-----------------------常態分布檢查----------------------- \n",
      "Cluster 0: ShapiroResult(statistic=0.9920002818107605, pvalue=1.0608864187133804e-07) \n",
      "Cluster 1: ShapiroResult(statistic=0.9622367024421692, pvalue=4.603687209225882e-09) \n",
      "Cluster 2: ShapiroResult(statistic=0.9241681694984436, pvalue=1.5047064162132545e-19) \n",
      "Cluster 3: ShapiroResult(statistic=0.9209707975387573, pvalue=1.5505518646818928e-08)\n",
      "-----------------------同質變異數檢查----------------------\n",
      " LeveneResult(statistic=124.46086874770033, pvalue=5.183817224492324e-76)\n"
     ]
    }
   ],
   "source": [
    "pretest('Salary Max')"
   ]
  },
  {
   "cell_type": "code",
   "execution_count": 53,
   "metadata": {},
   "outputs": [
    {
     "name": "stdout",
     "output_type": "stream",
     "text": [
      "F_onewayResult(statistic=1059.5660358640528, pvalue=0.0)\n"
     ]
    }
   ],
   "source": [
    "anova('Salary Max')"
   ]
  },
  {
   "cell_type": "code",
   "execution_count": 54,
   "metadata": {},
   "outputs": [
    {
     "name": "stdout",
     "output_type": "stream",
     "text": [
      " Multiple Comparison of Means - Tukey HSD, FWER=0.05  \n",
      "======================================================\n",
      "group1 group2 meandiff p-adj   lower    upper   reject\n",
      "------------------------------------------------------\n",
      "     0      1  12.7645  0.001    9.358  16.1709   True\n",
      "     0      2  59.4282  0.001  56.7063  62.1501   True\n",
      "     0      3  20.0742  0.001  15.2366  24.9117   True\n",
      "     1      2  46.6637  0.001  42.9041  50.4234   True\n",
      "     1      3   7.3097 0.0035   1.8208  12.7986   True\n",
      "     2      3  -39.354  0.001 -44.4465 -34.2616   True\n",
      "------------------------------------------------------\n"
     ]
    }
   ],
   "source": [
    "tukey('Salary Max')"
   ]
  },
  {
   "cell_type": "markdown",
   "metadata": {},
   "source": [
    "### 檢定 Period"
   ]
  },
  {
   "cell_type": "code",
   "execution_count": 55,
   "metadata": {
    "scrolled": true
   },
   "outputs": [
    {
     "name": "stdout",
     "output_type": "stream",
     "text": [
      "-----------------------常態分布檢查----------------------- \n",
      "Cluster 0: ShapiroResult(statistic=0.9330194592475891, pvalue=2.5109089782818994e-26) \n",
      "Cluster 1: ShapiroResult(statistic=0.9518983960151672, pvalue=1.287482759293468e-10) \n",
      "Cluster 2: ShapiroResult(statistic=0.9255695939064026, pvalue=2.27700747253251e-19) \n",
      "Cluster 3: ShapiroResult(statistic=0.8303400278091431, pvalue=1.5738782889809788e-13)\n",
      "-----------------------同質變異數檢查----------------------\n",
      " LeveneResult(statistic=198.8217721779483, pvalue=1.1032721346211243e-117)\n"
     ]
    }
   ],
   "source": [
    "pretest('Period')"
   ]
  },
  {
   "cell_type": "code",
   "execution_count": 56,
   "metadata": {},
   "outputs": [
    {
     "name": "stdout",
     "output_type": "stream",
     "text": [
      "F_onewayResult(statistic=5709.977123573828, pvalue=0.0)\n"
     ]
    }
   ],
   "source": [
    "anova('Period')"
   ]
  },
  {
   "cell_type": "code",
   "execution_count": 57,
   "metadata": {},
   "outputs": [
    {
     "name": "stdout",
     "output_type": "stream",
     "text": [
      " Multiple Comparison of Means - Tukey HSD, FWER=0.05 \n",
      "=====================================================\n",
      "group1 group2 meandiff p-adj  lower    upper   reject\n",
      "-----------------------------------------------------\n",
      "     0      1  69.5605 0.001  67.0292  72.0918   True\n",
      "     0      2  -1.4306 0.265  -3.4532   0.5919  False\n",
      "     0      3 157.9265 0.001 154.3318 161.5211   True\n",
      "     1      2 -70.9911 0.001 -73.7849 -68.1974   True\n",
      "     1      3   88.366 0.001  84.2873  92.4447   True\n",
      "     2      3 159.3571 0.001  155.573 163.1412   True\n",
      "-----------------------------------------------------\n"
     ]
    }
   ],
   "source": [
    "tukey('Period')"
   ]
  },
  {
   "cell_type": "markdown",
   "metadata": {},
   "source": [
    "### 檢定 Competitors Count"
   ]
  },
  {
   "cell_type": "code",
   "execution_count": 58,
   "metadata": {
    "scrolled": true
   },
   "outputs": [
    {
     "name": "stdout",
     "output_type": "stream",
     "text": [
      "-----------------------常態分布檢查----------------------- \n",
      "Cluster 0: ShapiroResult(statistic=0.675434947013855, pvalue=0.0) \n",
      "Cluster 1: ShapiroResult(statistic=0.8150772452354431, pvalue=7.325307839816547e-22) \n",
      "Cluster 2: ShapiroResult(statistic=0.7098777890205383, pvalue=7.485159447093208e-35) \n",
      "Cluster 3: ShapiroResult(statistic=0.7282364368438721, pvalue=2.916924051737184e-17)\n",
      "-----------------------同質變異數檢查----------------------\n",
      " LeveneResult(statistic=13.534214293751637, pvalue=9.02985888888622e-09)\n"
     ]
    }
   ],
   "source": [
    "pretest('Competitors Count')"
   ]
  },
  {
   "cell_type": "code",
   "execution_count": 59,
   "metadata": {},
   "outputs": [
    {
     "name": "stdout",
     "output_type": "stream",
     "text": [
      "F_onewayResult(statistic=16.20599342519426, pvalue=1.8940148587996142e-10)\n"
     ]
    }
   ],
   "source": [
    "anova('Competitors Count')"
   ]
  },
  {
   "cell_type": "code",
   "execution_count": 60,
   "metadata": {},
   "outputs": [
    {
     "name": "stdout",
     "output_type": "stream",
     "text": [
      "Multiple Comparison of Means - Tukey HSD, FWER=0.05 \n",
      "====================================================\n",
      "group1 group2 meandiff p-adj   lower   upper  reject\n",
      "----------------------------------------------------\n",
      "     0      1   6.8114  0.001   4.292  9.3307   True\n",
      "     0      2   1.0538 0.5299 -0.9592  3.0668  False\n",
      "     0      3   1.6882 0.6044 -1.8895  5.2659  False\n",
      "     1      2  -5.7576  0.001 -8.5381  -2.977   True\n",
      "     1      3  -5.1232 0.0065 -9.1826 -1.0637   True\n",
      "     2      3   0.6344    0.9 -3.1318  4.4006  False\n",
      "----------------------------------------------------\n"
     ]
    }
   ],
   "source": [
    "tukey('Competitors Count')"
   ]
  },
  {
   "cell_type": "markdown",
   "metadata": {},
   "source": [
    "### 檢定 Size"
   ]
  },
  {
   "cell_type": "code",
   "execution_count": 61,
   "metadata": {
    "scrolled": true
   },
   "outputs": [
    {
     "name": "stdout",
     "output_type": "stream",
     "text": [
      "-----------------------常態分布檢查----------------------- \n",
      "Cluster 0: ShapiroResult(statistic=0.9203075170516968, pvalue=2.1436541579290254e-28) \n",
      "Cluster 1: ShapiroResult(statistic=0.7744609117507935, pvalue=6.790823116756411e-24) \n",
      "Cluster 2: ShapiroResult(statistic=0.9126981496810913, pvalue=6.1646786256347286e-21) \n",
      "Cluster 3: ShapiroResult(statistic=0.49618959426879883, pvalue=6.573563408166035e-23)\n",
      "-----------------------同質變異數檢查----------------------\n",
      " LeveneResult(statistic=110.87955204229934, pvalue=4.118378415637345e-68)\n"
     ]
    }
   ],
   "source": [
    "pretest('Size_le')"
   ]
  },
  {
   "cell_type": "code",
   "execution_count": 62,
   "metadata": {},
   "outputs": [
    {
     "name": "stdout",
     "output_type": "stream",
     "text": [
      "F_onewayResult(statistic=225.62082761641312, pvalue=4.4036793994825654e-132)\n"
     ]
    }
   ],
   "source": [
    "anova('Size_le')"
   ]
  },
  {
   "cell_type": "code",
   "execution_count": 63,
   "metadata": {},
   "outputs": [
    {
     "name": "stdout",
     "output_type": "stream",
     "text": [
      "Multiple Comparison of Means - Tukey HSD, FWER=0.05 \n",
      "====================================================\n",
      "group1 group2 meandiff p-adj   lower   upper  reject\n",
      "----------------------------------------------------\n",
      "     0      1   1.8141  0.001  1.5685  2.0597   True\n",
      "     0      2  -0.0732 0.7467 -0.2695   0.123  False\n",
      "     0      3   2.4661  0.001  2.1174  2.8149   True\n",
      "     1      2  -1.8873  0.001 -2.1584 -1.6163   True\n",
      "     1      3   0.6521  0.001  0.2564  1.0478   True\n",
      "     2      3   2.5394  0.001  2.1723  2.9065   True\n",
      "----------------------------------------------------\n"
     ]
    }
   ],
   "source": [
    "tukey('Size_le')"
   ]
  },
  {
   "cell_type": "markdown",
   "metadata": {},
   "source": [
    "### 檢定 Revenue"
   ]
  },
  {
   "cell_type": "code",
   "execution_count": 64,
   "metadata": {
    "scrolled": true
   },
   "outputs": [
    {
     "name": "stdout",
     "output_type": "stream",
     "text": [
      "-----------------------常態分布檢查----------------------- \n",
      "Cluster 0: ShapiroResult(statistic=0.9610812664031982, pvalue=2.1369749067387177e-20) \n",
      "Cluster 1: ShapiroResult(statistic=0.8699968457221985, pvalue=1.7175839834919787e-18) \n",
      "Cluster 2: ShapiroResult(statistic=0.9574931263923645, pvalue=2.1994032097416745e-14) \n",
      "Cluster 3: ShapiroResult(statistic=0.6694478988647461, pvalue=5.841520017540159e-19)\n",
      "-----------------------同質變異數檢查----------------------\n",
      " LeveneResult(statistic=26.66099649580577, pvalue=5.1393509103376385e-17)\n"
     ]
    }
   ],
   "source": [
    "pretest('Revenue_le')"
   ]
  },
  {
   "cell_type": "code",
   "execution_count": 65,
   "metadata": {},
   "outputs": [
    {
     "name": "stdout",
     "output_type": "stream",
     "text": [
      "F_onewayResult(statistic=248.78257729055963, pvalue=2.7994758698063306e-144)\n"
     ]
    }
   ],
   "source": [
    "anova('Revenue_le')"
   ]
  },
  {
   "cell_type": "code",
   "execution_count": 66,
   "metadata": {},
   "outputs": [
    {
     "name": "stdout",
     "output_type": "stream",
     "text": [
      "Multiple Comparison of Means - Tukey HSD, FWER=0.05\n",
      "===================================================\n",
      "group1 group2 meandiff p-adj  lower   upper  reject\n",
      "---------------------------------------------------\n",
      "     0      1   2.8618 0.001  2.4853  3.2383   True\n",
      "     0      2  -0.0614   0.9 -0.3622  0.2395  False\n",
      "     0      3   4.1103 0.001  3.5756   4.645   True\n",
      "     1      2  -2.9232 0.001 -3.3387 -2.5076   True\n",
      "     1      3   1.2485 0.001  0.6418  1.8552   True\n",
      "     2      3   4.1717 0.001  3.6088  4.7345   True\n",
      "---------------------------------------------------\n"
     ]
    }
   ],
   "source": [
    "tukey('Revenue_le')"
   ]
  },
  {
   "cell_type": "markdown",
   "metadata": {},
   "source": [
    "## 2. 查看各群體內部分布概況"
   ]
  },
  {
   "cell_type": "code",
   "execution_count": 68,
   "metadata": {},
   "outputs": [
    {
     "data": {
      "text/plain": [
       "Index(['10th Magnitude IL', '22nd Century Technologies AZ',\n",
       "       '22nd Century Technologies CA', '22nd Century Technologies CO',\n",
       "       '22nd Century Technologies FL', '22nd Century Technologies IL',\n",
       "       '22nd Century Technologies NY', '22nd Century Technologies TX', '2U NY',\n",
       "       '3degrees TX',\n",
       "       ...\n",
       "       'iSpace, Inc. CA', 'iTech Solutions, Inc PA',\n",
       "       'iVenture Solutions, Inc. FL',\n",
       "       'iland Internet Solutions Corporation TX', 'ingenium.agency AZ',\n",
       "       'nana TX', 'neteffects AZ', 'pureIntegration NC', 'vtech Solutions AZ',\n",
       "       'xentity corporation CO'],\n",
       "      dtype='object', name='Company', length=1616)"
      ]
     },
     "execution_count": 68,
     "metadata": {},
     "output_type": "execute_result"
    }
   ],
   "source": [
    "company_df[company_df['Cluster']==0].index"
   ]
  },
  {
   "cell_type": "code",
   "execution_count": 74,
   "metadata": {},
   "outputs": [],
   "source": [
    "company_df['Company Name']  = company_df.index.str.rsplit(' ').str[:-1]\n",
    "company_df['Location'] = company_df.index.str.rsplit(' ').str[-1]"
   ]
  },
  {
   "cell_type": "code",
   "execution_count": 77,
   "metadata": {},
   "outputs": [],
   "source": [
    "company_df['Company Name']  = company_df['Company Name'].apply(lambda x: ' '.join(map(str, x)))"
   ]
  },
  {
   "cell_type": "code",
   "execution_count": 80,
   "metadata": {},
   "outputs": [
    {
     "data": {
      "text/html": [
       "<div>\n",
       "<style scoped>\n",
       "    .dataframe tbody tr th:only-of-type {\n",
       "        vertical-align: middle;\n",
       "    }\n",
       "\n",
       "    .dataframe tbody tr th {\n",
       "        vertical-align: top;\n",
       "    }\n",
       "\n",
       "    .dataframe thead th {\n",
       "        text-align: right;\n",
       "    }\n",
       "</style>\n",
       "<table border=\"1\" class=\"dataframe\">\n",
       "  <thead>\n",
       "    <tr style=\"text-align: right;\">\n",
       "      <th>Location</th>\n",
       "      <th>AZ</th>\n",
       "      <th>CA</th>\n",
       "      <th>CO</th>\n",
       "      <th>DE</th>\n",
       "      <th>FL</th>\n",
       "      <th>GA</th>\n",
       "      <th>IL</th>\n",
       "      <th>IN</th>\n",
       "      <th>KS</th>\n",
       "      <th>Kingdom</th>\n",
       "      <th>NC</th>\n",
       "      <th>NJ</th>\n",
       "      <th>NY</th>\n",
       "      <th>OH</th>\n",
       "      <th>PA</th>\n",
       "      <th>SC</th>\n",
       "      <th>TX</th>\n",
       "      <th>UT</th>\n",
       "      <th>VA</th>\n",
       "      <th>WA</th>\n",
       "    </tr>\n",
       "    <tr>\n",
       "      <th>Cluster</th>\n",
       "      <th></th>\n",
       "      <th></th>\n",
       "      <th></th>\n",
       "      <th></th>\n",
       "      <th></th>\n",
       "      <th></th>\n",
       "      <th></th>\n",
       "      <th></th>\n",
       "      <th></th>\n",
       "      <th></th>\n",
       "      <th></th>\n",
       "      <th></th>\n",
       "      <th></th>\n",
       "      <th></th>\n",
       "      <th></th>\n",
       "      <th></th>\n",
       "      <th></th>\n",
       "      <th></th>\n",
       "      <th></th>\n",
       "      <th></th>\n",
       "    </tr>\n",
       "  </thead>\n",
       "  <tbody>\n",
       "    <tr>\n",
       "      <th>0</th>\n",
       "      <td>141.0</td>\n",
       "      <td>211.0</td>\n",
       "      <td>40.0</td>\n",
       "      <td>15.0</td>\n",
       "      <td>101.0</td>\n",
       "      <td>1.0</td>\n",
       "      <td>172.0</td>\n",
       "      <td>12.0</td>\n",
       "      <td>2.0</td>\n",
       "      <td>NaN</td>\n",
       "      <td>33.0</td>\n",
       "      <td>40.0</td>\n",
       "      <td>110.0</td>\n",
       "      <td>28.0</td>\n",
       "      <td>109.0</td>\n",
       "      <td>2.0</td>\n",
       "      <td>552.0</td>\n",
       "      <td>9.0</td>\n",
       "      <td>17.0</td>\n",
       "      <td>21.0</td>\n",
       "    </tr>\n",
       "    <tr>\n",
       "      <th>1</th>\n",
       "      <td>32.0</td>\n",
       "      <td>88.0</td>\n",
       "      <td>7.0</td>\n",
       "      <td>1.0</td>\n",
       "      <td>23.0</td>\n",
       "      <td>NaN</td>\n",
       "      <td>53.0</td>\n",
       "      <td>2.0</td>\n",
       "      <td>NaN</td>\n",
       "      <td>NaN</td>\n",
       "      <td>4.0</td>\n",
       "      <td>10.0</td>\n",
       "      <td>40.0</td>\n",
       "      <td>12.0</td>\n",
       "      <td>24.0</td>\n",
       "      <td>NaN</td>\n",
       "      <td>129.0</td>\n",
       "      <td>1.0</td>\n",
       "      <td>2.0</td>\n",
       "      <td>2.0</td>\n",
       "    </tr>\n",
       "    <tr>\n",
       "      <th>2</th>\n",
       "      <td>36.0</td>\n",
       "      <td>387.0</td>\n",
       "      <td>NaN</td>\n",
       "      <td>10.0</td>\n",
       "      <td>2.0</td>\n",
       "      <td>NaN</td>\n",
       "      <td>50.0</td>\n",
       "      <td>NaN</td>\n",
       "      <td>NaN</td>\n",
       "      <td>NaN</td>\n",
       "      <td>NaN</td>\n",
       "      <td>29.0</td>\n",
       "      <td>104.0</td>\n",
       "      <td>4.0</td>\n",
       "      <td>43.0</td>\n",
       "      <td>NaN</td>\n",
       "      <td>128.0</td>\n",
       "      <td>NaN</td>\n",
       "      <td>NaN</td>\n",
       "      <td>NaN</td>\n",
       "    </tr>\n",
       "    <tr>\n",
       "      <th>3</th>\n",
       "      <td>10.0</td>\n",
       "      <td>26.0</td>\n",
       "      <td>1.0</td>\n",
       "      <td>7.0</td>\n",
       "      <td>10.0</td>\n",
       "      <td>1.0</td>\n",
       "      <td>16.0</td>\n",
       "      <td>1.0</td>\n",
       "      <td>NaN</td>\n",
       "      <td>1.0</td>\n",
       "      <td>3.0</td>\n",
       "      <td>17.0</td>\n",
       "      <td>29.0</td>\n",
       "      <td>7.0</td>\n",
       "      <td>21.0</td>\n",
       "      <td>NaN</td>\n",
       "      <td>34.0</td>\n",
       "      <td>2.0</td>\n",
       "      <td>1.0</td>\n",
       "      <td>1.0</td>\n",
       "    </tr>\n",
       "  </tbody>\n",
       "</table>\n",
       "</div>"
      ],
      "text/plain": [
       "Location     AZ     CA    CO    DE     FL   GA     IL    IN   KS  Kingdom  \\\n",
       "Cluster                                                                     \n",
       "0         141.0  211.0  40.0  15.0  101.0  1.0  172.0  12.0  2.0      NaN   \n",
       "1          32.0   88.0   7.0   1.0   23.0  NaN   53.0   2.0  NaN      NaN   \n",
       "2          36.0  387.0   NaN  10.0    2.0  NaN   50.0   NaN  NaN      NaN   \n",
       "3          10.0   26.0   1.0   7.0   10.0  1.0   16.0   1.0  NaN      1.0   \n",
       "\n",
       "Location    NC    NJ     NY    OH     PA   SC     TX   UT    VA    WA  \n",
       "Cluster                                                                \n",
       "0         33.0  40.0  110.0  28.0  109.0  2.0  552.0  9.0  17.0  21.0  \n",
       "1          4.0  10.0   40.0  12.0   24.0  NaN  129.0  1.0   2.0   2.0  \n",
       "2          NaN  29.0  104.0   4.0   43.0  NaN  128.0  NaN   NaN   NaN  \n",
       "3          3.0  17.0   29.0   7.0   21.0  NaN   34.0  2.0   1.0   1.0  "
      ]
     },
     "execution_count": 80,
     "metadata": {},
     "output_type": "execute_result"
    }
   ],
   "source": [
    "company_df.groupby(by=['Cluster', 'Location']).size().unstack()"
   ]
  },
  {
   "cell_type": "code",
   "execution_count": 85,
   "metadata": {},
   "outputs": [],
   "source": [
    "company_df.groupby(by=['Cluster', 'Company Name']).size().unstack().T.to_csv('Cluster Company list.csv')"
   ]
  },
  {
   "cell_type": "code",
   "execution_count": 104,
   "metadata": {},
   "outputs": [],
   "source": [
    "data_cluster = data.merge(company_df[['Cluster']], on='Company', how='left')"
   ]
  },
  {
   "cell_type": "code",
   "execution_count": 181,
   "metadata": {},
   "outputs": [],
   "source": [
    "data_cluster.to_csv('Cluster Result.csv', index=False)"
   ]
  },
  {
   "cell_type": "markdown",
   "metadata": {},
   "source": [
    "### Cluster - Job Type Test on Salary"
   ]
  },
  {
   "cell_type": "code",
   "execution_count": 114,
   "metadata": {},
   "outputs": [],
   "source": [
    "obs = np.array(data_cluster.groupby(by=['Type', 'Cluster']).mean()[['Salary Avg']].unstack())"
   ]
  },
  {
   "cell_type": "code",
   "execution_count": 115,
   "metadata": {},
   "outputs": [
    {
     "data": {
      "text/plain": [
       "0.9904016327254354"
      ]
     },
     "execution_count": 115,
     "metadata": {},
     "output_type": "execute_result"
    }
   ],
   "source": [
    "stat.chi2_contingency(obs, correction = False)[1]"
   ]
  },
  {
   "cell_type": "code",
   "execution_count": 116,
   "metadata": {},
   "outputs": [],
   "source": [
    "obs1 = np.array(data_cluster.groupby(by=['Type', 'Cluster']).mean()[['Salary Min']].unstack())"
   ]
  },
  {
   "cell_type": "code",
   "execution_count": 117,
   "metadata": {},
   "outputs": [
    {
     "data": {
      "text/plain": [
       "0.9957636915580282"
      ]
     },
     "execution_count": 117,
     "metadata": {},
     "output_type": "execute_result"
    }
   ],
   "source": [
    "stat.chi2_contingency(obs1, correction = False)[1]"
   ]
  },
  {
   "cell_type": "code",
   "execution_count": 118,
   "metadata": {},
   "outputs": [],
   "source": [
    "obs2 = np.array(data_cluster.groupby(by=['Type', 'Cluster']).mean()[['Salary Max']].unstack())"
   ]
  },
  {
   "cell_type": "code",
   "execution_count": 119,
   "metadata": {},
   "outputs": [
    {
     "data": {
      "text/plain": [
       "0.9744470847815319"
      ]
     },
     "execution_count": 119,
     "metadata": {},
     "output_type": "execute_result"
    }
   ],
   "source": [
    "stat.chi2_contingency(obs2, correction = False)[1]"
   ]
  },
  {
   "cell_type": "code",
   "execution_count": 160,
   "metadata": {},
   "outputs": [
    {
     "data": {
      "text/html": [
       "<div>\n",
       "<style scoped>\n",
       "    .dataframe tbody tr th:only-of-type {\n",
       "        vertical-align: middle;\n",
       "    }\n",
       "\n",
       "    .dataframe tbody tr th {\n",
       "        vertical-align: top;\n",
       "    }\n",
       "\n",
       "    .dataframe thead th {\n",
       "        text-align: right;\n",
       "    }\n",
       "</style>\n",
       "<table border=\"1\" class=\"dataframe\">\n",
       "  <thead>\n",
       "    <tr style=\"text-align: right;\">\n",
       "      <th>Sector</th>\n",
       "      <th>-1</th>\n",
       "      <th>Accounting &amp; Legal</th>\n",
       "      <th>Aerospace &amp; Defense</th>\n",
       "      <th>Agriculture &amp; Forestry</th>\n",
       "      <th>Arts, Entertainment &amp; Recreation</th>\n",
       "      <th>Biotech &amp; Pharmaceuticals</th>\n",
       "      <th>Business Services</th>\n",
       "      <th>Construction, Repair &amp; Maintenance</th>\n",
       "      <th>Consumer Services</th>\n",
       "      <th>Education</th>\n",
       "      <th>...</th>\n",
       "      <th>Media</th>\n",
       "      <th>Mining &amp; Metals</th>\n",
       "      <th>Non-Profit</th>\n",
       "      <th>Oil, Gas, Energy &amp; Utilities</th>\n",
       "      <th>Real Estate</th>\n",
       "      <th>Restaurants, Bars &amp; Food Services</th>\n",
       "      <th>Retail</th>\n",
       "      <th>Telecommunications</th>\n",
       "      <th>Transportation &amp; Logistics</th>\n",
       "      <th>Travel &amp; Tourism</th>\n",
       "    </tr>\n",
       "    <tr>\n",
       "      <th>Cluster</th>\n",
       "      <th></th>\n",
       "      <th></th>\n",
       "      <th></th>\n",
       "      <th></th>\n",
       "      <th></th>\n",
       "      <th></th>\n",
       "      <th></th>\n",
       "      <th></th>\n",
       "      <th></th>\n",
       "      <th></th>\n",
       "      <th></th>\n",
       "      <th></th>\n",
       "      <th></th>\n",
       "      <th></th>\n",
       "      <th></th>\n",
       "      <th></th>\n",
       "      <th></th>\n",
       "      <th></th>\n",
       "      <th></th>\n",
       "      <th></th>\n",
       "      <th></th>\n",
       "    </tr>\n",
       "  </thead>\n",
       "  <tbody>\n",
       "    <tr>\n",
       "      <th>0</th>\n",
       "      <td>55.0</td>\n",
       "      <td>48.0</td>\n",
       "      <td>98.0</td>\n",
       "      <td>3.0</td>\n",
       "      <td>10.0</td>\n",
       "      <td>78.0</td>\n",
       "      <td>1002.0</td>\n",
       "      <td>15.0</td>\n",
       "      <td>4.0</td>\n",
       "      <td>42.0</td>\n",
       "      <td>...</td>\n",
       "      <td>31.0</td>\n",
       "      <td>1.0</td>\n",
       "      <td>36.0</td>\n",
       "      <td>48.0</td>\n",
       "      <td>11.0</td>\n",
       "      <td>8.0</td>\n",
       "      <td>46.0</td>\n",
       "      <td>33.0</td>\n",
       "      <td>29.0</td>\n",
       "      <td>1.0</td>\n",
       "    </tr>\n",
       "    <tr>\n",
       "      <th>1</th>\n",
       "      <td>16.0</td>\n",
       "      <td>15.0</td>\n",
       "      <td>67.0</td>\n",
       "      <td>0.0</td>\n",
       "      <td>3.0</td>\n",
       "      <td>62.0</td>\n",
       "      <td>187.0</td>\n",
       "      <td>6.0</td>\n",
       "      <td>0.0</td>\n",
       "      <td>40.0</td>\n",
       "      <td>...</td>\n",
       "      <td>28.0</td>\n",
       "      <td>0.0</td>\n",
       "      <td>6.0</td>\n",
       "      <td>41.0</td>\n",
       "      <td>2.0</td>\n",
       "      <td>2.0</td>\n",
       "      <td>76.0</td>\n",
       "      <td>10.0</td>\n",
       "      <td>16.0</td>\n",
       "      <td>3.0</td>\n",
       "    </tr>\n",
       "    <tr>\n",
       "      <th>2</th>\n",
       "      <td>13.0</td>\n",
       "      <td>12.0</td>\n",
       "      <td>28.0</td>\n",
       "      <td>0.0</td>\n",
       "      <td>2.0</td>\n",
       "      <td>93.0</td>\n",
       "      <td>402.0</td>\n",
       "      <td>7.0</td>\n",
       "      <td>4.0</td>\n",
       "      <td>9.0</td>\n",
       "      <td>...</td>\n",
       "      <td>59.0</td>\n",
       "      <td>0.0</td>\n",
       "      <td>4.0</td>\n",
       "      <td>21.0</td>\n",
       "      <td>5.0</td>\n",
       "      <td>3.0</td>\n",
       "      <td>25.0</td>\n",
       "      <td>16.0</td>\n",
       "      <td>17.0</td>\n",
       "      <td>0.0</td>\n",
       "    </tr>\n",
       "    <tr>\n",
       "      <th>3</th>\n",
       "      <td>1.0</td>\n",
       "      <td>10.0</td>\n",
       "      <td>0.0</td>\n",
       "      <td>0.0</td>\n",
       "      <td>0.0</td>\n",
       "      <td>57.0</td>\n",
       "      <td>15.0</td>\n",
       "      <td>0.0</td>\n",
       "      <td>0.0</td>\n",
       "      <td>27.0</td>\n",
       "      <td>...</td>\n",
       "      <td>1.0</td>\n",
       "      <td>0.0</td>\n",
       "      <td>2.0</td>\n",
       "      <td>2.0</td>\n",
       "      <td>0.0</td>\n",
       "      <td>0.0</td>\n",
       "      <td>0.0</td>\n",
       "      <td>9.0</td>\n",
       "      <td>0.0</td>\n",
       "      <td>0.0</td>\n",
       "    </tr>\n",
       "  </tbody>\n",
       "</table>\n",
       "<p>4 rows × 26 columns</p>\n",
       "</div>"
      ],
      "text/plain": [
       "Sector     -1  Accounting & Legal  Aerospace & Defense  \\\n",
       "Cluster                                                  \n",
       "0        55.0                48.0                 98.0   \n",
       "1        16.0                15.0                 67.0   \n",
       "2        13.0                12.0                 28.0   \n",
       "3         1.0                10.0                  0.0   \n",
       "\n",
       "Sector   Agriculture & Forestry  Arts, Entertainment & Recreation  \\\n",
       "Cluster                                                             \n",
       "0                           3.0                              10.0   \n",
       "1                           0.0                               3.0   \n",
       "2                           0.0                               2.0   \n",
       "3                           0.0                               0.0   \n",
       "\n",
       "Sector   Biotech & Pharmaceuticals  Business Services  \\\n",
       "Cluster                                                 \n",
       "0                             78.0             1002.0   \n",
       "1                             62.0              187.0   \n",
       "2                             93.0              402.0   \n",
       "3                             57.0               15.0   \n",
       "\n",
       "Sector   Construction, Repair & Maintenance  Consumer Services  Education  \\\n",
       "Cluster                                                                     \n",
       "0                                      15.0                4.0       42.0   \n",
       "1                                       6.0                0.0       40.0   \n",
       "2                                       7.0                4.0        9.0   \n",
       "3                                       0.0                0.0       27.0   \n",
       "\n",
       "Sector   ...  Media  Mining & Metals  Non-Profit  \\\n",
       "Cluster  ...                                       \n",
       "0        ...   31.0              1.0        36.0   \n",
       "1        ...   28.0              0.0         6.0   \n",
       "2        ...   59.0              0.0         4.0   \n",
       "3        ...    1.0              0.0         2.0   \n",
       "\n",
       "Sector   Oil, Gas, Energy & Utilities  Real Estate  \\\n",
       "Cluster                                              \n",
       "0                                48.0         11.0   \n",
       "1                                41.0          2.0   \n",
       "2                                21.0          5.0   \n",
       "3                                 2.0          0.0   \n",
       "\n",
       "Sector   Restaurants, Bars & Food Services  Retail  Telecommunications  \\\n",
       "Cluster                                                                  \n",
       "0                                      8.0    46.0                33.0   \n",
       "1                                      2.0    76.0                10.0   \n",
       "2                                      3.0    25.0                16.0   \n",
       "3                                      0.0     0.0                 9.0   \n",
       "\n",
       "Sector   Transportation & Logistics  Travel & Tourism  \n",
       "Cluster                                                \n",
       "0                              29.0               1.0  \n",
       "1                              16.0               3.0  \n",
       "2                              17.0               0.0  \n",
       "3                               0.0               0.0  \n",
       "\n",
       "[4 rows x 26 columns]"
      ]
     },
     "execution_count": 160,
     "metadata": {},
     "output_type": "execute_result"
    }
   ],
   "source": [
    "data_cluster.groupby(by=['Cluster', 'Sector']).size().unstack().fillna(0)"
   ]
  },
  {
   "cell_type": "code",
   "execution_count": 143,
   "metadata": {},
   "outputs": [],
   "source": [
    "df = data_cluster[data_cluster['Location State']!=' United Kingdom'].groupby(by=['Cluster', 'Location State']).size().unstack().fillna(0)"
   ]
  },
  {
   "cell_type": "code",
   "execution_count": 144,
   "metadata": {},
   "outputs": [
    {
     "data": {
      "text/html": [
       "<div>\n",
       "<style scoped>\n",
       "    .dataframe tbody tr th:only-of-type {\n",
       "        vertical-align: middle;\n",
       "    }\n",
       "\n",
       "    .dataframe tbody tr th {\n",
       "        vertical-align: top;\n",
       "    }\n",
       "\n",
       "    .dataframe thead th {\n",
       "        text-align: right;\n",
       "    }\n",
       "</style>\n",
       "<table border=\"1\" class=\"dataframe\">\n",
       "  <thead>\n",
       "    <tr style=\"text-align: right;\">\n",
       "      <th>Location State</th>\n",
       "      <th>AZ</th>\n",
       "      <th>CA</th>\n",
       "      <th>CO</th>\n",
       "      <th>DE</th>\n",
       "      <th>FL</th>\n",
       "      <th>GA</th>\n",
       "      <th>IL</th>\n",
       "      <th>IN</th>\n",
       "      <th>KS</th>\n",
       "      <th>NC</th>\n",
       "      <th>NJ</th>\n",
       "      <th>NY</th>\n",
       "      <th>OH</th>\n",
       "      <th>PA</th>\n",
       "      <th>SC</th>\n",
       "      <th>TX</th>\n",
       "      <th>UT</th>\n",
       "      <th>VA</th>\n",
       "      <th>WA</th>\n",
       "    </tr>\n",
       "    <tr>\n",
       "      <th>Cluster</th>\n",
       "      <th></th>\n",
       "      <th></th>\n",
       "      <th></th>\n",
       "      <th></th>\n",
       "      <th></th>\n",
       "      <th></th>\n",
       "      <th></th>\n",
       "      <th></th>\n",
       "      <th></th>\n",
       "      <th></th>\n",
       "      <th></th>\n",
       "      <th></th>\n",
       "      <th></th>\n",
       "      <th></th>\n",
       "      <th></th>\n",
       "      <th></th>\n",
       "      <th></th>\n",
       "      <th></th>\n",
       "      <th></th>\n",
       "    </tr>\n",
       "  </thead>\n",
       "  <tbody>\n",
       "    <tr>\n",
       "      <th>0</th>\n",
       "      <td>345.0</td>\n",
       "      <td>434.0</td>\n",
       "      <td>50.0</td>\n",
       "      <td>23.0</td>\n",
       "      <td>241.0</td>\n",
       "      <td>3.0</td>\n",
       "      <td>354.0</td>\n",
       "      <td>14.0</td>\n",
       "      <td>2.0</td>\n",
       "      <td>46.0</td>\n",
       "      <td>67.0</td>\n",
       "      <td>193.0</td>\n",
       "      <td>50.0</td>\n",
       "      <td>280.0</td>\n",
       "      <td>2.0</td>\n",
       "      <td>1567.0</td>\n",
       "      <td>11.0</td>\n",
       "      <td>27.0</td>\n",
       "      <td>33.0</td>\n",
       "    </tr>\n",
       "    <tr>\n",
       "      <th>1</th>\n",
       "      <td>89.0</td>\n",
       "      <td>211.0</td>\n",
       "      <td>9.0</td>\n",
       "      <td>2.0</td>\n",
       "      <td>87.0</td>\n",
       "      <td>0.0</td>\n",
       "      <td>120.0</td>\n",
       "      <td>2.0</td>\n",
       "      <td>0.0</td>\n",
       "      <td>8.0</td>\n",
       "      <td>14.0</td>\n",
       "      <td>77.0</td>\n",
       "      <td>55.0</td>\n",
       "      <td>54.0</td>\n",
       "      <td>0.0</td>\n",
       "      <td>421.0</td>\n",
       "      <td>1.0</td>\n",
       "      <td>2.0</td>\n",
       "      <td>2.0</td>\n",
       "    </tr>\n",
       "    <tr>\n",
       "      <th>2</th>\n",
       "      <td>75.0</td>\n",
       "      <td>1087.0</td>\n",
       "      <td>0.0</td>\n",
       "      <td>12.0</td>\n",
       "      <td>2.0</td>\n",
       "      <td>0.0</td>\n",
       "      <td>93.0</td>\n",
       "      <td>0.0</td>\n",
       "      <td>0.0</td>\n",
       "      <td>0.0</td>\n",
       "      <td>34.0</td>\n",
       "      <td>181.0</td>\n",
       "      <td>11.0</td>\n",
       "      <td>73.0</td>\n",
       "      <td>0.0</td>\n",
       "      <td>313.0</td>\n",
       "      <td>0.0</td>\n",
       "      <td>0.0</td>\n",
       "      <td>0.0</td>\n",
       "    </tr>\n",
       "    <tr>\n",
       "      <th>3</th>\n",
       "      <td>70.0</td>\n",
       "      <td>71.0</td>\n",
       "      <td>1.0</td>\n",
       "      <td>13.0</td>\n",
       "      <td>51.0</td>\n",
       "      <td>1.0</td>\n",
       "      <td>32.0</td>\n",
       "      <td>1.0</td>\n",
       "      <td>0.0</td>\n",
       "      <td>3.0</td>\n",
       "      <td>23.0</td>\n",
       "      <td>63.0</td>\n",
       "      <td>17.0</td>\n",
       "      <td>60.0</td>\n",
       "      <td>0.0</td>\n",
       "      <td>120.0</td>\n",
       "      <td>2.0</td>\n",
       "      <td>1.0</td>\n",
       "      <td>1.0</td>\n",
       "    </tr>\n",
       "  </tbody>\n",
       "</table>\n",
       "</div>"
      ],
      "text/plain": [
       "Location State     AZ      CA    CO    DE     FL   GA     IL    IN   KS    NC  \\\n",
       "Cluster                                                                         \n",
       "0               345.0   434.0  50.0  23.0  241.0  3.0  354.0  14.0  2.0  46.0   \n",
       "1                89.0   211.0   9.0   2.0   87.0  0.0  120.0   2.0  0.0   8.0   \n",
       "2                75.0  1087.0   0.0  12.0    2.0  0.0   93.0   0.0  0.0   0.0   \n",
       "3                70.0    71.0   1.0  13.0   51.0  1.0   32.0   1.0  0.0   3.0   \n",
       "\n",
       "Location State    NJ     NY    OH     PA   SC      TX    UT    VA    WA  \n",
       "Cluster                                                                  \n",
       "0               67.0  193.0  50.0  280.0  2.0  1567.0  11.0  27.0  33.0  \n",
       "1               14.0   77.0  55.0   54.0  0.0   421.0   1.0   2.0   2.0  \n",
       "2               34.0  181.0  11.0   73.0  0.0   313.0   0.0   0.0   0.0  \n",
       "3               23.0   63.0  17.0   60.0  0.0   120.0   2.0   1.0   1.0  "
      ]
     },
     "execution_count": 144,
     "metadata": {},
     "output_type": "execute_result"
    }
   ],
   "source": [
    "df"
   ]
  },
  {
   "cell_type": "code",
   "execution_count": 161,
   "metadata": {
    "scrolled": true
   },
   "outputs": [
    {
     "data": {
      "image/png": "[encoded data removed]",
      "text/plain": [
       "<Figure size 1080x432 with 1 Axes>"
      ]
     },
     "metadata": {
      "needs_background": "light"
     },
     "output_type": "display_data"
    }
   ],
   "source": [
    "states = df.columns\n",
    "plt.figure(figsize=(15,6))\n",
    "x = np.arange(len(states))\n",
    "width = 0.2\n",
    "plt.bar(x - 1.5 * width, df.iloc[0], width, label='Cluster A')\n",
    "plt.bar(x - width/2, df.iloc[1], width, label='Cluster B')\n",
    "plt.bar(x + width/2, df.iloc[2], width, label='Cluster C')\n",
    "plt.bar(x + 1.5 * width, df.iloc[3], width, label='Cluster D')\n",
    "plt.xticks(x + width/2, states)\n",
    "plt.ylabel('Avg Salary')\n",
    "plt.legend()\n",
    "plt.show()"
   ]
  },
  {
   "cell_type": "code",
   "execution_count": 153,
   "metadata": {},
   "outputs": [],
   "source": [
    "df2 = data_cluster[data_cluster['Type of ownership']!='Unknown'].groupby(by=['Cluster', 'Type of ownership']).size().unstack().fillna(0)"
   ]
  },
  {
   "cell_type": "code",
   "execution_count": 154,
   "metadata": {},
   "outputs": [
    {
     "data": {
      "text/html": [
       "<div>\n",
       "<style scoped>\n",
       "    .dataframe tbody tr th:only-of-type {\n",
       "        vertical-align: middle;\n",
       "    }\n",
       "\n",
       "    .dataframe tbody tr th {\n",
       "        vertical-align: top;\n",
       "    }\n",
       "\n",
       "    .dataframe thead th {\n",
       "        text-align: right;\n",
       "    }\n",
       "</style>\n",
       "<table border=\"1\" class=\"dataframe\">\n",
       "  <thead>\n",
       "    <tr style=\"text-align: right;\">\n",
       "      <th>Type of ownership</th>\n",
       "      <th>College / University</th>\n",
       "      <th>Company - Private</th>\n",
       "      <th>Company - Public</th>\n",
       "      <th>Contract</th>\n",
       "      <th>Government</th>\n",
       "      <th>Hospital</th>\n",
       "      <th>Nonprofit Organization</th>\n",
       "      <th>Other Organization</th>\n",
       "      <th>Private Practice / Firm</th>\n",
       "      <th>School / School District</th>\n",
       "      <th>Self-employed</th>\n",
       "      <th>Subsidiary or Business Segment</th>\n",
       "    </tr>\n",
       "    <tr>\n",
       "      <th>Cluster</th>\n",
       "      <th></th>\n",
       "      <th></th>\n",
       "      <th></th>\n",
       "      <th></th>\n",
       "      <th></th>\n",
       "      <th></th>\n",
       "      <th></th>\n",
       "      <th></th>\n",
       "      <th></th>\n",
       "      <th></th>\n",
       "      <th></th>\n",
       "      <th></th>\n",
       "    </tr>\n",
       "  </thead>\n",
       "  <tbody>\n",
       "    <tr>\n",
       "      <th>0</th>\n",
       "      <td>25.0</td>\n",
       "      <td>2278.0</td>\n",
       "      <td>1042.0</td>\n",
       "      <td>14.0</td>\n",
       "      <td>31.0</td>\n",
       "      <td>8.0</td>\n",
       "      <td>101.0</td>\n",
       "      <td>3.0</td>\n",
       "      <td>8.0</td>\n",
       "      <td>2.0</td>\n",
       "      <td>2.0</td>\n",
       "      <td>201.0</td>\n",
       "    </tr>\n",
       "    <tr>\n",
       "      <th>1</th>\n",
       "      <td>38.0</td>\n",
       "      <td>241.0</td>\n",
       "      <td>577.0</td>\n",
       "      <td>0.0</td>\n",
       "      <td>19.0</td>\n",
       "      <td>8.0</td>\n",
       "      <td>201.0</td>\n",
       "      <td>3.0</td>\n",
       "      <td>13.0</td>\n",
       "      <td>1.0</td>\n",
       "      <td>0.0</td>\n",
       "      <td>52.0</td>\n",
       "    </tr>\n",
       "    <tr>\n",
       "      <th>2</th>\n",
       "      <td>0.0</td>\n",
       "      <td>948.0</td>\n",
       "      <td>753.0</td>\n",
       "      <td>1.0</td>\n",
       "      <td>5.0</td>\n",
       "      <td>0.0</td>\n",
       "      <td>31.0</td>\n",
       "      <td>0.0</td>\n",
       "      <td>4.0</td>\n",
       "      <td>1.0</td>\n",
       "      <td>0.0</td>\n",
       "      <td>135.0</td>\n",
       "    </tr>\n",
       "    <tr>\n",
       "      <th>3</th>\n",
       "      <td>26.0</td>\n",
       "      <td>29.0</td>\n",
       "      <td>400.0</td>\n",
       "      <td>0.0</td>\n",
       "      <td>28.0</td>\n",
       "      <td>12.0</td>\n",
       "      <td>26.0</td>\n",
       "      <td>1.0</td>\n",
       "      <td>0.0</td>\n",
       "      <td>2.0</td>\n",
       "      <td>0.0</td>\n",
       "      <td>10.0</td>\n",
       "    </tr>\n",
       "  </tbody>\n",
       "</table>\n",
       "</div>"
      ],
      "text/plain": [
       "Type of ownership  College / University  Company - Private  Company - Public  \\\n",
       "Cluster                                                                        \n",
       "0                                  25.0             2278.0            1042.0   \n",
       "1                                  38.0              241.0             577.0   \n",
       "2                                   0.0              948.0             753.0   \n",
       "3                                  26.0               29.0             400.0   \n",
       "\n",
       "Type of ownership  Contract  Government  Hospital  Nonprofit Organization  \\\n",
       "Cluster                                                                     \n",
       "0                      14.0        31.0       8.0                   101.0   \n",
       "1                       0.0        19.0       8.0                   201.0   \n",
       "2                       1.0         5.0       0.0                    31.0   \n",
       "3                       0.0        28.0      12.0                    26.0   \n",
       "\n",
       "Type of ownership  Other Organization  Private Practice / Firm  \\\n",
       "Cluster                                                          \n",
       "0                                 3.0                      8.0   \n",
       "1                                 3.0                     13.0   \n",
       "2                                 0.0                      4.0   \n",
       "3                                 1.0                      0.0   \n",
       "\n",
       "Type of ownership  School / School District  Self-employed  \\\n",
       "Cluster                                                      \n",
       "0                                       2.0            2.0   \n",
       "1                                       1.0            0.0   \n",
       "2                                       1.0            0.0   \n",
       "3                                       2.0            0.0   \n",
       "\n",
       "Type of ownership  Subsidiary or Business Segment  \n",
       "Cluster                                            \n",
       "0                                           201.0  \n",
       "1                                            52.0  \n",
       "2                                           135.0  \n",
       "3                                            10.0  "
      ]
     },
     "execution_count": 154,
     "metadata": {},
     "output_type": "execute_result"
    }
   ],
   "source": [
    "df2"
   ]
  },
  {
   "cell_type": "code",
   "execution_count": 159,
   "metadata": {},
   "outputs": [
    {
     "data": {
      "image/png": "[encoded data removed]",
      "text/plain": [
       "<Figure size 1080x432 with 1 Axes>"
      ]
     },
     "metadata": {
      "needs_background": "light"
     },
     "output_type": "display_data"
    }
   ],
   "source": [
    "own = df2.columns\n",
    "plt.figure(figsize=(15,6))\n",
    "x = np.arange(len(own))\n",
    "width = 0.2\n",
    "plt.bar(x - 1.5 * width, df2.iloc[0], width, label='Cluster 0')\n",
    "plt.bar(x - width/2, df2.iloc[1], width, label='Cluster 1')\n",
    "plt.bar(x + width/2, df2.iloc[2], width, label='Cluster 2')\n",
    "plt.bar(x + 1.5 * width, df2.iloc[3], width, label='Cluster 3')\n",
    "plt.xticks(x + width/2, own, rotation=90)\n",
    "plt.ylabel('Avg Salary')\n",
    "plt.legend()\n",
    "plt.show()"
   ]
  },
  {
   "cell_type": "markdown",
   "metadata": {},
   "source": [
    "## For Data Scientist 公司推薦"
   ]
  },
  {
   "cell_type": "code",
   "execution_count": 215,
   "metadata": {
    "scrolled": false
   },
   "outputs": [
    {
     "data": {
      "text/html": [
       "<div>\n",
       "<style scoped>\n",
       "    .dataframe tbody tr th:only-of-type {\n",
       "        vertical-align: middle;\n",
       "    }\n",
       "\n",
       "    .dataframe tbody tr th {\n",
       "        vertical-align: top;\n",
       "    }\n",
       "\n",
       "    .dataframe thead th {\n",
       "        text-align: right;\n",
       "    }\n",
       "</style>\n",
       "<table border=\"1\" class=\"dataframe\">\n",
       "  <thead>\n",
       "    <tr style=\"text-align: right;\">\n",
       "      <th></th>\n",
       "      <th></th>\n",
       "      <th></th>\n",
       "      <th>Salary Avg</th>\n",
       "      <th>Rating</th>\n",
       "    </tr>\n",
       "    <tr>\n",
       "      <th>Company Name</th>\n",
       "      <th>Location State</th>\n",
       "      <th>Type of ownership</th>\n",
       "      <th></th>\n",
       "      <th></th>\n",
       "    </tr>\n",
       "  </thead>\n",
       "  <tbody>\n",
       "    <tr>\n",
       "      <th>Scopus IT</th>\n",
       "      <th>CA</th>\n",
       "      <th>Company - Private</th>\n",
       "      <td>225.0</td>\n",
       "      <td>4.2</td>\n",
       "    </tr>\n",
       "    <tr>\n",
       "      <th>Twitter</th>\n",
       "      <th>CA</th>\n",
       "      <th>Company - Public</th>\n",
       "      <td>225.0</td>\n",
       "      <td>4.0</td>\n",
       "    </tr>\n",
       "    <tr>\n",
       "      <th>Accounting Principals</th>\n",
       "      <th>CA</th>\n",
       "      <th>Company - Public</th>\n",
       "      <td>225.0</td>\n",
       "      <td>3.9</td>\n",
       "    </tr>\n",
       "    <tr>\n",
       "      <th>Appen</th>\n",
       "      <th>CA</th>\n",
       "      <th>Company - Public</th>\n",
       "      <td>225.0</td>\n",
       "      <td>3.6</td>\n",
       "    </tr>\n",
       "    <tr>\n",
       "      <th>Signature Consultants</th>\n",
       "      <th>CA</th>\n",
       "      <th>Company - Private</th>\n",
       "      <td>225.0</td>\n",
       "      <td>3.6</td>\n",
       "    </tr>\n",
       "  </tbody>\n",
       "</table>\n",
       "</div>"
      ],
      "text/plain": [
       "                                                        Salary Avg  Rating\n",
       "Company Name          Location State Type of ownership                    \n",
       "Scopus IT              CA            Company - Private       225.0     4.2\n",
       "Twitter                CA            Company - Public        225.0     4.0\n",
       "Accounting Principals  CA            Company - Public        225.0     3.9\n",
       "Appen                  CA            Company - Public        225.0     3.6\n",
       "Signature Consultants  CA            Company - Private       225.0     3.6"
      ]
     },
     "execution_count": 215,
     "metadata": {},
     "output_type": "execute_result"
    }
   ],
   "source": [
    "data_cluster[(data_cluster['Cluster'] == 2) & (data_cluster['Type'] == 'Data Scientist')].groupby(by=['Company Name', 'Location State', 'Type of ownership']).mean()[['Salary Avg', 'Rating']].sort_values(by=[\"Salary Avg\", \"Rating\"], ascending=False).head(5)"
   ]
  },
  {
   "cell_type": "code",
   "execution_count": 216,
   "metadata": {},
   "outputs": [
    {
     "data": {
      "text/html": [
       "<div>\n",
       "<style scoped>\n",
       "    .dataframe tbody tr th:only-of-type {\n",
       "        vertical-align: middle;\n",
       "    }\n",
       "\n",
       "    .dataframe tbody tr th {\n",
       "        vertical-align: top;\n",
       "    }\n",
       "\n",
       "    .dataframe thead th {\n",
       "        text-align: right;\n",
       "    }\n",
       "</style>\n",
       "<table border=\"1\" class=\"dataframe\">\n",
       "  <thead>\n",
       "    <tr style=\"text-align: right;\">\n",
       "      <th></th>\n",
       "      <th></th>\n",
       "      <th></th>\n",
       "      <th>Salary Avg</th>\n",
       "      <th>Rating</th>\n",
       "    </tr>\n",
       "    <tr>\n",
       "      <th>Company Name</th>\n",
       "      <th>Location State</th>\n",
       "      <th>Type of ownership</th>\n",
       "      <th></th>\n",
       "      <th></th>\n",
       "    </tr>\n",
       "  </thead>\n",
       "  <tbody>\n",
       "    <tr>\n",
       "      <th>Marsh &amp; McLennan Companies, Inc.</th>\n",
       "      <th>NY</th>\n",
       "      <th>Company - Public</th>\n",
       "      <td>205.0</td>\n",
       "      <td>3.4</td>\n",
       "    </tr>\n",
       "    <tr>\n",
       "      <th>Pfizer</th>\n",
       "      <th>PA</th>\n",
       "      <th>Company - Public</th>\n",
       "      <td>190.0</td>\n",
       "      <td>4.1</td>\n",
       "    </tr>\n",
       "    <tr>\n",
       "      <th>JPMorgan Chase Bank, N.A.</th>\n",
       "      <th>DE</th>\n",
       "      <th>Company - Public</th>\n",
       "      <td>190.0</td>\n",
       "      <td>3.9</td>\n",
       "    </tr>\n",
       "    <tr>\n",
       "      <th>Citi</th>\n",
       "      <th>DE</th>\n",
       "      <th>Company - Public</th>\n",
       "      <td>190.0</td>\n",
       "      <td>3.7</td>\n",
       "    </tr>\n",
       "    <tr>\n",
       "      <th>Wells Fargo</th>\n",
       "      <th>DE</th>\n",
       "      <th>Company - Public</th>\n",
       "      <td>190.0</td>\n",
       "      <td>3.6</td>\n",
       "    </tr>\n",
       "  </tbody>\n",
       "</table>\n",
       "</div>"
      ],
      "text/plain": [
       "                                                                   Salary Avg  \\\n",
       "Company Name                     Location State Type of ownership               \n",
       "Marsh & McLennan Companies, Inc.  NY            Company - Public        205.0   \n",
       "Pfizer                            PA            Company - Public        190.0   \n",
       "JPMorgan Chase Bank, N.A.         DE            Company - Public        190.0   \n",
       "Citi                              DE            Company - Public        190.0   \n",
       "Wells Fargo                       DE            Company - Public        190.0   \n",
       "\n",
       "                                                                   Rating  \n",
       "Company Name                     Location State Type of ownership          \n",
       "Marsh & McLennan Companies, Inc.  NY            Company - Public      3.4  \n",
       "Pfizer                            PA            Company - Public      4.1  \n",
       "JPMorgan Chase Bank, N.A.         DE            Company - Public      3.9  \n",
       "Citi                              DE            Company - Public      3.7  \n",
       "Wells Fargo                       DE            Company - Public      3.6  "
      ]
     },
     "execution_count": 216,
     "metadata": {},
     "output_type": "execute_result"
    }
   ],
   "source": [
    "data_cluster[(data_cluster['Cluster'] == 3) & (data_cluster['Type'] == 'Data Scientist')].groupby(by=['Company Name', 'Location State', 'Type of ownership']).mean()[['Salary Avg', 'Rating']].sort_values(by=[\"Salary Avg\", \"Rating\"], ascending=False).head(5)"
   ]
  },
  {
   "cell_type": "markdown",
   "metadata": {},
   "source": [
    "## For Data Engineer 公司推薦"
   ]
  },
  {
   "cell_type": "code",
   "execution_count": 217,
   "metadata": {
    "scrolled": false
   },
   "outputs": [
    {
     "data": {
      "text/html": [
       "<div>\n",
       "<style scoped>\n",
       "    .dataframe tbody tr th:only-of-type {\n",
       "        vertical-align: middle;\n",
       "    }\n",
       "\n",
       "    .dataframe tbody tr th {\n",
       "        vertical-align: top;\n",
       "    }\n",
       "\n",
       "    .dataframe thead th {\n",
       "        text-align: right;\n",
       "    }\n",
       "</style>\n",
       "<table border=\"1\" class=\"dataframe\">\n",
       "  <thead>\n",
       "    <tr style=\"text-align: right;\">\n",
       "      <th></th>\n",
       "      <th></th>\n",
       "      <th></th>\n",
       "      <th>Salary Avg</th>\n",
       "      <th>Rating</th>\n",
       "    </tr>\n",
       "    <tr>\n",
       "      <th>Company Name</th>\n",
       "      <th>Location State</th>\n",
       "      <th>Type of ownership</th>\n",
       "      <th></th>\n",
       "      <th></th>\n",
       "    </tr>\n",
       "  </thead>\n",
       "  <tbody>\n",
       "    <tr>\n",
       "      <th>EY</th>\n",
       "      <th>PA</th>\n",
       "      <th>Company - Private</th>\n",
       "      <td>217.5</td>\n",
       "      <td>3.8</td>\n",
       "    </tr>\n",
       "    <tr>\n",
       "      <th>Pyramid Consulting, Inc</th>\n",
       "      <th>DE</th>\n",
       "      <th>Company - Private</th>\n",
       "      <td>217.5</td>\n",
       "      <td>3.7</td>\n",
       "    </tr>\n",
       "    <tr>\n",
       "      <th>W3Global</th>\n",
       "      <th>CA</th>\n",
       "      <th>Company - Private</th>\n",
       "      <td>204.0</td>\n",
       "      <td>4.5</td>\n",
       "    </tr>\n",
       "    <tr>\n",
       "      <th>TEKsystems, Inc</th>\n",
       "      <th>CA</th>\n",
       "      <th>Subsidiary or Business Segment</th>\n",
       "      <td>204.0</td>\n",
       "      <td>3.9</td>\n",
       "    </tr>\n",
       "    <tr>\n",
       "      <th>LanceSoft Inc</th>\n",
       "      <th>CA</th>\n",
       "      <th>Company - Private</th>\n",
       "      <td>204.0</td>\n",
       "      <td>3.8</td>\n",
       "    </tr>\n",
       "  </tbody>\n",
       "</table>\n",
       "</div>"
      ],
      "text/plain": [
       "                                                                       Salary Avg  \\\n",
       "Company Name            Location State Type of ownership                            \n",
       "EY                       PA            Company - Private                    217.5   \n",
       "Pyramid Consulting, Inc  DE            Company - Private                    217.5   \n",
       "W3Global                 CA            Company - Private                    204.0   \n",
       "TEKsystems, Inc          CA            Subsidiary or Business Segment       204.0   \n",
       "LanceSoft Inc            CA            Company - Private                    204.0   \n",
       "\n",
       "                                                                       Rating  \n",
       "Company Name            Location State Type of ownership                       \n",
       "EY                       PA            Company - Private                  3.8  \n",
       "Pyramid Consulting, Inc  DE            Company - Private                  3.7  \n",
       "W3Global                 CA            Company - Private                  4.5  \n",
       "TEKsystems, Inc          CA            Subsidiary or Business Segment     3.9  \n",
       "LanceSoft Inc            CA            Company - Private                  3.8  "
      ]
     },
     "execution_count": 217,
     "metadata": {},
     "output_type": "execute_result"
    }
   ],
   "source": [
    "data_cluster[(data_cluster['Cluster'] == 2) & (data_cluster['Type'] == 'Data Engineer')].groupby(by=['Company Name', 'Location State', 'Type of ownership']).mean()[['Salary Avg', 'Rating']].sort_values(by=[\"Salary Avg\", \"Rating\"], ascending=False).head(5)"
   ]
  },
  {
   "cell_type": "code",
   "execution_count": 218,
   "metadata": {},
   "outputs": [
    {
     "data": {
      "text/html": [
       "<div>\n",
       "<style scoped>\n",
       "    .dataframe tbody tr th:only-of-type {\n",
       "        vertical-align: middle;\n",
       "    }\n",
       "\n",
       "    .dataframe tbody tr th {\n",
       "        vertical-align: top;\n",
       "    }\n",
       "\n",
       "    .dataframe thead th {\n",
       "        text-align: right;\n",
       "    }\n",
       "</style>\n",
       "<table border=\"1\" class=\"dataframe\">\n",
       "  <thead>\n",
       "    <tr style=\"text-align: right;\">\n",
       "      <th></th>\n",
       "      <th></th>\n",
       "      <th></th>\n",
       "      <th>Salary Avg</th>\n",
       "      <th>Rating</th>\n",
       "    </tr>\n",
       "    <tr>\n",
       "      <th>Company Name</th>\n",
       "      <th>Location State</th>\n",
       "      <th>Type of ownership</th>\n",
       "      <th></th>\n",
       "      <th></th>\n",
       "    </tr>\n",
       "  </thead>\n",
       "  <tbody>\n",
       "    <tr>\n",
       "      <th>JPMorgan Chase Bank, N.A.</th>\n",
       "      <th>DE</th>\n",
       "      <th>Company - Public</th>\n",
       "      <td>217.500000</td>\n",
       "      <td>3.9</td>\n",
       "    </tr>\n",
       "    <tr>\n",
       "      <th>Aetna</th>\n",
       "      <th>IL</th>\n",
       "      <th>Company - Public</th>\n",
       "      <td>171.500000</td>\n",
       "      <td>3.3</td>\n",
       "    </tr>\n",
       "    <tr>\n",
       "      <th>Nokia</th>\n",
       "      <th>CA</th>\n",
       "      <th>Company - Public</th>\n",
       "      <td>153.500000</td>\n",
       "      <td>4.1</td>\n",
       "    </tr>\n",
       "    <tr>\n",
       "      <th>GSK</th>\n",
       "      <th>PA</th>\n",
       "      <th>Company - Public</th>\n",
       "      <td>127.666667</td>\n",
       "      <td>3.9</td>\n",
       "    </tr>\n",
       "    <tr>\n",
       "      <th>New York Life Insurance Co</th>\n",
       "      <th>NY</th>\n",
       "      <th>Company - Private</th>\n",
       "      <td>119.500000</td>\n",
       "      <td>3.6</td>\n",
       "    </tr>\n",
       "  </tbody>\n",
       "</table>\n",
       "</div>"
      ],
      "text/plain": [
       "                                                             Salary Avg  \\\n",
       "Company Name               Location State Type of ownership               \n",
       "JPMorgan Chase Bank, N.A.   DE            Company - Public   217.500000   \n",
       "Aetna                       IL            Company - Public   171.500000   \n",
       "Nokia                       CA            Company - Public   153.500000   \n",
       "GSK                         PA            Company - Public   127.666667   \n",
       "New York Life Insurance Co  NY            Company - Private  119.500000   \n",
       "\n",
       "                                                             Rating  \n",
       "Company Name               Location State Type of ownership          \n",
       "JPMorgan Chase Bank, N.A.   DE            Company - Public      3.9  \n",
       "Aetna                       IL            Company - Public      3.3  \n",
       "Nokia                       CA            Company - Public      4.1  \n",
       "GSK                         PA            Company - Public      3.9  \n",
       "New York Life Insurance Co  NY            Company - Private     3.6  "
      ]
     },
     "execution_count": 218,
     "metadata": {},
     "output_type": "execute_result"
    }
   ],
   "source": [
    "data_cluster[(data_cluster['Cluster'] == 3) & (data_cluster['Type'] == 'Data Engineer')].groupby(by=['Company Name', 'Location State', 'Type of ownership']).mean()[['Salary Avg', 'Rating']].sort_values(by=[\"Salary Avg\", \"Rating\"], ascending=False).head(5)"
   ]
  },
  {
   "cell_type": "markdown",
   "metadata": {},
   "source": [
    "## For Data Analyst 公司推薦"
   ]
  },
  {
   "cell_type": "code",
   "execution_count": 219,
   "metadata": {
    "scrolled": false
   },
   "outputs": [
    {
     "data": {
      "text/html": [
       "<div>\n",
       "<style scoped>\n",
       "    .dataframe tbody tr th:only-of-type {\n",
       "        vertical-align: middle;\n",
       "    }\n",
       "\n",
       "    .dataframe tbody tr th {\n",
       "        vertical-align: top;\n",
       "    }\n",
       "\n",
       "    .dataframe thead th {\n",
       "        text-align: right;\n",
       "    }\n",
       "</style>\n",
       "<table border=\"1\" class=\"dataframe\">\n",
       "  <thead>\n",
       "    <tr style=\"text-align: right;\">\n",
       "      <th></th>\n",
       "      <th></th>\n",
       "      <th></th>\n",
       "      <th>Salary Avg</th>\n",
       "      <th>Rating</th>\n",
       "    </tr>\n",
       "    <tr>\n",
       "      <th>Company Name</th>\n",
       "      <th>Location State</th>\n",
       "      <th>Type of ownership</th>\n",
       "      <th></th>\n",
       "      <th></th>\n",
       "    </tr>\n",
       "  </thead>\n",
       "  <tbody>\n",
       "    <tr>\n",
       "      <th>NVIDIA</th>\n",
       "      <th>CA</th>\n",
       "      <th>Company - Public</th>\n",
       "      <td>150.0</td>\n",
       "      <td>4.6</td>\n",
       "    </tr>\n",
       "    <tr>\n",
       "      <th>OSI Engineering</th>\n",
       "      <th>CA</th>\n",
       "      <th>Company - Private</th>\n",
       "      <td>150.0</td>\n",
       "      <td>4.5</td>\n",
       "    </tr>\n",
       "    <tr>\n",
       "      <th>Connor Group</th>\n",
       "      <th>CA</th>\n",
       "      <th>Company - Private</th>\n",
       "      <td>150.0</td>\n",
       "      <td>4.0</td>\n",
       "    </tr>\n",
       "    <tr>\n",
       "      <th>LeanData</th>\n",
       "      <th>CA</th>\n",
       "      <th>Company - Private</th>\n",
       "      <td>150.0</td>\n",
       "      <td>4.0</td>\n",
       "    </tr>\n",
       "    <tr>\n",
       "      <th>Zipongo</th>\n",
       "      <th>CA</th>\n",
       "      <th>Company - Private</th>\n",
       "      <td>150.0</td>\n",
       "      <td>4.0</td>\n",
       "    </tr>\n",
       "  </tbody>\n",
       "</table>\n",
       "</div>"
      ],
      "text/plain": [
       "                                                  Salary Avg  Rating\n",
       "Company Name    Location State Type of ownership                    \n",
       "NVIDIA           CA            Company - Public        150.0     4.6\n",
       "OSI Engineering  CA            Company - Private       150.0     4.5\n",
       "Connor Group     CA            Company - Private       150.0     4.0\n",
       "LeanData         CA            Company - Private       150.0     4.0\n",
       "Zipongo          CA            Company - Private       150.0     4.0"
      ]
     },
     "execution_count": 219,
     "metadata": {},
     "output_type": "execute_result"
    }
   ],
   "source": [
    "data_cluster[(data_cluster['Cluster'] == 2) & (data_cluster['Type'] == 'Data Analyst')].groupby(by=['Company Name', 'Location State', 'Type of ownership']).mean()[['Salary Avg', 'Rating']].sort_values(by=[\"Salary Avg\", \"Rating\"], ascending=False).head(5)"
   ]
  },
  {
   "cell_type": "code",
   "execution_count": 220,
   "metadata": {},
   "outputs": [
    {
     "data": {
      "text/html": [
       "<div>\n",
       "<style scoped>\n",
       "    .dataframe tbody tr th:only-of-type {\n",
       "        vertical-align: middle;\n",
       "    }\n",
       "\n",
       "    .dataframe tbody tr th {\n",
       "        vertical-align: top;\n",
       "    }\n",
       "\n",
       "    .dataframe thead th {\n",
       "        text-align: right;\n",
       "    }\n",
       "</style>\n",
       "<table border=\"1\" class=\"dataframe\">\n",
       "  <thead>\n",
       "    <tr style=\"text-align: right;\">\n",
       "      <th></th>\n",
       "      <th></th>\n",
       "      <th></th>\n",
       "      <th>Salary Avg</th>\n",
       "      <th>Rating</th>\n",
       "    </tr>\n",
       "    <tr>\n",
       "      <th>Company Name</th>\n",
       "      <th>Location State</th>\n",
       "      <th>Type of ownership</th>\n",
       "      <th></th>\n",
       "      <th></th>\n",
       "    </tr>\n",
       "  </thead>\n",
       "  <tbody>\n",
       "    <tr>\n",
       "      <th>UC San Francisco</th>\n",
       "      <th>CA</th>\n",
       "      <th>College / University</th>\n",
       "      <td>138.5</td>\n",
       "      <td>4.1</td>\n",
       "    </tr>\n",
       "    <tr>\n",
       "      <th>Providence Health &amp; Services</th>\n",
       "      <th>CA</th>\n",
       "      <th>Nonprofit Organization</th>\n",
       "      <td>122.5</td>\n",
       "      <td>3.4</td>\n",
       "    </tr>\n",
       "    <tr>\n",
       "      <th>Metropolitan Family Services</th>\n",
       "      <th>IL</th>\n",
       "      <th>Company - Private</th>\n",
       "      <td>113.0</td>\n",
       "      <td>3.2</td>\n",
       "    </tr>\n",
       "    <tr>\n",
       "      <th>The Bank of New York Mellon</th>\n",
       "      <th>NJ</th>\n",
       "      <th>Company - Public</th>\n",
       "      <td>106.0</td>\n",
       "      <td>3.2</td>\n",
       "    </tr>\n",
       "    <tr>\n",
       "      <th>University of California</th>\n",
       "      <th>CA</th>\n",
       "      <th>College / University</th>\n",
       "      <td>99.0</td>\n",
       "      <td>4.2</td>\n",
       "    </tr>\n",
       "  </tbody>\n",
       "</table>\n",
       "</div>"
      ],
      "text/plain": [
       "                                                                    Salary Avg  \\\n",
       "Company Name                 Location State Type of ownership                    \n",
       "UC San Francisco              CA            College / University         138.5   \n",
       "Providence Health & Services  CA            Nonprofit Organization       122.5   \n",
       "Metropolitan Family Services  IL            Company - Private            113.0   \n",
       "The Bank of New York Mellon   NJ            Company - Public             106.0   \n",
       "University of California      CA            College / University          99.0   \n",
       "\n",
       "                                                                    Rating  \n",
       "Company Name                 Location State Type of ownership               \n",
       "UC San Francisco              CA            College / University       4.1  \n",
       "Providence Health & Services  CA            Nonprofit Organization     3.4  \n",
       "Metropolitan Family Services  IL            Company - Private          3.2  \n",
       "The Bank of New York Mellon   NJ            Company - Public           3.2  \n",
       "University of California      CA            College / University       4.2  "
      ]
     },
     "execution_count": 220,
     "metadata": {},
     "output_type": "execute_result"
    }
   ],
   "source": [
    "data_cluster[(data_cluster['Cluster'] == 3) & (data_cluster['Type'] == 'Data Analyst')].groupby(by=['Company Name', 'Location State', 'Type of ownership']).mean()[['Salary Avg', 'Rating']].sort_values(by=[\"Salary Avg\", \"Rating\"], ascending=False).head(5)"
   ]
  },
  {
   "cell_type": "markdown",
   "metadata": {},
   "source": [
    "## For Business Analyst 公司推薦"
   ]
  },
  {
   "cell_type": "code",
   "execution_count": 221,
   "metadata": {
    "scrolled": false
   },
   "outputs": [
    {
     "data": {
      "text/html": [
       "<div>\n",
       "<style scoped>\n",
       "    .dataframe tbody tr th:only-of-type {\n",
       "        vertical-align: middle;\n",
       "    }\n",
       "\n",
       "    .dataframe tbody tr th {\n",
       "        vertical-align: top;\n",
       "    }\n",
       "\n",
       "    .dataframe thead th {\n",
       "        text-align: right;\n",
       "    }\n",
       "</style>\n",
       "<table border=\"1\" class=\"dataframe\">\n",
       "  <thead>\n",
       "    <tr style=\"text-align: right;\">\n",
       "      <th></th>\n",
       "      <th></th>\n",
       "      <th></th>\n",
       "      <th>Salary Avg</th>\n",
       "      <th>Rating</th>\n",
       "    </tr>\n",
       "    <tr>\n",
       "      <th>Company Name</th>\n",
       "      <th>Location State</th>\n",
       "      <th>Type of ownership</th>\n",
       "      <th></th>\n",
       "      <th></th>\n",
       "    </tr>\n",
       "  </thead>\n",
       "  <tbody>\n",
       "    <tr>\n",
       "      <th>Jobot</th>\n",
       "      <th>CA</th>\n",
       "      <th>Company - Private</th>\n",
       "      <td>172.5</td>\n",
       "      <td>4.9</td>\n",
       "    </tr>\n",
       "    <tr>\n",
       "      <th>VBeyond Corporation</th>\n",
       "      <th>CA</th>\n",
       "      <th>Company - Private</th>\n",
       "      <td>172.5</td>\n",
       "      <td>4.4</td>\n",
       "    </tr>\n",
       "    <tr>\n",
       "      <th>Cynet Systems</th>\n",
       "      <th>CA</th>\n",
       "      <th>Company - Private</th>\n",
       "      <td>172.5</td>\n",
       "      <td>4.0</td>\n",
       "    </tr>\n",
       "    <tr>\n",
       "      <th>Systems Integration Solutions</th>\n",
       "      <th>CA</th>\n",
       "      <th>Company - Private</th>\n",
       "      <td>172.5</td>\n",
       "      <td>3.9</td>\n",
       "    </tr>\n",
       "    <tr>\n",
       "      <th>Mumba Technologies</th>\n",
       "      <th>CA</th>\n",
       "      <th>Company - Private</th>\n",
       "      <td>172.5</td>\n",
       "      <td>3.3</td>\n",
       "    </tr>\n",
       "  </tbody>\n",
       "</table>\n",
       "</div>"
      ],
      "text/plain": [
       "                                                                Salary Avg  \\\n",
       "Company Name                  Location State Type of ownership               \n",
       "Jobot                          CA            Company - Private       172.5   \n",
       "VBeyond Corporation            CA            Company - Private       172.5   \n",
       "Cynet Systems                  CA            Company - Private       172.5   \n",
       "Systems Integration Solutions  CA            Company - Private       172.5   \n",
       "Mumba Technologies             CA            Company - Private       172.5   \n",
       "\n",
       "                                                                Rating  \n",
       "Company Name                  Location State Type of ownership          \n",
       "Jobot                          CA            Company - Private     4.9  \n",
       "VBeyond Corporation            CA            Company - Private     4.4  \n",
       "Cynet Systems                  CA            Company - Private     4.0  \n",
       "Systems Integration Solutions  CA            Company - Private     3.9  \n",
       "Mumba Technologies             CA            Company - Private     3.3  "
      ]
     },
     "execution_count": 221,
     "metadata": {},
     "output_type": "execute_result"
    }
   ],
   "source": [
    "data_cluster[(data_cluster['Cluster'] == 2) & (data_cluster['Type'] == 'Business Analyst')].groupby(by=['Company Name', 'Location State', 'Type of ownership']).mean()[['Salary Avg', 'Rating']].sort_values(by=[\"Salary Avg\", \"Rating\"], ascending=False).head(5)"
   ]
  },
  {
   "cell_type": "code",
   "execution_count": 222,
   "metadata": {},
   "outputs": [
    {
     "data": {
      "text/html": [
       "<div>\n",
       "<style scoped>\n",
       "    .dataframe tbody tr th:only-of-type {\n",
       "        vertical-align: middle;\n",
       "    }\n",
       "\n",
       "    .dataframe tbody tr th {\n",
       "        vertical-align: top;\n",
       "    }\n",
       "\n",
       "    .dataframe thead th {\n",
       "        text-align: right;\n",
       "    }\n",
       "</style>\n",
       "<table border=\"1\" class=\"dataframe\">\n",
       "  <thead>\n",
       "    <tr style=\"text-align: right;\">\n",
       "      <th></th>\n",
       "      <th></th>\n",
       "      <th></th>\n",
       "      <th>Salary Avg</th>\n",
       "      <th>Rating</th>\n",
       "    </tr>\n",
       "    <tr>\n",
       "      <th>Company Name</th>\n",
       "      <th>Location State</th>\n",
       "      <th>Type of ownership</th>\n",
       "      <th></th>\n",
       "      <th></th>\n",
       "    </tr>\n",
       "  </thead>\n",
       "  <tbody>\n",
       "    <tr>\n",
       "      <th>Chubb</th>\n",
       "      <th>PA</th>\n",
       "      <th>Company - Public</th>\n",
       "      <td>153.25</td>\n",
       "      <td>3.3</td>\n",
       "    </tr>\n",
       "    <tr>\n",
       "      <th>Bristol-Myers Squibb</th>\n",
       "      <th>CA</th>\n",
       "      <th>Company - Public</th>\n",
       "      <td>128.50</td>\n",
       "      <td>3.8</td>\n",
       "    </tr>\n",
       "    <tr>\n",
       "      <th>PNC Financial Services Group</th>\n",
       "      <th>PA</th>\n",
       "      <th>Company - Public</th>\n",
       "      <td>125.75</td>\n",
       "      <td>3.4</td>\n",
       "    </tr>\n",
       "    <tr>\n",
       "      <th>Credit Suisse</th>\n",
       "      <th>NY</th>\n",
       "      <th>Company - Public</th>\n",
       "      <td>124.00</td>\n",
       "      <td>3.8</td>\n",
       "    </tr>\n",
       "    <tr>\n",
       "      <th>JPMorgan Chase</th>\n",
       "      <th>NJ</th>\n",
       "      <th>Company - Public</th>\n",
       "      <td>120.00</td>\n",
       "      <td>3.9</td>\n",
       "    </tr>\n",
       "  </tbody>\n",
       "</table>\n",
       "</div>"
      ],
      "text/plain": [
       "                                                               Salary Avg  \\\n",
       "Company Name                 Location State Type of ownership               \n",
       "Chubb                         PA            Company - Public       153.25   \n",
       "Bristol-Myers Squibb          CA            Company - Public       128.50   \n",
       "PNC Financial Services Group  PA            Company - Public       125.75   \n",
       "Credit Suisse                 NY            Company - Public       124.00   \n",
       "JPMorgan Chase                NJ            Company - Public       120.00   \n",
       "\n",
       "                                                               Rating  \n",
       "Company Name                 Location State Type of ownership          \n",
       "Chubb                         PA            Company - Public      3.3  \n",
       "Bristol-Myers Squibb          CA            Company - Public      3.8  \n",
       "PNC Financial Services Group  PA            Company - Public      3.4  \n",
       "Credit Suisse                 NY            Company - Public      3.8  \n",
       "JPMorgan Chase                NJ            Company - Public      3.9  "
      ]
     },
     "execution_count": 222,
     "metadata": {},
     "output_type": "execute_result"
    }
   ],
   "source": [
    "data_cluster[(data_cluster['Cluster'] == 3) & (data_cluster['Type'] == 'Business Analyst')].groupby(by=['Company Name', 'Location State', 'Type of ownership']).mean()[['Salary Avg', 'Rating']].sort_values(by=[\"Salary Avg\", \"Rating\"], ascending=False).head(5)"
   ]
  },
  {
   "cell_type": "markdown",
   "metadata": {},
   "source": [
    "## 畫圖"
   ]
  },
  {
   "cell_type": "code",
   "execution_count": 91,
   "metadata": {},
   "outputs": [],
   "source": [
    "df_1 = company_df.groupby(by=['Cluster']).mean()[['Salary Avg']]"
   ]
  },
  {
   "cell_type": "code",
   "execution_count": 92,
   "metadata": {},
   "outputs": [
    {
     "data": {
      "text/html": [
       "<div>\n",
       "<style scoped>\n",
       "    .dataframe tbody tr th:only-of-type {\n",
       "        vertical-align: middle;\n",
       "    }\n",
       "\n",
       "    .dataframe tbody tr th {\n",
       "        vertical-align: top;\n",
       "    }\n",
       "\n",
       "    .dataframe thead th {\n",
       "        text-align: right;\n",
       "    }\n",
       "</style>\n",
       "<table border=\"1\" class=\"dataframe\">\n",
       "  <thead>\n",
       "    <tr style=\"text-align: right;\">\n",
       "      <th></th>\n",
       "      <th>Salary Avg</th>\n",
       "    </tr>\n",
       "    <tr>\n",
       "      <th>Cluster</th>\n",
       "      <th></th>\n",
       "    </tr>\n",
       "  </thead>\n",
       "  <tbody>\n",
       "    <tr>\n",
       "      <th>0</th>\n",
       "      <td>71.419184</td>\n",
       "    </tr>\n",
       "    <tr>\n",
       "      <th>1</th>\n",
       "      <td>82.122422</td>\n",
       "    </tr>\n",
       "    <tr>\n",
       "      <th>2</th>\n",
       "      <td>122.205165</td>\n",
       "    </tr>\n",
       "    <tr>\n",
       "      <th>3</th>\n",
       "      <td>87.522391</td>\n",
       "    </tr>\n",
       "  </tbody>\n",
       "</table>\n",
       "</div>"
      ],
      "text/plain": [
       "         Salary Avg\n",
       "Cluster            \n",
       "0         71.419184\n",
       "1         82.122422\n",
       "2        122.205165\n",
       "3         87.522391"
      ]
     },
     "execution_count": 92,
     "metadata": {},
     "output_type": "execute_result"
    }
   ],
   "source": [
    "df_1"
   ]
  },
  {
   "cell_type": "code",
   "execution_count": 95,
   "metadata": {},
   "outputs": [],
   "source": [
    "clusters = ['SME', 'Large Enterprise', 'SME with High Salary', 'Centennial Enterprise']"
   ]
  },
  {
   "cell_type": "code",
   "execution_count": 97,
   "metadata": {},
   "outputs": [
    {
     "data": {
      "image/png": "[encoded data removed]",
      "text/plain": [
       "<Figure size 720x432 with 1 Axes>"
      ]
     },
     "metadata": {
      "needs_background": "light"
     },
     "output_type": "display_data"
    }
   ],
   "source": [
    "plt.figure(figsize=(10,6))\n",
    "x = np.arange(len(clusters))\n",
    "plt.bar(x, df_1['Salary Avg'], color=sns.color_palette('pastel'))\n",
    "plt.xticks(x, clusters)\n",
    "plt.ylabel('Avg Salary')\n",
    "plt.show()"
   ]
  },
  {
   "cell_type": "code",
   "execution_count": 98,
   "metadata": {},
   "outputs": [
    {
     "data": {
      "text/plain": [
       "<AxesSubplot:xlabel='Cluster', ylabel='Salary Avg'>"
      ]
     },
     "execution_count": 98,
     "metadata": {},
     "output_type": "execute_result"
    },
    {
     "data": {
      "image/png": "[encoded data removed]",
      "text/plain": [
       "<Figure size 432x288 with 1 Axes>"
      ]
     },
     "metadata": {
      "needs_background": "light"
     },
     "output_type": "display_data"
    }
   ],
   "source": [
    "sns.boxplot(data=company_df, y=\"Salary Avg\", x=\"Cluster\")"
   ]
  },
  {
   "cell_type": "code",
   "execution_count": null,
   "metadata": {},
   "outputs": [],
   "source": []
  }
 ],
 "metadata": {
  "kernelspec": {
   "display_name": "Python 3",
   "language": "python",
   "name": "python3"
  },
  "language_info": {
   "codemirror_mode": {
    "name": "ipython",
    "version": 3
   },
   "file_extension": ".py",
   "mimetype": "text/x-python",
   "name": "python",
   "nbconvert_exporter": "python",
   "pygments_lexer": "ipython3",
   "version": "3.7.1"
  }
 },
 "nbformat": 4,
 "nbformat_minor": 4
}
