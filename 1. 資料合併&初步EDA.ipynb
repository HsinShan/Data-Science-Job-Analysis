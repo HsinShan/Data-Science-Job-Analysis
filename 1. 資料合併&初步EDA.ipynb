{
 "cells": [
  {
   "cell_type": "code",
   "execution_count": 1,
   "metadata": {},
   "outputs": [],
   "source": [
    "import pandas as pd\n",
    "import numpy as np\n",
    "import matplotlib.pyplot as plt\n",
    "import seaborn as sns"
   ]
  },
  {
   "cell_type": "markdown",
   "metadata": {},
   "source": [
    "# 1. 讀入檔案"
   ]
  },
  {
   "cell_type": "code",
   "execution_count": 2,
   "metadata": {},
   "outputs": [],
   "source": [
    "ds = pd.read_csv('DataScientist.csv')\n",
    "de = pd.read_csv('DataEngineer.csv')\n",
    "da = pd.read_csv('DataAnalyst.csv')\n",
    "ba = pd.read_csv('BusinessAnalyst.csv')"
   ]
  },
  {
   "cell_type": "code",
   "execution_count": 3,
   "metadata": {},
   "outputs": [
    {
     "name": "stdout",
     "output_type": "stream",
     "text": [
      "ds rows: 3909\n",
      "de rows: 2528\n",
      "da rows: 2253\n",
      "ba rows: 4092\n"
     ]
    }
   ],
   "source": [
    "print('ds rows:', len(ds))\n",
    "print('de rows:', len(de))\n",
    "print('da rows:', len(da))\n",
    "print('ba rows:', len(ba))"
   ]
  },
  {
   "cell_type": "code",
   "execution_count": 4,
   "metadata": {},
   "outputs": [
    {
     "name": "stdout",
     "output_type": "stream",
     "text": [
      "ds columns: Index(['Unnamed: 0', 'index', 'Job Title', 'Salary Estimate',\n",
      "       'Job Description', 'Rating', 'Company Name', 'Location', 'Headquarters',\n",
      "       'Size', 'Founded', 'Type of ownership', 'Industry', 'Sector', 'Revenue',\n",
      "       'Competitors', 'Easy Apply'],\n",
      "      dtype='object')\n",
      "de columns: Index(['Job Title', 'Salary Estimate', 'Job Description', 'Rating',\n",
      "       'Company Name', 'Location', 'Headquarters', 'Size', 'Founded',\n",
      "       'Type of ownership', 'Industry', 'Sector', 'Revenue', 'Competitors',\n",
      "       'Easy Apply'],\n",
      "      dtype='object')\n",
      "da columns: Index(['Unnamed: 0', 'Job Title', 'Salary Estimate', 'Job Description',\n",
      "       'Rating', 'Company Name', 'Location', 'Headquarters', 'Size', 'Founded',\n",
      "       'Type of ownership', 'Industry', 'Sector', 'Revenue', 'Competitors',\n",
      "       'Easy Apply'],\n",
      "      dtype='object')\n",
      "ba columns: Index(['Unnamed: 0', 'index', 'Job Title', 'Salary Estimate',\n",
      "       'Job Description', 'Rating', 'Company Name', 'Location', 'Headquarters',\n",
      "       'Size', 'Founded', 'Type of ownership', 'Industry', 'Sector', 'Revenue',\n",
      "       'Competitors', 'Easy Apply'],\n",
      "      dtype='object')\n",
      "17 15 16 17\n"
     ]
    }
   ],
   "source": [
    "print('ds columns:', ds.columns)\n",
    "print('de columns:', de.columns)\n",
    "print('da columns:', da.columns)\n",
    "print('ba columns:', ba.columns)\n",
    "print(len(ds.columns), len(de.columns), len(da.columns), len(ba.columns))"
   ]
  },
  {
   "cell_type": "code",
   "execution_count": 5,
   "metadata": {},
   "outputs": [
    {
     "name": "stdout",
     "output_type": "stream",
     "text": [
      "<class 'pandas.core.frame.DataFrame'>\n",
      "RangeIndex: 3909 entries, 0 to 3908\n",
      "Data columns (total 17 columns):\n",
      " #   Column             Non-Null Count  Dtype  \n",
      "---  ------             --------------  -----  \n",
      " 0   Unnamed: 0         3909 non-null   int64  \n",
      " 1   index              3909 non-null   int64  \n",
      " 2   Job Title          3909 non-null   object \n",
      " 3   Salary Estimate    3909 non-null   object \n",
      " 4   Job Description    3909 non-null   object \n",
      " 5   Rating             3909 non-null   float64\n",
      " 6   Company Name       3909 non-null   object \n",
      " 7   Location           3909 non-null   object \n",
      " 8   Headquarters       3909 non-null   object \n",
      " 9   Size               3909 non-null   object \n",
      " 10  Founded            3909 non-null   int64  \n",
      " 11  Type of ownership  3909 non-null   object \n",
      " 12  Industry           3909 non-null   object \n",
      " 13  Sector             3909 non-null   object \n",
      " 14  Revenue            3909 non-null   object \n",
      " 15  Competitors        3909 non-null   object \n",
      " 16  Easy Apply         3909 non-null   object \n",
      "dtypes: float64(1), int64(3), object(13)\n",
      "memory usage: 519.3+ KB\n"
     ]
    }
   ],
   "source": [
    "ds.info()"
   ]
  },
  {
   "cell_type": "code",
   "execution_count": 6,
   "metadata": {},
   "outputs": [
    {
     "name": "stdout",
     "output_type": "stream",
     "text": [
      "<class 'pandas.core.frame.DataFrame'>\n",
      "RangeIndex: 2528 entries, 0 to 2527\n",
      "Data columns (total 15 columns):\n",
      " #   Column             Non-Null Count  Dtype  \n",
      "---  ------             --------------  -----  \n",
      " 0   Job Title          2528 non-null   object \n",
      " 1   Salary Estimate    2528 non-null   object \n",
      " 2   Job Description    2528 non-null   object \n",
      " 3   Rating             2528 non-null   float64\n",
      " 4   Company Name       2528 non-null   object \n",
      " 5   Location           2528 non-null   object \n",
      " 6   Headquarters       2528 non-null   object \n",
      " 7   Size               2528 non-null   object \n",
      " 8   Founded            2528 non-null   int64  \n",
      " 9   Type of ownership  2528 non-null   object \n",
      " 10  Industry           2528 non-null   object \n",
      " 11  Sector             2528 non-null   object \n",
      " 12  Revenue            2528 non-null   object \n",
      " 13  Competitors        2528 non-null   object \n",
      " 14  Easy Apply         2528 non-null   object \n",
      "dtypes: float64(1), int64(1), object(13)\n",
      "memory usage: 296.4+ KB\n"
     ]
    }
   ],
   "source": [
    "de.info()"
   ]
  },
  {
   "cell_type": "code",
   "execution_count": 7,
   "metadata": {},
   "outputs": [
    {
     "name": "stdout",
     "output_type": "stream",
     "text": [
      "<class 'pandas.core.frame.DataFrame'>\n",
      "RangeIndex: 2253 entries, 0 to 2252\n",
      "Data columns (total 16 columns):\n",
      " #   Column             Non-Null Count  Dtype  \n",
      "---  ------             --------------  -----  \n",
      " 0   Unnamed: 0         2253 non-null   int64  \n",
      " 1   Job Title          2253 non-null   object \n",
      " 2   Salary Estimate    2253 non-null   object \n",
      " 3   Job Description    2253 non-null   object \n",
      " 4   Rating             2253 non-null   float64\n",
      " 5   Company Name       2252 non-null   object \n",
      " 6   Location           2253 non-null   object \n",
      " 7   Headquarters       2253 non-null   object \n",
      " 8   Size               2253 non-null   object \n",
      " 9   Founded            2253 non-null   int64  \n",
      " 10  Type of ownership  2253 non-null   object \n",
      " 11  Industry           2253 non-null   object \n",
      " 12  Sector             2253 non-null   object \n",
      " 13  Revenue            2253 non-null   object \n",
      " 14  Competitors        2253 non-null   object \n",
      " 15  Easy Apply         2253 non-null   object \n",
      "dtypes: float64(1), int64(2), object(13)\n",
      "memory usage: 281.8+ KB\n"
     ]
    }
   ],
   "source": [
    "da.info()"
   ]
  },
  {
   "cell_type": "code",
   "execution_count": 8,
   "metadata": {},
   "outputs": [
    {
     "name": "stdout",
     "output_type": "stream",
     "text": [
      "<class 'pandas.core.frame.DataFrame'>\n",
      "RangeIndex: 4092 entries, 0 to 4091\n",
      "Data columns (total 17 columns):\n",
      " #   Column             Non-Null Count  Dtype \n",
      "---  ------             --------------  ----- \n",
      " 0   Unnamed: 0         4092 non-null   object\n",
      " 1   index              4092 non-null   object\n",
      " 2   Job Title          4092 non-null   object\n",
      " 3   Salary Estimate    4092 non-null   object\n",
      " 4   Job Description    4092 non-null   object\n",
      " 5   Rating             4092 non-null   object\n",
      " 6   Company Name       4092 non-null   object\n",
      " 7   Location           4092 non-null   object\n",
      " 8   Headquarters       4092 non-null   object\n",
      " 9   Size               4092 non-null   object\n",
      " 10  Founded            4092 non-null   object\n",
      " 11  Type of ownership  4092 non-null   object\n",
      " 12  Industry           4092 non-null   object\n",
      " 13  Sector             4092 non-null   object\n",
      " 14  Revenue            4092 non-null   object\n",
      " 15  Competitors        3692 non-null   object\n",
      " 16  Easy Apply         3692 non-null   object\n",
      "dtypes: object(17)\n",
      "memory usage: 543.6+ KB\n"
     ]
    }
   ],
   "source": [
    "ba.info()"
   ]
  },
  {
   "cell_type": "markdown",
   "metadata": {},
   "source": [
    "### 處理 ba 資料格式跑掉"
   ]
  },
  {
   "cell_type": "code",
   "execution_count": 9,
   "metadata": {},
   "outputs": [],
   "source": [
    "cols = ['Job Title', 'Salary Estimate', 'Job Description', 'Rating',\n",
    "       'Company Name', 'Location', 'Headquarters', 'Size', 'Founded',\n",
    "       'Type of ownership', 'Industry', 'Sector', 'Revenue', 'Competitors',\n",
    "       'Easy Apply']"
   ]
  },
  {
   "cell_type": "code",
   "execution_count": 10,
   "metadata": {},
   "outputs": [
    {
     "name": "stdout",
     "output_type": "stream",
     "text": [
      "ba data abnormal count: 400\n"
     ]
    }
   ],
   "source": [
    "print('ba data abnormal count:', len(ba[pd.isnull(ba).any(axis=1)]))"
   ]
  },
  {
   "cell_type": "code",
   "execution_count": 11,
   "metadata": {},
   "outputs": [
    {
     "data": {
      "text/html": [
       "<div>\n",
       "<style scoped>\n",
       "    .dataframe tbody tr th:only-of-type {\n",
       "        vertical-align: middle;\n",
       "    }\n",
       "\n",
       "    .dataframe tbody tr th {\n",
       "        vertical-align: top;\n",
       "    }\n",
       "\n",
       "    .dataframe thead th {\n",
       "        text-align: right;\n",
       "    }\n",
       "</style>\n",
       "<table border=\"1\" class=\"dataframe\">\n",
       "  <thead>\n",
       "    <tr style=\"text-align: right;\">\n",
       "      <th></th>\n",
       "      <th>Job Title</th>\n",
       "      <th>Salary Estimate</th>\n",
       "      <th>Job Description</th>\n",
       "      <th>Rating</th>\n",
       "      <th>Company Name</th>\n",
       "      <th>Location</th>\n",
       "      <th>Headquarters</th>\n",
       "      <th>Size</th>\n",
       "      <th>Founded</th>\n",
       "      <th>Type of ownership</th>\n",
       "      <th>Industry</th>\n",
       "      <th>Sector</th>\n",
       "      <th>Revenue</th>\n",
       "      <th>Competitors</th>\n",
       "      <th>Easy Apply</th>\n",
       "    </tr>\n",
       "  </thead>\n",
       "  <tbody>\n",
       "    <tr>\n",
       "      <th>3692</th>\n",
       "      <td>Business Analyst - Loan IQ Specialist</td>\n",
       "      <td>$50K-$78K (Glassdoor est.)</td>\n",
       "      <td>Business Analyst - Loan IQ Specialist\\n\\n\\nJac...</td>\n",
       "      <td>3.3</td>\n",
       "      <td>Macquarie Group\\n3.3</td>\n",
       "      <td>Jacksonville, FL</td>\n",
       "      <td>Sydney, Australia</td>\n",
       "      <td>10000+ employees</td>\n",
       "      <td>1969</td>\n",
       "      <td>Company - Public</td>\n",
       "      <td>Investment Banking &amp; Asset Management</td>\n",
       "      <td>Finance</td>\n",
       "      <td>$5 to $10 billion (USD)</td>\n",
       "      <td>Goldman Sachs, Commonwealth Bank of Australia,...</td>\n",
       "      <td>-1</td>\n",
       "    </tr>\n",
       "    <tr>\n",
       "      <th>3693</th>\n",
       "      <td>Procure to Pay Analyst</td>\n",
       "      <td>$50K-$78K (Glassdoor est.)</td>\n",
       "      <td>Job Summary\\n\\nWorks daily to resolve complex ...</td>\n",
       "      <td>2.3</td>\n",
       "      <td>CSX\\n2.3</td>\n",
       "      <td>Jacksonville, FL</td>\n",
       "      <td>Jacksonville, FL</td>\n",
       "      <td>10000+ employees</td>\n",
       "      <td>1978</td>\n",
       "      <td>Company - Public</td>\n",
       "      <td>Transportation Management</td>\n",
       "      <td>Transportation &amp; Logistics</td>\n",
       "      <td>$10+ billion (USD)</td>\n",
       "      <td>Union Pacific, BNSF Railway</td>\n",
       "      <td>-1</td>\n",
       "    </tr>\n",
       "    <tr>\n",
       "      <th>3694</th>\n",
       "      <td>Payroll Analyst</td>\n",
       "      <td>$50K-$78K (Glassdoor est.)</td>\n",
       "      <td>Job Summary\\nSupports the Train and Engine (T&amp;...</td>\n",
       "      <td>2.3</td>\n",
       "      <td>CSX\\n2.3</td>\n",
       "      <td>Jacksonville, FL</td>\n",
       "      <td>Jacksonville, FL</td>\n",
       "      <td>10000+ employees</td>\n",
       "      <td>1978</td>\n",
       "      <td>Company - Public</td>\n",
       "      <td>Transportation Management</td>\n",
       "      <td>Transportation &amp; Logistics</td>\n",
       "      <td>$10+ billion (USD)</td>\n",
       "      <td>Union Pacific, BNSF Railway</td>\n",
       "      <td>-1</td>\n",
       "    </tr>\n",
       "    <tr>\n",
       "      <th>3695</th>\n",
       "      <td>Software Quality Assurance Analyst</td>\n",
       "      <td>$50K-$78K (Glassdoor est.)</td>\n",
       "      <td>SUMMARY\\n\\nThe Software Quality Assurance (SQA...</td>\n",
       "      <td>3.9</td>\n",
       "      <td>AdTheorent\\n3.9</td>\n",
       "      <td>Jacksonville, FL</td>\n",
       "      <td>New York, NY</td>\n",
       "      <td>201 to 500 employees</td>\n",
       "      <td>2011</td>\n",
       "      <td>Company - Private</td>\n",
       "      <td>Advertising &amp; Marketing</td>\n",
       "      <td>Business Services</td>\n",
       "      <td>$100 to $500 million (USD)</td>\n",
       "      <td>-1</td>\n",
       "      <td>-1</td>\n",
       "    </tr>\n",
       "    <tr>\n",
       "      <th>3696</th>\n",
       "      <td>Senior Support Analyst</td>\n",
       "      <td>$50K-$78K (Glassdoor est.)</td>\n",
       "      <td>Vacancy Name Senior Support Analyst\\nVacancy R...</td>\n",
       "      <td>3.2</td>\n",
       "      <td>SmartStream Technologies\\n3.2</td>\n",
       "      <td>Jacksonville, FL</td>\n",
       "      <td>London, United Kingdom</td>\n",
       "      <td>501 to 1000 employees</td>\n",
       "      <td>2000</td>\n",
       "      <td>Company - Private</td>\n",
       "      <td>IT Services</td>\n",
       "      <td>Information Technology</td>\n",
       "      <td>$50 to $100 million (USD)</td>\n",
       "      <td>-1</td>\n",
       "      <td>-1</td>\n",
       "    </tr>\n",
       "  </tbody>\n",
       "</table>\n",
       "</div>"
      ],
      "text/plain": [
       "                                  Job Title             Salary Estimate  \\\n",
       "3692  Business Analyst - Loan IQ Specialist  $50K-$78K (Glassdoor est.)   \n",
       "3693                 Procure to Pay Analyst  $50K-$78K (Glassdoor est.)   \n",
       "3694                        Payroll Analyst  $50K-$78K (Glassdoor est.)   \n",
       "3695     Software Quality Assurance Analyst  $50K-$78K (Glassdoor est.)   \n",
       "3696                 Senior Support Analyst  $50K-$78K (Glassdoor est.)   \n",
       "\n",
       "                                        Job Description Rating  \\\n",
       "3692  Business Analyst - Loan IQ Specialist\\n\\n\\nJac...    3.3   \n",
       "3693  Job Summary\\n\\nWorks daily to resolve complex ...    2.3   \n",
       "3694  Job Summary\\nSupports the Train and Engine (T&...    2.3   \n",
       "3695  SUMMARY\\n\\nThe Software Quality Assurance (SQA...    3.9   \n",
       "3696  Vacancy Name Senior Support Analyst\\nVacancy R...    3.2   \n",
       "\n",
       "                       Company Name          Location            Headquarters  \\\n",
       "3692           Macquarie Group\\n3.3  Jacksonville, FL       Sydney, Australia   \n",
       "3693                       CSX\\n2.3  Jacksonville, FL        Jacksonville, FL   \n",
       "3694                       CSX\\n2.3  Jacksonville, FL        Jacksonville, FL   \n",
       "3695                AdTheorent\\n3.9  Jacksonville, FL            New York, NY   \n",
       "3696  SmartStream Technologies\\n3.2  Jacksonville, FL  London, United Kingdom   \n",
       "\n",
       "                       Size Founded  Type of ownership  \\\n",
       "3692       10000+ employees    1969   Company - Public   \n",
       "3693       10000+ employees    1978   Company - Public   \n",
       "3694       10000+ employees    1978   Company - Public   \n",
       "3695   201 to 500 employees    2011  Company - Private   \n",
       "3696  501 to 1000 employees    2000  Company - Private   \n",
       "\n",
       "                                   Industry                      Sector  \\\n",
       "3692  Investment Banking & Asset Management                     Finance   \n",
       "3693              Transportation Management  Transportation & Logistics   \n",
       "3694              Transportation Management  Transportation & Logistics   \n",
       "3695                Advertising & Marketing           Business Services   \n",
       "3696                            IT Services      Information Technology   \n",
       "\n",
       "                         Revenue  \\\n",
       "3692     $5 to $10 billion (USD)   \n",
       "3693          $10+ billion (USD)   \n",
       "3694          $10+ billion (USD)   \n",
       "3695  $100 to $500 million (USD)   \n",
       "3696   $50 to $100 million (USD)   \n",
       "\n",
       "                                            Competitors Easy Apply  \n",
       "3692  Goldman Sachs, Commonwealth Bank of Australia,...         -1  \n",
       "3693                        Union Pacific, BNSF Railway         -1  \n",
       "3694                        Union Pacific, BNSF Railway         -1  \n",
       "3695                                                 -1         -1  \n",
       "3696                                                 -1         -1  "
      ]
     },
     "execution_count": 11,
     "metadata": {},
     "output_type": "execute_result"
    }
   ],
   "source": [
    "ba_adjust = ba[pd.isnull(ba).any(axis=1)].drop(['Competitors', 'Easy Apply'], axis=1)\n",
    "ba_adjust.columns = cols\n",
    "ba_adjust.head()"
   ]
  },
  {
   "cell_type": "code",
   "execution_count": 12,
   "metadata": {},
   "outputs": [],
   "source": [
    "ba = pd.concat([ba[~pd.isnull(ba).any(axis=1)][cols], ba_adjust])"
   ]
  },
  {
   "cell_type": "markdown",
   "metadata": {},
   "source": [
    "# 2. 資料合併"
   ]
  },
  {
   "cell_type": "code",
   "execution_count": 13,
   "metadata": {},
   "outputs": [],
   "source": [
    "# add Type col to identify the data source\n",
    "ds['Type'] = ['Data Scientist'] * len(ds)\n",
    "de['Type'] = ['Data Engineer'] * len(de)\n",
    "da['Type'] = ['Data Analyst'] * len(da)\n",
    "ba['Type'] = ['Business Analyst'] * len(ba)"
   ]
  },
  {
   "cell_type": "code",
   "execution_count": 14,
   "metadata": {},
   "outputs": [],
   "source": [
    "cols = ['Type'] + cols"
   ]
  },
  {
   "cell_type": "code",
   "execution_count": 15,
   "metadata": {},
   "outputs": [],
   "source": [
    "data = pd.concat([ds[cols], de[cols], da[cols], ba[cols]])"
   ]
  },
  {
   "cell_type": "code",
   "execution_count": 16,
   "metadata": {},
   "outputs": [],
   "source": [
    "data.to_csv('Merged Data.csv', index=False)"
   ]
  },
  {
   "cell_type": "markdown",
   "metadata": {},
   "source": [
    "# 3. EDA\n",
    "## (1) 基本資料組成"
   ]
  },
  {
   "cell_type": "code",
   "execution_count": 17,
   "metadata": {},
   "outputs": [
    {
     "name": "stdout",
     "output_type": "stream",
     "text": [
      "<class 'pandas.core.frame.DataFrame'>\n",
      "Int64Index: 12782 entries, 0 to 4091\n",
      "Data columns (total 16 columns):\n",
      " #   Column             Non-Null Count  Dtype \n",
      "---  ------             --------------  ----- \n",
      " 0   Type               12782 non-null  object\n",
      " 1   Job Title          12782 non-null  object\n",
      " 2   Salary Estimate    12782 non-null  object\n",
      " 3   Job Description    12782 non-null  object\n",
      " 4   Rating             12782 non-null  object\n",
      " 5   Company Name       12781 non-null  object\n",
      " 6   Location           12782 non-null  object\n",
      " 7   Headquarters       12782 non-null  object\n",
      " 8   Size               12782 non-null  object\n",
      " 9   Founded            12782 non-null  object\n",
      " 10  Type of ownership  12782 non-null  object\n",
      " 11  Industry           12782 non-null  object\n",
      " 12  Sector             12782 non-null  object\n",
      " 13  Revenue            12782 non-null  object\n",
      " 14  Competitors        12782 non-null  object\n",
      " 15  Easy Apply         12782 non-null  object\n",
      "dtypes: object(16)\n",
      "memory usage: 1.7+ MB\n"
     ]
    }
   ],
   "source": [
    "data.info()"
   ]
  },
  {
   "cell_type": "code",
   "execution_count": 18,
   "metadata": {},
   "outputs": [
    {
     "data": {
      "image/png": "[encoded data removed]",
      "text/plain": [
       "<Figure size 432x288 with 1 Axes>"
      ]
     },
     "metadata": {},
     "output_type": "display_data"
    }
   ],
   "source": [
    "job_type = pd.DataFrame(data.groupby(by=['Type']).size(), columns = ['Count'])\n",
    "colors = sns.color_palette('pastel')[0:4]\n",
    "\n",
    "plt.pie(job_type['Count'], labels = list(job_type.index), colors = colors, autopct='%.0f%%')\n",
    "plt.title('Job Type')\n",
    "plt.show()"
   ]
  },
  {
   "cell_type": "code",
   "execution_count": 19,
   "metadata": {},
   "outputs": [
    {
     "data": {
      "text/html": [
       "<div>\n",
       "<style scoped>\n",
       "    .dataframe tbody tr th:only-of-type {\n",
       "        vertical-align: middle;\n",
       "    }\n",
       "\n",
       "    .dataframe tbody tr th {\n",
       "        vertical-align: top;\n",
       "    }\n",
       "\n",
       "    .dataframe thead th {\n",
       "        text-align: right;\n",
       "    }\n",
       "</style>\n",
       "<table border=\"1\" class=\"dataframe\">\n",
       "  <thead>\n",
       "    <tr style=\"text-align: right;\">\n",
       "      <th></th>\n",
       "      <th>Type</th>\n",
       "      <th>Job Title</th>\n",
       "      <th>Salary Estimate</th>\n",
       "      <th>Job Description</th>\n",
       "      <th>Rating</th>\n",
       "      <th>Company Name</th>\n",
       "      <th>Location</th>\n",
       "      <th>Headquarters</th>\n",
       "      <th>Size</th>\n",
       "      <th>Founded</th>\n",
       "      <th>Type of ownership</th>\n",
       "      <th>Industry</th>\n",
       "      <th>Sector</th>\n",
       "      <th>Revenue</th>\n",
       "      <th>Competitors</th>\n",
       "      <th>Easy Apply</th>\n",
       "    </tr>\n",
       "  </thead>\n",
       "  <tbody>\n",
       "    <tr>\n",
       "      <th>count</th>\n",
       "      <td>12782</td>\n",
       "      <td>12782</td>\n",
       "      <td>12782</td>\n",
       "      <td>12782</td>\n",
       "      <td>12782.0</td>\n",
       "      <td>12781</td>\n",
       "      <td>12782</td>\n",
       "      <td>12782</td>\n",
       "      <td>12782</td>\n",
       "      <td>12782</td>\n",
       "      <td>12782</td>\n",
       "      <td>12782</td>\n",
       "      <td>12782</td>\n",
       "      <td>12782</td>\n",
       "      <td>12782</td>\n",
       "      <td>12782</td>\n",
       "    </tr>\n",
       "    <tr>\n",
       "      <th>unique</th>\n",
       "      <td>4</td>\n",
       "      <td>5823</td>\n",
       "      <td>447</td>\n",
       "      <td>10475</td>\n",
       "      <td>74.0</td>\n",
       "      <td>4921</td>\n",
       "      <td>404</td>\n",
       "      <td>990</td>\n",
       "      <td>9</td>\n",
       "      <td>372</td>\n",
       "      <td>15</td>\n",
       "      <td>113</td>\n",
       "      <td>26</td>\n",
       "      <td>14</td>\n",
       "      <td>905</td>\n",
       "      <td>2</td>\n",
       "    </tr>\n",
       "    <tr>\n",
       "      <th>top</th>\n",
       "      <td>Business Analyst</td>\n",
       "      <td>Data Analyst</td>\n",
       "      <td>$60K-$109K (Glassdoor est.)</td>\n",
       "      <td>*Introduction**As an IBM Application Architect...</td>\n",
       "      <td>-1.0</td>\n",
       "      <td>Staffigo Technical Services, LLC\\n5.0</td>\n",
       "      <td>New York, NY</td>\n",
       "      <td>New York, NY</td>\n",
       "      <td>10000+ employees</td>\n",
       "      <td>-1</td>\n",
       "      <td>Company - Private</td>\n",
       "      <td>IT Services</td>\n",
       "      <td>Information Technology</td>\n",
       "      <td>Unknown / Non-Applicable</td>\n",
       "      <td>-1</td>\n",
       "      <td>-1</td>\n",
       "    </tr>\n",
       "    <tr>\n",
       "      <th>freq</th>\n",
       "      <td>4092</td>\n",
       "      <td>806</td>\n",
       "      <td>92</td>\n",
       "      <td>15</td>\n",
       "      <td>915.0</td>\n",
       "      <td>264</td>\n",
       "      <td>1047</td>\n",
       "      <td>930</td>\n",
       "      <td>2772</td>\n",
       "      <td>2208</td>\n",
       "      <td>6858</td>\n",
       "      <td>1811</td>\n",
       "      <td>3694</td>\n",
       "      <td>3440</td>\n",
       "      <td>9228</td>\n",
       "      <td>12258</td>\n",
       "    </tr>\n",
       "  </tbody>\n",
       "</table>\n",
       "</div>"
      ],
      "text/plain": [
       "                    Type     Job Title              Salary Estimate  \\\n",
       "count              12782         12782                        12782   \n",
       "unique                 4          5823                          447   \n",
       "top     Business Analyst  Data Analyst  $60K-$109K (Glassdoor est.)   \n",
       "freq                4092           806                           92   \n",
       "\n",
       "                                          Job Description   Rating  \\\n",
       "count                                               12782  12782.0   \n",
       "unique                                              10475     74.0   \n",
       "top     *Introduction**As an IBM Application Architect...     -1.0   \n",
       "freq                                                   15    915.0   \n",
       "\n",
       "                                 Company Name      Location  Headquarters  \\\n",
       "count                                   12781         12782         12782   \n",
       "unique                                   4921           404           990   \n",
       "top     Staffigo Technical Services, LLC\\n5.0  New York, NY  New York, NY   \n",
       "freq                                      264          1047           930   \n",
       "\n",
       "                    Size  Founded  Type of ownership     Industry  \\\n",
       "count              12782    12782              12782        12782   \n",
       "unique                 9      372                 15          113   \n",
       "top     10000+ employees       -1  Company - Private  IT Services   \n",
       "freq                2772     2208               6858         1811   \n",
       "\n",
       "                        Sector                   Revenue Competitors  \\\n",
       "count                    12782                     12782       12782   \n",
       "unique                      26                        14         905   \n",
       "top     Information Technology  Unknown / Non-Applicable          -1   \n",
       "freq                      3694                      3440        9228   \n",
       "\n",
       "       Easy Apply  \n",
       "count       12782  \n",
       "unique          2  \n",
       "top            -1  \n",
       "freq        12258  "
      ]
     },
     "execution_count": 19,
     "metadata": {},
     "output_type": "execute_result"
    }
   ],
   "source": [
    "data.describe()"
   ]
  },
  {
   "cell_type": "markdown",
   "metadata": {},
   "source": [
    "## 欄位處理"
   ]
  },
  {
   "cell_type": "markdown",
   "metadata": {},
   "source": [
    "### 將 Rating 轉成數值欄位"
   ]
  },
  {
   "cell_type": "code",
   "execution_count": 20,
   "metadata": {},
   "outputs": [],
   "source": [
    "data['Rating'] = data['Rating'].astype('float')"
   ]
  },
  {
   "cell_type": "code",
   "execution_count": 21,
   "metadata": {},
   "outputs": [
    {
     "data": {
      "text/plain": [
       "<AxesSubplot:xlabel='Rating'>"
      ]
     },
     "execution_count": 21,
     "metadata": {},
     "output_type": "execute_result"
    },
    {
     "data": {
      "image/png": "[encoded data removed]",
      "text/plain": [
       "<Figure size 432x288 with 1 Axes>"
      ]
     },
     "metadata": {
      "needs_background": "light"
     },
     "output_type": "display_data"
    }
   ],
   "source": [
    "sns.boxplot(data = data, x='Rating')"
   ]
  },
  {
   "cell_type": "code",
   "execution_count": 22,
   "metadata": {
    "scrolled": false
   },
   "outputs": [
    {
     "name": "stdout",
     "output_type": "stream",
     "text": [
      "Rating missing rows: 1271\n",
      "Check whether rating could find by company name: 0\n"
     ]
    }
   ],
   "source": [
    "print('Rating missing rows:', len(data[data['Rating']<0]))\n",
    "print('Check whether rating could find by company name:', len(data[(data['Rating'] >= 0) & (data['Company Name'].isin(list(data[(data['Rating'] < 0)]['Company Name'])))]))"
   ]
  },
  {
   "cell_type": "code",
   "execution_count": 23,
   "metadata": {},
   "outputs": [
    {
     "data": {
      "text/html": [
       "<div>\n",
       "<style scoped>\n",
       "    .dataframe tbody tr th:only-of-type {\n",
       "        vertical-align: middle;\n",
       "    }\n",
       "\n",
       "    .dataframe tbody tr th {\n",
       "        vertical-align: top;\n",
       "    }\n",
       "\n",
       "    .dataframe thead th {\n",
       "        text-align: right;\n",
       "    }\n",
       "</style>\n",
       "<table border=\"1\" class=\"dataframe\">\n",
       "  <thead>\n",
       "    <tr style=\"text-align: right;\">\n",
       "      <th></th>\n",
       "      <th>Type</th>\n",
       "      <th>Job Title</th>\n",
       "      <th>Salary Estimate</th>\n",
       "      <th>Job Description</th>\n",
       "      <th>Company Name</th>\n",
       "      <th>Location</th>\n",
       "      <th>Headquarters</th>\n",
       "      <th>Size</th>\n",
       "      <th>Founded</th>\n",
       "      <th>Type of ownership</th>\n",
       "      <th>Industry</th>\n",
       "      <th>Sector</th>\n",
       "      <th>Revenue</th>\n",
       "      <th>Competitors</th>\n",
       "      <th>Easy Apply</th>\n",
       "    </tr>\n",
       "  </thead>\n",
       "  <tbody>\n",
       "    <tr>\n",
       "      <th>count</th>\n",
       "      <td>1271</td>\n",
       "      <td>1271</td>\n",
       "      <td>1271</td>\n",
       "      <td>1271</td>\n",
       "      <td>1270</td>\n",
       "      <td>1271</td>\n",
       "      <td>1271</td>\n",
       "      <td>1271</td>\n",
       "      <td>1271</td>\n",
       "      <td>1271</td>\n",
       "      <td>1271</td>\n",
       "      <td>1271</td>\n",
       "      <td>1271</td>\n",
       "      <td>1271</td>\n",
       "      <td>1271</td>\n",
       "    </tr>\n",
       "    <tr>\n",
       "      <th>unique</th>\n",
       "      <td>4</td>\n",
       "      <td>643</td>\n",
       "      <td>385</td>\n",
       "      <td>1038</td>\n",
       "      <td>699</td>\n",
       "      <td>132</td>\n",
       "      <td>177</td>\n",
       "      <td>7</td>\n",
       "      <td>32</td>\n",
       "      <td>12</td>\n",
       "      <td>29</td>\n",
       "      <td>17</td>\n",
       "      <td>6</td>\n",
       "      <td>1</td>\n",
       "      <td>2</td>\n",
       "    </tr>\n",
       "    <tr>\n",
       "      <th>top</th>\n",
       "      <td>Data Scientist</td>\n",
       "      <td>Data Engineer</td>\n",
       "      <td>$37K-$75K (Glassdoor est.)</td>\n",
       "      <td>The Business\\n\\nGradTests.com is a leading pro...</td>\n",
       "      <td>Kforce Technology Staffing</td>\n",
       "      <td>New York, NY</td>\n",
       "      <td>-1</td>\n",
       "      <td>-1</td>\n",
       "      <td>-1</td>\n",
       "      <td>-1</td>\n",
       "      <td>-1</td>\n",
       "      <td>-1</td>\n",
       "      <td>-1</td>\n",
       "      <td>-1</td>\n",
       "      <td>-1</td>\n",
       "    </tr>\n",
       "    <tr>\n",
       "      <th>freq</th>\n",
       "      <td>409</td>\n",
       "      <td>106</td>\n",
       "      <td>13</td>\n",
       "      <td>11</td>\n",
       "      <td>38</td>\n",
       "      <td>123</td>\n",
       "      <td>726</td>\n",
       "      <td>721</td>\n",
       "      <td>842</td>\n",
       "      <td>721</td>\n",
       "      <td>1100</td>\n",
       "      <td>1100</td>\n",
       "      <td>721</td>\n",
       "      <td>1271</td>\n",
       "      <td>1265</td>\n",
       "    </tr>\n",
       "  </tbody>\n",
       "</table>\n",
       "</div>"
      ],
      "text/plain": [
       "                  Type      Job Title             Salary Estimate  \\\n",
       "count             1271           1271                        1271   \n",
       "unique               4            643                         385   \n",
       "top     Data Scientist  Data Engineer  $37K-$75K (Glassdoor est.)   \n",
       "freq               409            106                          13   \n",
       "\n",
       "                                          Job Description  \\\n",
       "count                                                1271   \n",
       "unique                                               1038   \n",
       "top     The Business\\n\\nGradTests.com is a leading pro...   \n",
       "freq                                                   11   \n",
       "\n",
       "                      Company Name      Location Headquarters  Size  Founded  \\\n",
       "count                         1270          1271         1271  1271     1271   \n",
       "unique                         699           132          177     7       32   \n",
       "top     Kforce Technology Staffing  New York, NY           -1    -1       -1   \n",
       "freq                            38           123          726   721      842   \n",
       "\n",
       "       Type of ownership Industry Sector Revenue Competitors Easy Apply  \n",
       "count               1271     1271   1271    1271        1271       1271  \n",
       "unique                12       29     17       6           1          2  \n",
       "top                   -1       -1     -1      -1          -1         -1  \n",
       "freq                 721     1100   1100     721        1271       1265  "
      ]
     },
     "execution_count": 23,
     "metadata": {},
     "output_type": "execute_result"
    }
   ],
   "source": [
    "data[data['Rating']<0].drop('Rating', axis=1).describe()"
   ]
  },
  {
   "cell_type": "code",
   "execution_count": 24,
   "metadata": {},
   "outputs": [
    {
     "data": {
      "text/html": [
       "<div>\n",
       "<style scoped>\n",
       "    .dataframe tbody tr th:only-of-type {\n",
       "        vertical-align: middle;\n",
       "    }\n",
       "\n",
       "    .dataframe tbody tr th {\n",
       "        vertical-align: top;\n",
       "    }\n",
       "\n",
       "    .dataframe thead th {\n",
       "        text-align: right;\n",
       "    }\n",
       "</style>\n",
       "<table border=\"1\" class=\"dataframe\">\n",
       "  <thead>\n",
       "    <tr style=\"text-align: right;\">\n",
       "      <th></th>\n",
       "      <th>Company Name</th>\n",
       "      <th>Rating</th>\n",
       "    </tr>\n",
       "  </thead>\n",
       "  <tbody>\n",
       "    <tr>\n",
       "      <th>0</th>\n",
       "      <td>Hopper\\n3.5</td>\n",
       "      <td>3.5</td>\n",
       "    </tr>\n",
       "    <tr>\n",
       "      <th>1</th>\n",
       "      <td>Noom US\\n4.5</td>\n",
       "      <td>4.5</td>\n",
       "    </tr>\n",
       "    <tr>\n",
       "      <th>2</th>\n",
       "      <td>Decode_M</td>\n",
       "      <td>-1.0</td>\n",
       "    </tr>\n",
       "    <tr>\n",
       "      <th>3</th>\n",
       "      <td>Sapphire Digital\\n3.4</td>\n",
       "      <td>3.4</td>\n",
       "    </tr>\n",
       "    <tr>\n",
       "      <th>4</th>\n",
       "      <td>United Entertainment Group\\n3.4</td>\n",
       "      <td>3.4</td>\n",
       "    </tr>\n",
       "  </tbody>\n",
       "</table>\n",
       "</div>"
      ],
      "text/plain": [
       "                      Company Name  Rating\n",
       "0                      Hopper\\n3.5     3.5\n",
       "1                     Noom US\\n4.5     4.5\n",
       "2                         Decode_M    -1.0\n",
       "3            Sapphire Digital\\n3.4     3.4\n",
       "4  United Entertainment Group\\n3.4     3.4"
      ]
     },
     "execution_count": 24,
     "metadata": {},
     "output_type": "execute_result"
    }
   ],
   "source": [
    "data[['Company Name', 'Rating']].head()"
   ]
  },
  {
   "cell_type": "markdown",
   "metadata": {},
   "source": [
    "### 處理 Company Name 欄位\n",
    "Company Name = Company Name + '\\n' + Rating"
   ]
  },
  {
   "cell_type": "code",
   "execution_count": 25,
   "metadata": {},
   "outputs": [],
   "source": [
    "data['Company Name'] = data['Company Name'].str.split('\\n', expand=True)[0]"
   ]
  },
  {
   "cell_type": "code",
   "execution_count": 26,
   "metadata": {},
   "outputs": [
    {
     "data": {
      "text/plain": [
       "4824"
      ]
     },
     "execution_count": 26,
     "metadata": {},
     "output_type": "execute_result"
    }
   ],
   "source": [
    "len(data['Company Name'].unique())"
   ]
  },
  {
   "cell_type": "markdown",
   "metadata": {},
   "source": [
    "### 處理 Salary Estimate → [ Salary Min , Salary Max]\n",
    "#### 檢查欄位狀況"
   ]
  },
  {
   "cell_type": "code",
   "execution_count": 30,
   "metadata": {},
   "outputs": [
    {
     "data": {
      "text/plain": [
       "447"
      ]
     },
     "execution_count": 30,
     "metadata": {},
     "output_type": "execute_result"
    }
   ],
   "source": [
    "len(data['Salary Estimate'].unique())"
   ]
  },
  {
   "cell_type": "code",
   "execution_count": 31,
   "metadata": {},
   "outputs": [
    {
     "data": {
      "text/html": [
       "<div>\n",
       "<style scoped>\n",
       "    .dataframe tbody tr th:only-of-type {\n",
       "        vertical-align: middle;\n",
       "    }\n",
       "\n",
       "    .dataframe tbody tr th {\n",
       "        vertical-align: top;\n",
       "    }\n",
       "\n",
       "    .dataframe thead th {\n",
       "        text-align: right;\n",
       "    }\n",
       "</style>\n",
       "<table border=\"1\" class=\"dataframe\">\n",
       "  <thead>\n",
       "    <tr style=\"text-align: right;\">\n",
       "      <th></th>\n",
       "      <th>Type</th>\n",
       "      <th>Job Title</th>\n",
       "      <th>Salary Estimate</th>\n",
       "      <th>Job Description</th>\n",
       "      <th>Rating</th>\n",
       "      <th>Company Name</th>\n",
       "      <th>Location</th>\n",
       "      <th>Headquarters</th>\n",
       "      <th>Size</th>\n",
       "      <th>Founded</th>\n",
       "      <th>Type of ownership</th>\n",
       "      <th>Industry</th>\n",
       "      <th>Sector</th>\n",
       "      <th>Revenue</th>\n",
       "      <th>Competitors</th>\n",
       "      <th>Easy Apply</th>\n",
       "    </tr>\n",
       "  </thead>\n",
       "  <tbody>\n",
       "    <tr>\n",
       "      <th>2149</th>\n",
       "      <td>Data Analyst</td>\n",
       "      <td>Configuration/Data Management Analyst III</td>\n",
       "      <td>-1</td>\n",
       "      <td>Job Description\\nPosition Title: Configuration...</td>\n",
       "      <td>4.4</td>\n",
       "      <td>Protingent</td>\n",
       "      <td>Kent, WA</td>\n",
       "      <td>Bellevue, WA</td>\n",
       "      <td>51 to 200 employees</td>\n",
       "      <td>2001</td>\n",
       "      <td>Company - Private</td>\n",
       "      <td>Staffing &amp; Outsourcing</td>\n",
       "      <td>Business Services</td>\n",
       "      <td>$25 to $50 million (USD)</td>\n",
       "      <td>-1</td>\n",
       "      <td>-1</td>\n",
       "    </tr>\n",
       "  </tbody>\n",
       "</table>\n",
       "</div>"
      ],
      "text/plain": [
       "              Type                                  Job Title Salary Estimate  \\\n",
       "2149  Data Analyst  Configuration/Data Management Analyst III              -1   \n",
       "\n",
       "                                        Job Description  Rating Company Name  \\\n",
       "2149  Job Description\\nPosition Title: Configuration...     4.4   Protingent   \n",
       "\n",
       "      Location  Headquarters                 Size Founded  Type of ownership  \\\n",
       "2149  Kent, WA  Bellevue, WA  51 to 200 employees    2001  Company - Private   \n",
       "\n",
       "                    Industry             Sector                   Revenue  \\\n",
       "2149  Staffing & Outsourcing  Business Services  $25 to $50 million (USD)   \n",
       "\n",
       "     Competitors Easy Apply  \n",
       "2149          -1         -1  "
      ]
     },
     "execution_count": 31,
     "metadata": {},
     "output_type": "execute_result"
    }
   ],
   "source": [
    "# check column format\n",
    "data[data['Salary Estimate'].str.match(r'(^[0-9]*.*-[0-9]*.*\\(.*\\))')==False]"
   ]
  },
  {
   "cell_type": "code",
   "execution_count": 32,
   "metadata": {},
   "outputs": [
    {
     "data": {
      "text/plain": [
       "21"
      ]
     },
     "execution_count": 32,
     "metadata": {},
     "output_type": "execute_result"
    }
   ],
   "source": [
    "len(data[data['Salary Estimate'].str.match(r'(^[0-9]*.*-[0-9]*.*Per Hour\\(.*\\))')==True])"
   ]
  },
  {
   "cell_type": "markdown",
   "metadata": {},
   "source": [
    "格式種類範例:    \n",
    "1. \\\\$111K-\\\\$181K (Glassdoor est.)\n",
    "2. 34− 53 Per Hour(Glassdoor est.) → 21 個\n",
    "3. 111K-181K (Glassdoor est.)\n",
    "4. -1 → 有一個缺失值 \n",
    "\n",
    "#### 處理方式\n",
    "1. 因為只有一欄有缺失值 → 移除該欄\n",
    "2. 先分離成 [ Salary Min , Salary Max]: 將'$', 'K', 'Per Hour'移除，並將 '(' 用 '-'取代，再用 '-'做 split 取前兩欄\n",
    "3. 有 per hour 的 → [ Salary Min , Salary Max] 要分別乘上 720 小時 / 1000"
   ]
  },
  {
   "cell_type": "code",
   "execution_count": 33,
   "metadata": {},
   "outputs": [
    {
     "name": "stdout",
     "output_type": "stream",
     "text": [
      "Data count after remove missing salary: 12781\n"
     ]
    }
   ],
   "source": [
    "data = data[data['Salary Estimate'].str.match(r'(^[0-9]*.*-[0-9]*.*\\(.*\\))')==True]\n",
    "print('Data count after remove missing salary:', len(data))"
   ]
  },
  {
   "cell_type": "code",
   "execution_count": 34,
   "metadata": {},
   "outputs": [],
   "source": [
    "salary = data['Salary Estimate'].str.replace('$', '').str.replace('K', '').str.replace('Per Hour', '').str.replace('(', '-').str.split('-', expand=True)"
   ]
  },
  {
   "cell_type": "code",
   "execution_count": 35,
   "metadata": {},
   "outputs": [],
   "source": [
    "salary = salary.drop([2], axis=1)\n",
    "salary.columns = ['Salary Min', 'Salary Max']\n",
    "salary['Salary Min'] = salary[['Salary Min']].astype('float')\n",
    "salary['Salary Max'] = salary[['Salary Max']].astype('float')"
   ]
  },
  {
   "cell_type": "code",
   "execution_count": 36,
   "metadata": {},
   "outputs": [],
   "source": [
    "data = pd.concat([data, salary], axis=1)"
   ]
  },
  {
   "cell_type": "code",
   "execution_count": 39,
   "metadata": {},
   "outputs": [
    {
     "data": {
      "text/html": [
       "<div>\n",
       "<style scoped>\n",
       "    .dataframe tbody tr th:only-of-type {\n",
       "        vertical-align: middle;\n",
       "    }\n",
       "\n",
       "    .dataframe tbody tr th {\n",
       "        vertical-align: top;\n",
       "    }\n",
       "\n",
       "    .dataframe thead th {\n",
       "        text-align: right;\n",
       "    }\n",
       "</style>\n",
       "<table border=\"1\" class=\"dataframe\">\n",
       "  <thead>\n",
       "    <tr style=\"text-align: right;\">\n",
       "      <th></th>\n",
       "      <th>Type</th>\n",
       "      <th>Job Title</th>\n",
       "      <th>Salary Estimate</th>\n",
       "      <th>Job Description</th>\n",
       "      <th>Rating</th>\n",
       "      <th>Company Name</th>\n",
       "      <th>Location</th>\n",
       "      <th>Headquarters</th>\n",
       "      <th>Size</th>\n",
       "      <th>Founded</th>\n",
       "      <th>Type of ownership</th>\n",
       "      <th>Industry</th>\n",
       "      <th>Sector</th>\n",
       "      <th>Revenue</th>\n",
       "      <th>Competitors</th>\n",
       "      <th>Easy Apply</th>\n",
       "      <th>Salary Min</th>\n",
       "      <th>Salary Max</th>\n",
       "      <th>Salary Avg</th>\n",
       "    </tr>\n",
       "  </thead>\n",
       "  <tbody>\n",
       "    <tr>\n",
       "      <th>685</th>\n",
       "      <td>Data Scientist</td>\n",
       "      <td>Clinical Laboratory Scientist, Per Diem</td>\n",
       "      <td>$34-$53 Per Hour(Glassdoor est.)</td>\n",
       "      <td>As the Clinical Laboratory Scientist, you will...</td>\n",
       "      <td>3.8</td>\n",
       "      <td>UC Davis Medical Center</td>\n",
       "      <td>Los Angeles, CA</td>\n",
       "      <td>Sacramento, CA</td>\n",
       "      <td>10000+ employees</td>\n",
       "      <td>-1</td>\n",
       "      <td>Nonprofit Organization</td>\n",
       "      <td>Health Care Services &amp; Hospitals</td>\n",
       "      <td>Health Care</td>\n",
       "      <td>$2 to $5 billion (USD)</td>\n",
       "      <td>-1</td>\n",
       "      <td>-1</td>\n",
       "      <td>24.48</td>\n",
       "      <td>38.16</td>\n",
       "      <td>31.32</td>\n",
       "    </tr>\n",
       "    <tr>\n",
       "      <th>686</th>\n",
       "      <td>Data Scientist</td>\n",
       "      <td>Sr. Data Analyst</td>\n",
       "      <td>$34-$53 Per Hour(Glassdoor est.)</td>\n",
       "      <td>As a Sr. Data Analyst, you will work closely w...</td>\n",
       "      <td>2.8</td>\n",
       "      <td>SAG-AFTRA Health Plan and SAG-Producers Pensio...</td>\n",
       "      <td>Burbank, CA</td>\n",
       "      <td>Burbank, CA</td>\n",
       "      <td>Unknown</td>\n",
       "      <td>-1</td>\n",
       "      <td>Company - Private</td>\n",
       "      <td>-1</td>\n",
       "      <td>-1</td>\n",
       "      <td>Unknown / Non-Applicable</td>\n",
       "      <td>-1</td>\n",
       "      <td>-1</td>\n",
       "      <td>24.48</td>\n",
       "      <td>38.16</td>\n",
       "      <td>31.32</td>\n",
       "    </tr>\n",
       "    <tr>\n",
       "      <th>687</th>\n",
       "      <td>Data Scientist</td>\n",
       "      <td>Lead Data Science Instructor, Data Scientist</td>\n",
       "      <td>$34-$53 Per Hour(Glassdoor est.)</td>\n",
       "      <td>Job Description\\nGalvanize is a dynamic learni...</td>\n",
       "      <td>-1.0</td>\n",
       "      <td>Galvanize Inc.</td>\n",
       "      <td>Los Angeles, CA</td>\n",
       "      <td>Harrisburg, NC</td>\n",
       "      <td>51 to 200 employees</td>\n",
       "      <td>-1</td>\n",
       "      <td>Company - Private</td>\n",
       "      <td>Construction</td>\n",
       "      <td>Construction, Repair &amp; Maintenance</td>\n",
       "      <td>Unknown / Non-Applicable</td>\n",
       "      <td>-1</td>\n",
       "      <td>-1</td>\n",
       "      <td>24.48</td>\n",
       "      <td>38.16</td>\n",
       "      <td>31.32</td>\n",
       "    </tr>\n",
       "    <tr>\n",
       "      <th>688</th>\n",
       "      <td>Data Scientist</td>\n",
       "      <td>Clinical Laboratory Scientist (Per Diem, Varia...</td>\n",
       "      <td>$34-$53 Per Hour(Glassdoor est.)</td>\n",
       "      <td>Monterey Park Hospital, located in the San Gab...</td>\n",
       "      <td>3.0</td>\n",
       "      <td>AHMC Healthcare</td>\n",
       "      <td>Monterey Park, CA</td>\n",
       "      <td>Alhambra, CA</td>\n",
       "      <td>5001 to 10000 employees</td>\n",
       "      <td>1998</td>\n",
       "      <td>Company - Private</td>\n",
       "      <td>Health Care Services &amp; Hospitals</td>\n",
       "      <td>Health Care</td>\n",
       "      <td>$1 to $2 billion (USD)</td>\n",
       "      <td>-1</td>\n",
       "      <td>-1</td>\n",
       "      <td>24.48</td>\n",
       "      <td>38.16</td>\n",
       "      <td>31.32</td>\n",
       "    </tr>\n",
       "    <tr>\n",
       "      <th>689</th>\n",
       "      <td>Data Scientist</td>\n",
       "      <td>Data Engineer</td>\n",
       "      <td>$34-$53 Per Hour(Glassdoor est.)</td>\n",
       "      <td>Responsibilities:* Responsible for building an...</td>\n",
       "      <td>-1.0</td>\n",
       "      <td>BlackLine Systems</td>\n",
       "      <td>Woodland Hills, CA</td>\n",
       "      <td>Markham, Canada</td>\n",
       "      <td>1 to 50 employees</td>\n",
       "      <td>-1</td>\n",
       "      <td>Unknown</td>\n",
       "      <td>-1</td>\n",
       "      <td>-1</td>\n",
       "      <td>Unknown / Non-Applicable</td>\n",
       "      <td>-1</td>\n",
       "      <td>-1</td>\n",
       "      <td>24.48</td>\n",
       "      <td>38.16</td>\n",
       "      <td>31.32</td>\n",
       "    </tr>\n",
       "  </tbody>\n",
       "</table>\n",
       "</div>"
      ],
      "text/plain": [
       "               Type                                          Job Title  \\\n",
       "685  Data Scientist            Clinical Laboratory Scientist, Per Diem   \n",
       "686  Data Scientist                                   Sr. Data Analyst   \n",
       "687  Data Scientist       Lead Data Science Instructor, Data Scientist   \n",
       "688  Data Scientist  Clinical Laboratory Scientist (Per Diem, Varia...   \n",
       "689  Data Scientist                                      Data Engineer   \n",
       "\n",
       "                      Salary Estimate  \\\n",
       "685  $34-$53 Per Hour(Glassdoor est.)   \n",
       "686  $34-$53 Per Hour(Glassdoor est.)   \n",
       "687  $34-$53 Per Hour(Glassdoor est.)   \n",
       "688  $34-$53 Per Hour(Glassdoor est.)   \n",
       "689  $34-$53 Per Hour(Glassdoor est.)   \n",
       "\n",
       "                                       Job Description  Rating  \\\n",
       "685  As the Clinical Laboratory Scientist, you will...     3.8   \n",
       "686  As a Sr. Data Analyst, you will work closely w...     2.8   \n",
       "687  Job Description\\nGalvanize is a dynamic learni...    -1.0   \n",
       "688  Monterey Park Hospital, located in the San Gab...     3.0   \n",
       "689  Responsibilities:* Responsible for building an...    -1.0   \n",
       "\n",
       "                                          Company Name            Location  \\\n",
       "685                            UC Davis Medical Center     Los Angeles, CA   \n",
       "686  SAG-AFTRA Health Plan and SAG-Producers Pensio...         Burbank, CA   \n",
       "687                                     Galvanize Inc.     Los Angeles, CA   \n",
       "688                                    AHMC Healthcare   Monterey Park, CA   \n",
       "689                                  BlackLine Systems  Woodland Hills, CA   \n",
       "\n",
       "        Headquarters                     Size Founded       Type of ownership  \\\n",
       "685   Sacramento, CA         10000+ employees      -1  Nonprofit Organization   \n",
       "686      Burbank, CA                  Unknown      -1       Company - Private   \n",
       "687   Harrisburg, NC      51 to 200 employees      -1       Company - Private   \n",
       "688     Alhambra, CA  5001 to 10000 employees    1998       Company - Private   \n",
       "689  Markham, Canada        1 to 50 employees      -1                 Unknown   \n",
       "\n",
       "                             Industry                              Sector  \\\n",
       "685  Health Care Services & Hospitals                         Health Care   \n",
       "686                                -1                                  -1   \n",
       "687                      Construction  Construction, Repair & Maintenance   \n",
       "688  Health Care Services & Hospitals                         Health Care   \n",
       "689                                -1                                  -1   \n",
       "\n",
       "                      Revenue Competitors Easy Apply  Salary Min  Salary Max  \\\n",
       "685    $2 to $5 billion (USD)          -1         -1       24.48       38.16   \n",
       "686  Unknown / Non-Applicable          -1         -1       24.48       38.16   \n",
       "687  Unknown / Non-Applicable          -1         -1       24.48       38.16   \n",
       "688    $1 to $2 billion (USD)          -1         -1       24.48       38.16   \n",
       "689  Unknown / Non-Applicable          -1         -1       24.48       38.16   \n",
       "\n",
       "     Salary Avg  \n",
       "685       31.32  \n",
       "686       31.32  \n",
       "687       31.32  \n",
       "688       31.32  \n",
       "689       31.32  "
      ]
     },
     "execution_count": 39,
     "metadata": {},
     "output_type": "execute_result"
    }
   ],
   "source": [
    "data[data['Salary Estimate'].str.contains('Per Hour')].head()"
   ]
  },
  {
   "cell_type": "markdown",
   "metadata": {},
   "source": [
    "### Company size"
   ]
  },
  {
   "cell_type": "code",
   "execution_count": 40,
   "metadata": {},
   "outputs": [
    {
     "name": "stdout",
     "output_type": "stream",
     "text": [
      "Size missing rows: 993\n",
      "Rating or Size missing rows: 1405\n"
     ]
    }
   ],
   "source": [
    "print('Size missing rows:', len(data[(data['Size']=='Unknown') | (data['Size']=='-1')]))\n",
    "print('Rating or Size missing rows:', len(data[(data['Size']=='Unknown') | (data['Size']=='-1') | (data['Rating'] < 0)]))"
   ]
  },
  {
   "cell_type": "code",
   "execution_count": 42,
   "metadata": {},
   "outputs": [
    {
     "data": {
      "image/png": "[encoded data removed]",
      "text/plain": [
       "<Figure size 432x288 with 1 Axes>"
      ]
     },
     "metadata": {},
     "output_type": "display_data"
    }
   ],
   "source": [
    "size_count = pd.DataFrame(data[~((data['Size']=='Unknown') | (data['Size']=='-1'))].groupby(by=['Size']).size(), columns = ['Count'])\n",
    "colors = sns.color_palette('pastel')[0:10]\n",
    "\n",
    "plt.pie(size_count['Count'], labels = list(size_count.index), colors = colors, autopct='%.0f%%')\n",
    "plt.title('Company Size')\n",
    "plt.show()"
   ]
  },
  {
   "cell_type": "markdown",
   "metadata": {},
   "source": [
    "### 處理 Location & Headquarter col \n",
    "Location = 區縣, 州名縮寫(2個字母) or 國家    \n",
    "Headquarter 有多種類型，因為有很多在其他國家 → 只留所在的洲名或國家:Headquarter State"
   ]
  },
  {
   "cell_type": "code",
   "execution_count": 43,
   "metadata": {},
   "outputs": [
    {
     "name": "stdout",
     "output_type": "stream",
     "text": [
      "City: 394\n",
      "State: 20\n"
     ]
    }
   ],
   "source": [
    "print('City:', len(data['Location'].str.rsplit(',').str[0].unique()))\n",
    "print('State:', len(data['Location'].str.rsplit(',').str[-1].unique()))"
   ]
  },
  {
   "cell_type": "code",
   "execution_count": 44,
   "metadata": {},
   "outputs": [],
   "source": [
    "data['Location City'] = data['Location'].str.rsplit(',').str[0]\n",
    "data['Location State'] = data['Location'].str.rsplit(',').str[-1]"
   ]
  },
  {
   "cell_type": "code",
   "execution_count": 45,
   "metadata": {},
   "outputs": [
    {
     "data": {
      "image/png": "[encoded data removed]",
      "text/plain": [
       "<Figure size 432x288 with 1 Axes>"
      ]
     },
     "metadata": {
      "needs_background": "light"
     },
     "output_type": "display_data"
    }
   ],
   "source": [
    "plt.title('Company Location(State in USA or Other Country)')\n",
    "sns.countplot(x = \"Location State\", data=data, order = data['Location State'].value_counts().index)\n",
    "plt.xticks(rotation=90)\n",
    "plt.show()"
   ]
  },
  {
   "cell_type": "code",
   "execution_count": 46,
   "metadata": {},
   "outputs": [
    {
     "name": "stdout",
     "output_type": "stream",
     "text": [
      "City: 939\n",
      "State: 95\n"
     ]
    }
   ],
   "source": [
    "print('City:', len((data['Headquarters'].str.rsplit(',').str[0]).unique()))\n",
    "print('State:', len((data['Headquarters'].str.rsplit(',').str[-1]).unique()))"
   ]
  },
  {
   "cell_type": "code",
   "execution_count": 47,
   "metadata": {},
   "outputs": [
    {
     "data": {
      "text/plain": [
       "array(['-1'], dtype=object)"
      ]
     },
     "execution_count": 47,
     "metadata": {},
     "output_type": "execute_result"
    }
   ],
   "source": [
    "data[data['Headquarters'].str.match(r'^.+,..')==False]['Headquarters'].unique()"
   ]
  },
  {
   "cell_type": "code",
   "execution_count": 48,
   "metadata": {},
   "outputs": [
    {
     "name": "stdout",
     "output_type": "stream",
     "text": [
      "Headquarters missing value: 756\n"
     ]
    }
   ],
   "source": [
    "print('Headquarters missing value:', len(data[data['Headquarters'] == '-1']))"
   ]
  },
  {
   "cell_type": "code",
   "execution_count": 49,
   "metadata": {},
   "outputs": [],
   "source": [
    "data['Headquarter State'] = data['Headquarters'].str.rsplit(',').str[-1]"
   ]
  },
  {
   "cell_type": "code",
   "execution_count": 50,
   "metadata": {},
   "outputs": [
    {
     "data": {
      "image/png": "[encoded data removed]",
      "text/plain": [
       "<Figure size 1080x576 with 1 Axes>"
      ]
     },
     "metadata": {
      "needs_background": "light"
     },
     "output_type": "display_data"
    }
   ],
   "source": [
    "plt.figure(figsize=(15,8))\n",
    "plt.title('Company Headquarter Location(State in USA or Other Country)')\n",
    "sns.countplot(x = \"Headquarter State\", data=data, order = data['Headquarter State'].value_counts().index)\n",
    "plt.xticks(rotation=90)\n",
    "plt.show()"
   ]
  },
  {
   "cell_type": "markdown",
   "metadata": {},
   "source": [
    "### 處理 Founded col"
   ]
  },
  {
   "cell_type": "code",
   "execution_count": 51,
   "metadata": {},
   "outputs": [],
   "source": [
    "data['Founded'] = data['Founded'].astype(int)"
   ]
  },
  {
   "cell_type": "code",
   "execution_count": 52,
   "metadata": {},
   "outputs": [
    {
     "data": {
      "text/plain": [
       "array([2007, 2008,   -1, 2019, 1985, 1993, 2018, 2000, 2014, 2011, 1999,\n",
       "       2001, 1998, 2005, 1943, 2012, 1923, 2003, 2002, 2015, 2006, 2010,\n",
       "       1853, 1990, 1914, 2013, 2004, 1799, 1935, 1995, 1994, 1988, 1917,\n",
       "       1947, 1981, 1940, 1841, 2017, 1896, 2009, 1898, 1968, 1862, 1934,\n",
       "       1992, 2016, 1984, 1987, 1966, 1976, 1871, 1625, 1997, 1967, 1948,\n",
       "       1913, 1989, 1893, 1904, 1911, 1961, 1806, 1969, 1945, 1784, 1857,\n",
       "       1971, 1852, 1922, 1851, 1956, 1906, 1973, 1960, 1975, 1982, 1996,\n",
       "       1931, 1986, 1902, 1909, 1880, 1946, 1970, 1979, 1977, 1965, 1954,\n",
       "       1850, 1980, 1919, 1983, 1888, 1978, 1872, 1831, 1936, 1939, 1937,\n",
       "       1928, 1991, 1929, 1944, 1901, 1974, 1925, 1817, 1963, 1894, 1890,\n",
       "       1882, 1892, 1908, 1926, 1883, 1845, 1849, 1918, 1900, 1889, 1837,\n",
       "       1930, 1877, 1910, 1962, 1955, 1897, 1949, 1972, 1941, 1957, 1924,\n",
       "       1891, 1864, 1951, 1847, 1775, 1843, 1855, 1740, 1792, 1830, 1887,\n",
       "       1682, 1881, 1824, 1916, 1812, 1905, 1953, 1876, 1848, 1858, 1958,\n",
       "       1938, 1868, 1781, 1895, 1869, 1921, 2020, 1865, 1933, 1907, 1927,\n",
       "       1950, 1952, 1870, 1912, 1920, 1932, 1803, 1866, 1884, 1885, 1833,\n",
       "       1874, 1915, 1903, 1832, 1886, 1859, 1818, 1856, 1964, 1959, 1828,\n",
       "       1822, 1867, 1807, 1698, 1875, 1785, 1789, 1863, 1839, 1690, 1836,\n",
       "       1774, 1842, 1899, 1846, 1718, 1840])"
      ]
     },
     "execution_count": 52,
     "metadata": {},
     "output_type": "execute_result"
    }
   ],
   "source": [
    "data['Founded'].unique()"
   ]
  },
  {
   "cell_type": "code",
   "execution_count": 53,
   "metadata": {},
   "outputs": [
    {
     "name": "stdout",
     "output_type": "stream",
     "text": [
      "Founded missing count: 3274\n"
     ]
    }
   ],
   "source": [
    "print('Founded missing count:', len(data[data['Founded'] == -1]))"
   ]
  },
  {
   "cell_type": "code",
   "execution_count": 54,
   "metadata": {},
   "outputs": [
    {
     "data": {
      "image/png": "[encoded data removed]",
      "text/plain": [
       "<Figure size 576x2160 with 1 Axes>"
      ]
     },
     "metadata": {
      "needs_background": "light"
     },
     "output_type": "display_data"
    }
   ],
   "source": [
    "plt.figure(figsize=(8,30))\n",
    "plt.title('Company Found Year')\n",
    "sns.countplot(y = \"Founded\", data=data[data['Founded'] != -1])\n",
    "plt.xticks(rotation=90)\n",
    "plt.show()"
   ]
  },
  {
   "cell_type": "code",
   "execution_count": 58,
   "metadata": {},
   "outputs": [],
   "source": [
    "data['Period'] = data.apply(lambda x: 2020 - x[9] if x[9] != -1 else -1, axis=1)"
   ]
  },
  {
   "cell_type": "markdown",
   "metadata": {},
   "source": [
    "### 處理 Type of owner col"
   ]
  },
  {
   "cell_type": "code",
   "execution_count": 59,
   "metadata": {},
   "outputs": [
    {
     "data": {
      "text/plain": [
       "array(['Company - Private', 'Unknown', 'Company - Public',\n",
       "       'Nonprofit Organization', '-1', 'Government', 'Hospital',\n",
       "       'Self-employed', 'Subsidiary or Business Segment', 'Contract',\n",
       "       'School / School District', 'Private Practice / Firm',\n",
       "       'College / University', 'Franchise', 'Other Organization'],\n",
       "      dtype=object)"
      ]
     },
     "execution_count": 59,
     "metadata": {},
     "output_type": "execute_result"
    }
   ],
   "source": [
    "data['Type of ownership'].unique()"
   ]
  },
  {
   "cell_type": "code",
   "execution_count": 60,
   "metadata": {},
   "outputs": [
    {
     "name": "stdout",
     "output_type": "stream",
     "text": [
      "Type of ownership missing count: 850\n"
     ]
    }
   ],
   "source": [
    "print('Type of ownership missing count:', len(data[(data['Type of ownership'] == '-1') | (data['Type of ownership'] == 'Unknown')]))"
   ]
  },
  {
   "cell_type": "code",
   "execution_count": 61,
   "metadata": {},
   "outputs": [
    {
     "data": {
      "image/png": "[encoded data removed]",
      "text/plain": [
       "<Figure size 432x288 with 1 Axes>"
      ]
     },
     "metadata": {
      "needs_background": "light"
     },
     "output_type": "display_data"
    }
   ],
   "source": [
    "plt.title('Type of ownership')\n",
    "sns.countplot(x = \"Type of ownership\", data=data, order = data['Type of ownership'].value_counts().index)\n",
    "plt.xticks(rotation=90)\n",
    "plt.show()"
   ]
  },
  {
   "cell_type": "markdown",
   "metadata": {},
   "source": [
    "### 處理 Industry col"
   ]
  },
  {
   "cell_type": "code",
   "execution_count": 62,
   "metadata": {},
   "outputs": [
    {
     "data": {
      "text/plain": [
       "['Travel Agencies',\n",
       " 'Health, Beauty, & Fitness',\n",
       " '-1',\n",
       " 'Internet',\n",
       " 'Advertising & Marketing',\n",
       " 'Insurance Carriers',\n",
       " 'Investment Banking & Asset Management',\n",
       " 'Enterprise Software & Network Solutions',\n",
       " 'Other Retail Stores',\n",
       " 'Consulting',\n",
       " 'Research & Development',\n",
       " 'Motion Picture Production & Distribution',\n",
       " 'Brokerage Services',\n",
       " 'IT Services',\n",
       " 'Computer Hardware & Software',\n",
       " 'Security Services',\n",
       " 'Casual Restaurants',\n",
       " 'Food & Beverage Stores',\n",
       " 'Food Production',\n",
       " 'Health Fundraising Organizations',\n",
       " 'Home Furniture & Housewares Stores',\n",
       " 'Financial Analytics & Research',\n",
       " 'Education Training Services',\n",
       " 'Lending',\n",
       " 'Social Assistance',\n",
       " 'Publishing',\n",
       " 'Federal Agencies',\n",
       " 'Health Care Services & Hospitals',\n",
       " 'Oil & Gas Exploration & Production',\n",
       " 'Staffing & Outsourcing',\n",
       " 'Venture Capital & Private Equity',\n",
       " 'Building & Personnel Services',\n",
       " 'Video Games',\n",
       " 'Accounting',\n",
       " 'Consumer Product Rental',\n",
       " 'Food & Beverage Manufacturing',\n",
       " 'Wholesale',\n",
       " 'Banks & Credit Unions',\n",
       " 'Insurance Agencies & Brokerages',\n",
       " 'Municipal Governments',\n",
       " 'Real Estate',\n",
       " 'Biotech & Pharmaceuticals',\n",
       " 'Commercial Equipment Rental',\n",
       " 'Consumer Products Manufacturing',\n",
       " 'Sports & Recreation',\n",
       " 'Stock Exchanges',\n",
       " 'TV Broadcast & Cable Networks',\n",
       " 'Department, Clothing, & Shoe Stores',\n",
       " 'Aerospace & Defense',\n",
       " 'Energy',\n",
       " 'Construction',\n",
       " 'Logistics & Supply Chain',\n",
       " 'Consumer Electronics & Appliances Stores',\n",
       " 'Transportation Management',\n",
       " 'Colleges & Universities',\n",
       " 'Architectural & Engineering Services',\n",
       " 'Beauty & Personal Accessories Stores',\n",
       " 'Grantmaking Foundations',\n",
       " 'Industrial Manufacturing',\n",
       " 'Financial Transaction Processing',\n",
       " 'Electrical & Electronic Manufacturing',\n",
       " 'Legal',\n",
       " 'Farm Support Services',\n",
       " 'Transportation Equipment Manufacturing',\n",
       " 'Cable, Internet & Telephone Providers',\n",
       " 'K-12 Education',\n",
       " 'News Outlet',\n",
       " 'Cruise Ships',\n",
       " 'Chemical Manufacturing',\n",
       " 'Membership Organizations',\n",
       " 'Oil & Gas Services',\n",
       " 'Utilities',\n",
       " 'Telecommunications Services',\n",
       " 'Health Care Products Manufacturing',\n",
       " 'Sporting Goods Stores',\n",
       " 'Automotive Parts & Accessories Stores',\n",
       " 'Telecommunications Manufacturing',\n",
       " 'Gas Stations',\n",
       " 'Pet & Pet Supplies Stores',\n",
       " 'Trucking',\n",
       " 'State & Regional Agencies',\n",
       " 'Vehicle Dealers',\n",
       " 'Truck Rental & Leasing',\n",
       " 'Gambling',\n",
       " 'Metals Brokers',\n",
       " 'Express Delivery Services',\n",
       " 'Radio',\n",
       " 'Grocery Stores & Supermarkets',\n",
       " 'Museums, Zoos & Amusement Parks',\n",
       " 'Audiovisual',\n",
       " 'Fast-Food & Quick-Service Restaurants',\n",
       " 'Shipping',\n",
       " 'Religious Organizations',\n",
       " 'Convenience Stores & Truck Stops',\n",
       " 'Self-Storage Services',\n",
       " 'Auto Repair & Maintenance',\n",
       " 'Photography',\n",
       " 'Music Production & Distribution',\n",
       " 'Miscellaneous Manufacturing',\n",
       " 'Airlines',\n",
       " 'Hotels, Motels, & Resorts',\n",
       " 'Rail',\n",
       " 'General Repair & Maintenance',\n",
       " 'Commercial Equipment Repair & Maintenance',\n",
       " 'Preschool & Child Care',\n",
       " 'Catering & Food Service Contractors',\n",
       " 'Drug & Health Stores',\n",
       " 'Home Centers & Hardware Stores',\n",
       " 'General Merchandise & Superstores',\n",
       " 'Funeral Services',\n",
       " 'Mining',\n",
       " 'Timber Operations',\n",
       " 'Moving Services']"
      ]
     },
     "execution_count": 62,
     "metadata": {},
     "output_type": "execute_result"
    }
   ],
   "source": [
    "list(data['Industry'].unique())"
   ]
  },
  {
   "cell_type": "code",
   "execution_count": 63,
   "metadata": {},
   "outputs": [
    {
     "name": "stdout",
     "output_type": "stream",
     "text": [
      "Industry missing value: 1801\n"
     ]
    }
   ],
   "source": [
    "print('Industry missing value:', len(data[data['Industry'] == '-1']))"
   ]
  },
  {
   "cell_type": "markdown",
   "metadata": {},
   "source": [
    "### 處理 Sector col"
   ]
  },
  {
   "cell_type": "code",
   "execution_count": 64,
   "metadata": {},
   "outputs": [
    {
     "data": {
      "text/plain": [
       "['Travel Agencies',\n",
       " 'Health, Beauty, & Fitness',\n",
       " '-1',\n",
       " 'Internet',\n",
       " 'Advertising & Marketing',\n",
       " 'Insurance Carriers',\n",
       " 'Investment Banking & Asset Management',\n",
       " 'Enterprise Software & Network Solutions',\n",
       " 'Other Retail Stores',\n",
       " 'Consulting',\n",
       " 'Research & Development',\n",
       " 'Motion Picture Production & Distribution',\n",
       " 'Brokerage Services',\n",
       " 'IT Services',\n",
       " 'Computer Hardware & Software',\n",
       " 'Security Services',\n",
       " 'Casual Restaurants',\n",
       " 'Food & Beverage Stores',\n",
       " 'Food Production',\n",
       " 'Health Fundraising Organizations',\n",
       " 'Home Furniture & Housewares Stores',\n",
       " 'Financial Analytics & Research',\n",
       " 'Education Training Services',\n",
       " 'Lending',\n",
       " 'Social Assistance',\n",
       " 'Publishing',\n",
       " 'Federal Agencies',\n",
       " 'Health Care Services & Hospitals',\n",
       " 'Oil & Gas Exploration & Production',\n",
       " 'Staffing & Outsourcing',\n",
       " 'Venture Capital & Private Equity',\n",
       " 'Building & Personnel Services',\n",
       " 'Video Games',\n",
       " 'Accounting',\n",
       " 'Consumer Product Rental',\n",
       " 'Food & Beverage Manufacturing',\n",
       " 'Wholesale',\n",
       " 'Banks & Credit Unions',\n",
       " 'Insurance Agencies & Brokerages',\n",
       " 'Municipal Governments',\n",
       " 'Real Estate',\n",
       " 'Biotech & Pharmaceuticals',\n",
       " 'Commercial Equipment Rental',\n",
       " 'Consumer Products Manufacturing',\n",
       " 'Sports & Recreation',\n",
       " 'Stock Exchanges',\n",
       " 'TV Broadcast & Cable Networks',\n",
       " 'Department, Clothing, & Shoe Stores',\n",
       " 'Aerospace & Defense',\n",
       " 'Energy',\n",
       " 'Construction',\n",
       " 'Logistics & Supply Chain',\n",
       " 'Consumer Electronics & Appliances Stores',\n",
       " 'Transportation Management',\n",
       " 'Colleges & Universities',\n",
       " 'Architectural & Engineering Services',\n",
       " 'Beauty & Personal Accessories Stores',\n",
       " 'Grantmaking Foundations',\n",
       " 'Industrial Manufacturing',\n",
       " 'Financial Transaction Processing',\n",
       " 'Electrical & Electronic Manufacturing',\n",
       " 'Legal',\n",
       " 'Farm Support Services',\n",
       " 'Transportation Equipment Manufacturing',\n",
       " 'Cable, Internet & Telephone Providers',\n",
       " 'K-12 Education',\n",
       " 'News Outlet',\n",
       " 'Cruise Ships',\n",
       " 'Chemical Manufacturing',\n",
       " 'Membership Organizations',\n",
       " 'Oil & Gas Services',\n",
       " 'Utilities',\n",
       " 'Telecommunications Services',\n",
       " 'Health Care Products Manufacturing',\n",
       " 'Sporting Goods Stores',\n",
       " 'Automotive Parts & Accessories Stores',\n",
       " 'Telecommunications Manufacturing',\n",
       " 'Gas Stations',\n",
       " 'Pet & Pet Supplies Stores',\n",
       " 'Trucking',\n",
       " 'State & Regional Agencies',\n",
       " 'Vehicle Dealers',\n",
       " 'Truck Rental & Leasing',\n",
       " 'Gambling',\n",
       " 'Metals Brokers',\n",
       " 'Express Delivery Services',\n",
       " 'Radio',\n",
       " 'Grocery Stores & Supermarkets',\n",
       " 'Museums, Zoos & Amusement Parks',\n",
       " 'Audiovisual',\n",
       " 'Fast-Food & Quick-Service Restaurants',\n",
       " 'Shipping',\n",
       " 'Religious Organizations',\n",
       " 'Convenience Stores & Truck Stops',\n",
       " 'Self-Storage Services',\n",
       " 'Auto Repair & Maintenance',\n",
       " 'Photography',\n",
       " 'Music Production & Distribution',\n",
       " 'Miscellaneous Manufacturing',\n",
       " 'Airlines',\n",
       " 'Hotels, Motels, & Resorts',\n",
       " 'Rail',\n",
       " 'General Repair & Maintenance',\n",
       " 'Commercial Equipment Repair & Maintenance',\n",
       " 'Preschool & Child Care',\n",
       " 'Catering & Food Service Contractors',\n",
       " 'Drug & Health Stores',\n",
       " 'Home Centers & Hardware Stores',\n",
       " 'General Merchandise & Superstores',\n",
       " 'Funeral Services',\n",
       " 'Mining',\n",
       " 'Timber Operations',\n",
       " 'Moving Services']"
      ]
     },
     "execution_count": 64,
     "metadata": {},
     "output_type": "execute_result"
    }
   ],
   "source": [
    "list(data['Industry'].unique())"
   ]
  },
  {
   "cell_type": "code",
   "execution_count": 65,
   "metadata": {},
   "outputs": [
    {
     "name": "stdout",
     "output_type": "stream",
     "text": [
      "Sector missing value: 1798\n"
     ]
    }
   ],
   "source": [
    "print('Sector missing value:',len(data[data['Sector'] == '-1']))"
   ]
  },
  {
   "cell_type": "code",
   "execution_count": 66,
   "metadata": {},
   "outputs": [
    {
     "data": {
      "image/png": "[encoded data removed]",
      "text/plain": [
       "<Figure size 432x288 with 1 Axes>"
      ]
     },
     "metadata": {
      "needs_background": "light"
     },
     "output_type": "display_data"
    }
   ],
   "source": [
    "plt.title('Sector')\n",
    "sns.countplot(x = \"Sector\", data=data, order = data['Sector'].value_counts().index)\n",
    "plt.xticks(rotation=90)\n",
    "plt.show()"
   ]
  },
  {
   "cell_type": "markdown",
   "metadata": {},
   "source": [
    "### 處理 Revenue col"
   ]
  },
  {
   "cell_type": "code",
   "execution_count": 67,
   "metadata": {},
   "outputs": [
    {
     "data": {
      "text/plain": [
       "array(['Unknown / Non-Applicable', '$100 to $500 million (USD)',\n",
       "       '$500 million to $1 billion (USD)', '$10+ billion (USD)',\n",
       "       '$25 to $50 million (USD)', '$1 to $5 million (USD)',\n",
       "       '$5 to $10 billion (USD)', '-1', '$5 to $10 million (USD)',\n",
       "       '$50 to $100 million (USD)', '$1 to $2 billion (USD)',\n",
       "       '$2 to $5 billion (USD)', 'Less than $1 million (USD)',\n",
       "       '$10 to $25 million (USD)'], dtype=object)"
      ]
     },
     "execution_count": 67,
     "metadata": {},
     "output_type": "execute_result"
    }
   ],
   "source": [
    "data['Revenue'].unique()"
   ]
  },
  {
   "cell_type": "code",
   "execution_count": 68,
   "metadata": {},
   "outputs": [
    {
     "name": "stdout",
     "output_type": "stream",
     "text": [
      "Unknown / Non-Applicable rows: 3440\n",
      "Revenue missing rows: 4161\n"
     ]
    }
   ],
   "source": [
    "print('Unknown / Non-Applicable rows:', len(data[data['Revenue'] == 'Unknown / Non-Applicable']))\n",
    "print('Revenue missing rows:', len(data[(data['Revenue'] == 'Unknown / Non-Applicable') | (data['Revenue'] == '-1')]))"
   ]
  },
  {
   "cell_type": "code",
   "execution_count": 69,
   "metadata": {},
   "outputs": [
    {
     "data": {
      "image/png": "[encoded data removed]",
      "text/plain": [
       "<Figure size 432x288 with 1 Axes>"
      ]
     },
     "metadata": {
      "needs_background": "light"
     },
     "output_type": "display_data"
    }
   ],
   "source": [
    "plt.title('Revenue')\n",
    "sns.countplot(x = \"Revenue\", data=data, order = data['Revenue'].value_counts().index)\n",
    "plt.xticks(rotation=90)\n",
    "plt.show()"
   ]
  },
  {
   "cell_type": "markdown",
   "metadata": {},
   "source": [
    "### 處理 Competitor 欄位"
   ]
  },
  {
   "cell_type": "code",
   "execution_count": 70,
   "metadata": {},
   "outputs": [
    {
     "name": "stdout",
     "output_type": "stream",
     "text": [
      "Competitor missing rows: 9227\n"
     ]
    }
   ],
   "source": [
    "print('Competitor missing rows:', len(data[data['Competitors'] == '-1']))"
   ]
  },
  {
   "cell_type": "code",
   "execution_count": 71,
   "metadata": {},
   "outputs": [
    {
     "name": "stdout",
     "output_type": "stream",
     "text": [
      "<class 'pandas.core.frame.DataFrame'>\n",
      "Int64Index: 12781 entries, 0 to 4091\n",
      "Data columns (total 23 columns):\n",
      " #   Column             Non-Null Count  Dtype  \n",
      "---  ------             --------------  -----  \n",
      " 0   Type               12781 non-null  object \n",
      " 1   Job Title          12781 non-null  object \n",
      " 2   Salary Estimate    12781 non-null  object \n",
      " 3   Job Description    12781 non-null  object \n",
      " 4   Rating             12781 non-null  float64\n",
      " 5   Company Name       12780 non-null  object \n",
      " 6   Location           12781 non-null  object \n",
      " 7   Headquarters       12781 non-null  object \n",
      " 8   Size               12781 non-null  object \n",
      " 9   Founded            12781 non-null  int32  \n",
      " 10  Type of ownership  12781 non-null  object \n",
      " 11  Industry           12781 non-null  object \n",
      " 12  Sector             12781 non-null  object \n",
      " 13  Revenue            12781 non-null  object \n",
      " 14  Competitors        12781 non-null  object \n",
      " 15  Easy Apply         12781 non-null  object \n",
      " 16  Salary Min         12781 non-null  float64\n",
      " 17  Salary Max         12781 non-null  float64\n",
      " 18  Salary Avg         12781 non-null  float64\n",
      " 19  Location City      12781 non-null  object \n",
      " 20  Location State     12781 non-null  object \n",
      " 21  Headquarter State  12781 non-null  object \n",
      " 22  Period             12781 non-null  int64  \n",
      "dtypes: float64(4), int32(1), int64(1), object(17)\n",
      "memory usage: 2.6+ MB\n"
     ]
    }
   ],
   "source": [
    "data.info()"
   ]
  },
  {
   "cell_type": "code",
   "execution_count": 72,
   "metadata": {},
   "outputs": [],
   "source": [
    "data['Competitors Count'] = data.apply(lambda x: len(x[14]), axis=1)"
   ]
  },
  {
   "cell_type": "markdown",
   "metadata": {},
   "source": [
    "### 處理 Easy Apply Col"
   ]
  },
  {
   "cell_type": "code",
   "execution_count": 73,
   "metadata": {},
   "outputs": [
    {
     "data": {
      "image/png": "[encoded data removed]",
      "text/plain": [
       "<Figure size 432x288 with 1 Axes>"
      ]
     },
     "metadata": {},
     "output_type": "display_data"
    }
   ],
   "source": [
    "ea_count = pd.DataFrame(data.groupby(by=['Easy Apply']).size(), columns = ['Count'])\n",
    "colors = sns.color_palette('pastel')[0:10]\n",
    "\n",
    "plt.pie(ea_count['Count'], labels = list(ea_count.index), colors = colors, autopct='%.0f%%')\n",
    "plt.title('Eazy Apply')\n",
    "plt.show()"
   ]
  },
  {
   "cell_type": "code",
   "execution_count": 74,
   "metadata": {},
   "outputs": [],
   "source": [
    "data.loc[data['Easy Apply'] == 'True', 'Easy Apply'] = 1"
   ]
  },
  {
   "cell_type": "code",
   "execution_count": 75,
   "metadata": {},
   "outputs": [],
   "source": [
    "data['Easy Apply'] = data['Easy Apply'].astype(int)"
   ]
  },
  {
   "cell_type": "markdown",
   "metadata": {},
   "source": [
    "## (2) 敘述型統計"
   ]
  },
  {
   "cell_type": "code",
   "execution_count": 76,
   "metadata": {},
   "outputs": [
    {
     "data": {
      "text/html": [
       "<div>\n",
       "<style scoped>\n",
       "    .dataframe tbody tr th:only-of-type {\n",
       "        vertical-align: middle;\n",
       "    }\n",
       "\n",
       "    .dataframe tbody tr th {\n",
       "        vertical-align: top;\n",
       "    }\n",
       "\n",
       "    .dataframe thead th {\n",
       "        text-align: right;\n",
       "    }\n",
       "</style>\n",
       "<table border=\"1\" class=\"dataframe\">\n",
       "  <thead>\n",
       "    <tr style=\"text-align: right;\">\n",
       "      <th></th>\n",
       "      <th>Rating</th>\n",
       "      <th>Founded</th>\n",
       "      <th>Easy Apply</th>\n",
       "      <th>Salary Min</th>\n",
       "      <th>Salary Max</th>\n",
       "      <th>Salary Avg</th>\n",
       "      <th>Period</th>\n",
       "      <th>Competitors Count</th>\n",
       "    </tr>\n",
       "  </thead>\n",
       "  <tbody>\n",
       "    <tr>\n",
       "      <th>count</th>\n",
       "      <td>12781.000000</td>\n",
       "      <td>12781.000000</td>\n",
       "      <td>12781.000000</td>\n",
       "      <td>12781.000000</td>\n",
       "      <td>12781.000000</td>\n",
       "      <td>12781.000000</td>\n",
       "      <td>12781.000000</td>\n",
       "      <td>12781.000000</td>\n",
       "    </tr>\n",
       "    <tr>\n",
       "      <th>mean</th>\n",
       "      <td>3.300829</td>\n",
       "      <td>1469.903842</td>\n",
       "      <td>-0.918003</td>\n",
       "      <td>67.490149</td>\n",
       "      <td>112.637283</td>\n",
       "      <td>90.063716</td>\n",
       "      <td>32.137626</td>\n",
       "      <td>11.100462</td>\n",
       "    </tr>\n",
       "    <tr>\n",
       "      <th>std</th>\n",
       "      <td>1.552548</td>\n",
       "      <td>864.232745</td>\n",
       "      <td>0.396588</td>\n",
       "      <td>29.684073</td>\n",
       "      <td>41.713273</td>\n",
       "      <td>34.662006</td>\n",
       "      <td>46.224319</td>\n",
       "      <td>16.647677</td>\n",
       "    </tr>\n",
       "    <tr>\n",
       "      <th>min</th>\n",
       "      <td>-1.000000</td>\n",
       "      <td>-1.000000</td>\n",
       "      <td>-1.000000</td>\n",
       "      <td>7.200000</td>\n",
       "      <td>18.720000</td>\n",
       "      <td>12.960000</td>\n",
       "      <td>-1.000000</td>\n",
       "      <td>2.000000</td>\n",
       "    </tr>\n",
       "    <tr>\n",
       "      <th>25%</th>\n",
       "      <td>3.200000</td>\n",
       "      <td>-1.000000</td>\n",
       "      <td>-1.000000</td>\n",
       "      <td>45.000000</td>\n",
       "      <td>81.000000</td>\n",
       "      <td>63.000000</td>\n",
       "      <td>-1.000000</td>\n",
       "      <td>2.000000</td>\n",
       "    </tr>\n",
       "    <tr>\n",
       "      <th>50%</th>\n",
       "      <td>3.700000</td>\n",
       "      <td>1981.000000</td>\n",
       "      <td>-1.000000</td>\n",
       "      <td>59.000000</td>\n",
       "      <td>103.000000</td>\n",
       "      <td>82.000000</td>\n",
       "      <td>18.000000</td>\n",
       "      <td>2.000000</td>\n",
       "    </tr>\n",
       "    <tr>\n",
       "      <th>75%</th>\n",
       "      <td>4.100000</td>\n",
       "      <td>2002.000000</td>\n",
       "      <td>-1.000000</td>\n",
       "      <td>84.000000</td>\n",
       "      <td>138.000000</td>\n",
       "      <td>111.000000</td>\n",
       "      <td>37.000000</td>\n",
       "      <td>16.000000</td>\n",
       "    </tr>\n",
       "    <tr>\n",
       "      <th>max</th>\n",
       "      <td>5.000000</td>\n",
       "      <td>2020.000000</td>\n",
       "      <td>1.000000</td>\n",
       "      <td>200.000000</td>\n",
       "      <td>281.000000</td>\n",
       "      <td>225.000000</td>\n",
       "      <td>395.000000</td>\n",
       "      <td>104.000000</td>\n",
       "    </tr>\n",
       "  </tbody>\n",
       "</table>\n",
       "</div>"
      ],
      "text/plain": [
       "             Rating       Founded    Easy Apply    Salary Min    Salary Max  \\\n",
       "count  12781.000000  12781.000000  12781.000000  12781.000000  12781.000000   \n",
       "mean       3.300829   1469.903842     -0.918003     67.490149    112.637283   \n",
       "std        1.552548    864.232745      0.396588     29.684073     41.713273   \n",
       "min       -1.000000     -1.000000     -1.000000      7.200000     18.720000   \n",
       "25%        3.200000     -1.000000     -1.000000     45.000000     81.000000   \n",
       "50%        3.700000   1981.000000     -1.000000     59.000000    103.000000   \n",
       "75%        4.100000   2002.000000     -1.000000     84.000000    138.000000   \n",
       "max        5.000000   2020.000000      1.000000    200.000000    281.000000   \n",
       "\n",
       "         Salary Avg        Period  Competitors Count  \n",
       "count  12781.000000  12781.000000       12781.000000  \n",
       "mean      90.063716     32.137626          11.100462  \n",
       "std       34.662006     46.224319          16.647677  \n",
       "min       12.960000     -1.000000           2.000000  \n",
       "25%       63.000000     -1.000000           2.000000  \n",
       "50%       82.000000     18.000000           2.000000  \n",
       "75%      111.000000     37.000000          16.000000  \n",
       "max      225.000000    395.000000         104.000000  "
      ]
     },
     "execution_count": 76,
     "metadata": {},
     "output_type": "execute_result"
    }
   ],
   "source": [
    "data.describe()"
   ]
  },
  {
   "cell_type": "code",
   "execution_count": 77,
   "metadata": {},
   "outputs": [
    {
     "data": {
      "text/plain": [
       "<AxesSubplot:xlabel='Salary Max', ylabel='Type'>"
      ]
     },
     "execution_count": 77,
     "metadata": {},
     "output_type": "execute_result"
    },
    {
     "data": {
      "image/png": "[encoded data removed]",
      "text/plain": [
       "<Figure size 1440x288 with 2 Axes>"
      ]
     },
     "metadata": {
      "needs_background": "light"
     },
     "output_type": "display_data"
    }
   ],
   "source": [
    "f, axes = plt.subplots(nrows=1, ncols=2, figsize=(20, 4))\n",
    "sns.boxplot(data=data, x=\"Salary Min\", y=\"Type\", ax=axes[0])\n",
    "sns.boxplot(data=data, x=\"Salary Max\", y=\"Type\", ax=axes[1])"
   ]
  },
  {
   "cell_type": "code",
   "execution_count": 90,
   "metadata": {},
   "outputs": [],
   "source": [
    "salary_df = data.groupby(by=['Type']).mean()[['Salary Avg']]"
   ]
  },
  {
   "cell_type": "code",
   "execution_count": 93,
   "metadata": {},
   "outputs": [
    {
     "data": {
      "image/png": "[encoded data removed]",
      "text/plain": [
       "<Figure size 432x288 with 1 Axes>"
      ]
     },
     "metadata": {
      "needs_background": "light"
     },
     "output_type": "display_data"
    }
   ],
   "source": [
    "types = salary_df.index\n",
    "x = np.arange(len(types))\n",
    "plt.bar(x, salary_df['Salary Avg'], color=sns.color_palette('pastel')[0:4])\n",
    "plt.xticks(x, types)\n",
    "plt.ylabel('Avg Salary')\n",
    "plt.show()"
   ]
  },
  {
   "cell_type": "markdown",
   "metadata": {},
   "source": [
    "## (3) 缺失值"
   ]
  },
  {
   "cell_type": "code",
   "execution_count": 78,
   "metadata": {},
   "outputs": [
    {
     "data": {
      "text/plain": [
       "Type                 0\n",
       "Job Title            0\n",
       "Salary Estimate      0\n",
       "Job Description      0\n",
       "Rating               0\n",
       "Company Name         1\n",
       "Location             0\n",
       "Headquarters         0\n",
       "Size                 0\n",
       "Founded              0\n",
       "Type of ownership    0\n",
       "Industry             0\n",
       "Sector               0\n",
       "Revenue              0\n",
       "Competitors          0\n",
       "Easy Apply           0\n",
       "Salary Min           0\n",
       "Salary Max           0\n",
       "Salary Avg           0\n",
       "Location City        0\n",
       "Location State       0\n",
       "Headquarter State    0\n",
       "Period               0\n",
       "Competitors Count    0\n",
       "dtype: int64"
      ]
     },
     "execution_count": 78,
     "metadata": {},
     "output_type": "execute_result"
    }
   ],
   "source": [
    "data.isna().sum()"
   ]
  },
  {
   "cell_type": "code",
   "execution_count": 79,
   "metadata": {},
   "outputs": [
    {
     "data": {
      "text/html": [
       "<div>\n",
       "<style scoped>\n",
       "    .dataframe tbody tr th:only-of-type {\n",
       "        vertical-align: middle;\n",
       "    }\n",
       "\n",
       "    .dataframe tbody tr th {\n",
       "        vertical-align: top;\n",
       "    }\n",
       "\n",
       "    .dataframe thead th {\n",
       "        text-align: right;\n",
       "    }\n",
       "</style>\n",
       "<table border=\"1\" class=\"dataframe\">\n",
       "  <thead>\n",
       "    <tr style=\"text-align: right;\">\n",
       "      <th></th>\n",
       "      <th>Type</th>\n",
       "      <th>Job Title</th>\n",
       "      <th>Salary Estimate</th>\n",
       "      <th>Job Description</th>\n",
       "      <th>Rating</th>\n",
       "      <th>Company Name</th>\n",
       "      <th>Location</th>\n",
       "      <th>Headquarters</th>\n",
       "      <th>Size</th>\n",
       "      <th>Founded</th>\n",
       "      <th>...</th>\n",
       "      <th>Competitors</th>\n",
       "      <th>Easy Apply</th>\n",
       "      <th>Salary Min</th>\n",
       "      <th>Salary Max</th>\n",
       "      <th>Salary Avg</th>\n",
       "      <th>Location City</th>\n",
       "      <th>Location State</th>\n",
       "      <th>Headquarter State</th>\n",
       "      <th>Period</th>\n",
       "      <th>Competitors Count</th>\n",
       "    </tr>\n",
       "  </thead>\n",
       "  <tbody>\n",
       "    <tr>\n",
       "      <th>1860</th>\n",
       "      <td>Data Analyst</td>\n",
       "      <td>Data Analyst</td>\n",
       "      <td>$53K-$99K (Glassdoor est.)</td>\n",
       "      <td>Kindred at Home, part of the Kindred at Home f...</td>\n",
       "      <td>-1.0</td>\n",
       "      <td>NaN</td>\n",
       "      <td>Mooresville, NC</td>\n",
       "      <td>-1</td>\n",
       "      <td>-1</td>\n",
       "      <td>-1</td>\n",
       "      <td>...</td>\n",
       "      <td>-1</td>\n",
       "      <td>-1</td>\n",
       "      <td>53.0</td>\n",
       "      <td>99.0</td>\n",
       "      <td>76.0</td>\n",
       "      <td>Mooresville</td>\n",
       "      <td>NC</td>\n",
       "      <td>-1</td>\n",
       "      <td>-1</td>\n",
       "      <td>2</td>\n",
       "    </tr>\n",
       "  </tbody>\n",
       "</table>\n",
       "<p>1 rows × 24 columns</p>\n",
       "</div>"
      ],
      "text/plain": [
       "              Type     Job Title             Salary Estimate  \\\n",
       "1860  Data Analyst  Data Analyst  $53K-$99K (Glassdoor est.)   \n",
       "\n",
       "                                        Job Description  Rating Company Name  \\\n",
       "1860  Kindred at Home, part of the Kindred at Home f...    -1.0          NaN   \n",
       "\n",
       "             Location Headquarters Size  Founded  ... Competitors Easy Apply  \\\n",
       "1860  Mooresville, NC           -1   -1       -1  ...          -1         -1   \n",
       "\n",
       "     Salary Min Salary Max Salary Avg  Location City  Location State  \\\n",
       "1860       53.0       99.0       76.0    Mooresville              NC   \n",
       "\n",
       "      Headquarter State  Period Competitors Count  \n",
       "1860                 -1      -1                 2  \n",
       "\n",
       "[1 rows x 24 columns]"
      ]
     },
     "execution_count": 79,
     "metadata": {},
     "output_type": "execute_result"
    }
   ],
   "source": [
    "data[pd.isnull(data).any(axis=1)]"
   ]
  },
  {
   "cell_type": "markdown",
   "metadata": {},
   "source": [
    "因為只有一個資料的 Company Name 是空值，所以移除他"
   ]
  },
  {
   "cell_type": "code",
   "execution_count": 80,
   "metadata": {},
   "outputs": [],
   "source": [
    "data = data[~pd.isnull(data).any(axis=1)]"
   ]
  },
  {
   "cell_type": "markdown",
   "metadata": {},
   "source": [
    "依據前一步驟調查的所有欄位結果，列出所有有資料不全的 rows"
   ]
  },
  {
   "cell_type": "code",
   "execution_count": 81,
   "metadata": {},
   "outputs": [
    {
     "data": {
      "text/plain": [
       "7204"
      ]
     },
     "execution_count": 81,
     "metadata": {},
     "output_type": "execute_result"
    }
   ],
   "source": [
    "len(data[~((data['Rating'] < 0) | (data['Headquarters'] == '-1') | (data['Size'] == '-1') | (data['Size'] == 'Unknown') | (data['Founded'] == -1) | (data['Type of ownership'] == '-1') | (data['Type of ownership'] == 'Unknown') | (data['Industry'] == '-1') | (data['Sector'] == '-1') | (data['Revenue'] == '-1') | (data['Revenue'] == 'Unknown / Non-Applicable'))])"
   ]
  },
  {
   "cell_type": "code",
   "execution_count": 84,
   "metadata": {},
   "outputs": [
    {
     "name": "stdout",
     "output_type": "stream",
     "text": [
      "Columns list: Index(['Type', 'Job Title', 'Salary Estimate', 'Job Description', 'Rating',\n",
      "       'Company Name', 'Location', 'Headquarters', 'Size', 'Founded',\n",
      "       'Type of ownership', 'Industry', 'Sector', 'Revenue', 'Competitors',\n",
      "       'Easy Apply', 'Salary Min', 'Salary Max', 'Salary Avg', 'Location City',\n",
      "       'Location State', 'Headquarter State', 'Period', 'Competitors Count'],\n",
      "      dtype='object')\n",
      "Total Columns: 24\n"
     ]
    }
   ],
   "source": [
    "print('Columns list:', data.columns)\n",
    "print('Total Columns:', len(data.columns))"
   ]
  },
  {
   "cell_type": "code",
   "execution_count": 85,
   "metadata": {},
   "outputs": [],
   "source": [
    "data.to_csv('Preliminary Processed Data.csv', index=False)"
   ]
  },
  {
   "cell_type": "code",
   "execution_count": null,
   "metadata": {},
   "outputs": [],
   "source": []
  }
 ],
 "metadata": {
  "kernelspec": {
   "display_name": "Python 3",
   "language": "python",
   "name": "python3"
  },
  "language_info": {
   "codemirror_mode": {
    "name": "ipython",
    "version": 3
   },
   "file_extension": ".py",
   "mimetype": "text/x-python",
   "name": "python",
   "nbconvert_exporter": "python",
   "pygments_lexer": "ipython3",
   "version": "3.7.1"
  }
 },
 "nbformat": 4,
 "nbformat_minor": 4
}
